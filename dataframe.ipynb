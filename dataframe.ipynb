{
 "cells": [
  {
   "cell_type": "code",
   "execution_count": 2,
   "metadata": {},
   "outputs": [
    {
     "data": {
      "text/html": [
       "<div>\n",
       "<style scoped>\n",
       "    .dataframe tbody tr th:only-of-type {\n",
       "        vertical-align: middle;\n",
       "    }\n",
       "\n",
       "    .dataframe tbody tr th {\n",
       "        vertical-align: top;\n",
       "    }\n",
       "\n",
       "    .dataframe thead th {\n",
       "        text-align: right;\n",
       "    }\n",
       "</style>\n",
       "<table border=\"1\" class=\"dataframe\">\n",
       "  <thead>\n",
       "    <tr style=\"text-align: right;\">\n",
       "      <th></th>\n",
       "      <th>name</th>\n",
       "      <th>ctg</th>\n",
       "      <th>val</th>\n",
       "      <th>val2</th>\n",
       "    </tr>\n",
       "  </thead>\n",
       "  <tbody>\n",
       "    <tr>\n",
       "      <th>0</th>\n",
       "      <td>Jane</td>\n",
       "      <td>A</td>\n",
       "      <td>0.38</td>\n",
       "      <td>2</td>\n",
       "    </tr>\n",
       "    <tr>\n",
       "      <th>1</th>\n",
       "      <td>John</td>\n",
       "      <td>A</td>\n",
       "      <td>0.34</td>\n",
       "      <td>6</td>\n",
       "    </tr>\n",
       "    <tr>\n",
       "      <th>2</th>\n",
       "      <td>Ashley</td>\n",
       "      <td>C</td>\n",
       "      <td>0.15</td>\n",
       "      <td>8</td>\n",
       "    </tr>\n",
       "    <tr>\n",
       "      <th>3</th>\n",
       "      <td>Mike</td>\n",
       "      <td>B</td>\n",
       "      <td>0.05</td>\n",
       "      <td>7</td>\n",
       "    </tr>\n",
       "    <tr>\n",
       "      <th>4</th>\n",
       "      <td>Emily</td>\n",
       "      <td>B</td>\n",
       "      <td>0.46</td>\n",
       "      <td>3</td>\n",
       "    </tr>\n",
       "  </tbody>\n",
       "</table>\n",
       "</div>"
      ],
      "text/plain": [
       "     name ctg   val  val2\n",
       "0    Jane   A  0.38     2\n",
       "1    John   A  0.34     6\n",
       "2  Ashley   C  0.15     8\n",
       "3    Mike   B  0.05     7\n",
       "4   Emily   B  0.46     3"
      ]
     },
     "execution_count": 2,
     "metadata": {},
     "output_type": "execute_result"
    }
   ],
   "source": [
    "import numpy as np\n",
    "import pandas as pd\n",
    "df = pd.DataFrame({\n",
    "'name':['Jane','John','Ashley','Mike','Emily','Jack','Catlin'],\n",
    "'ctg':['A','A','C','B','B','C','B'],\n",
    "'val':np.random.random(7).round(2),\n",
    "'val2':np.random.randint(1,10, size=7)\n",
    "})\n",
    "df.head()"
   ]
  },
  {
   "cell_type": "code",
   "execution_count": 21,
   "metadata": {},
   "outputs": [
    {
     "name": "stdout",
     "output_type": "stream",
     "text": [
      "    name ctg   val  val2\n",
      "3   Mike   B  0.98     3\n",
      "4  Emily   B  0.72     5\n",
      "    name ctg   val  val2\n",
      "3   Mike   B  0.98     3\n",
      "4  Emily   B  0.72     5\n",
      "5   Jack   C  0.77     5\n"
     ]
    }
   ],
   "source": [
    "# 0. loc ve iloc\n",
    "#df.index = ['a','b','c','d','e','f','g']\n",
    "print(df.iloc[3:5, :])\n",
    "# If the dataframe has integer index, the indices and labels of the rows are the same. Thus, both loc and iloc accomplished the same thing on the rows.\n",
    "print(df.loc[3:5, :])"
   ]
  },
  {
   "cell_type": "code",
   "execution_count": 22,
   "metadata": {},
   "outputs": [
    {
     "name": "stdout",
     "output_type": "stream",
     "text": [
      "    val  val2\n",
      "0  0.89     7\n",
      "1  0.37     7\n",
      "2  0.17     1\n",
      "3  0.98     3\n",
      "4  0.72     5\n",
      "5  0.77     5\n",
      "6  0.67     1\n",
      "0    0.89\n",
      "1    0.37\n",
      "2    0.17\n",
      "3    0.98\n",
      "4    0.72\n",
      "5    0.77\n",
      "6    0.67\n",
      "Name: val, dtype: float64\n"
     ]
    }
   ],
   "source": [
    "print(df.iloc[:,-2:])\n",
    "print(df.iloc[:,-2])"
   ]
  },
  {
   "cell_type": "code",
   "execution_count": 2,
   "metadata": {},
   "outputs": [
    {
     "name": "stdout",
     "output_type": "stream",
     "text": [
      "<class 'pandas.core.frame.DataFrame'>\n"
     ]
    },
    {
     "data": {
      "text/html": [
       "<div>\n",
       "<style scoped>\n",
       "    .dataframe tbody tr th:only-of-type {\n",
       "        vertical-align: middle;\n",
       "    }\n",
       "\n",
       "    .dataframe tbody tr th {\n",
       "        vertical-align: top;\n",
       "    }\n",
       "\n",
       "    .dataframe thead th {\n",
       "        text-align: right;\n",
       "    }\n",
       "</style>\n",
       "<table border=\"1\" class=\"dataframe\">\n",
       "  <thead>\n",
       "    <tr style=\"text-align: right;\">\n",
       "      <th></th>\n",
       "      <th>name</th>\n",
       "      <th>ctg</th>\n",
       "      <th>val</th>\n",
       "      <th>val2</th>\n",
       "    </tr>\n",
       "  </thead>\n",
       "  <tbody>\n",
       "    <tr>\n",
       "      <th>3</th>\n",
       "      <td>Mike</td>\n",
       "      <td>B</td>\n",
       "      <td>0.51</td>\n",
       "      <td>5</td>\n",
       "    </tr>\n",
       "  </tbody>\n",
       "</table>\n",
       "</div>"
      ],
      "text/plain": [
       "   name ctg   val  val2\n",
       "3  Mike   B  0.51     5"
      ]
     },
     "execution_count": 2,
     "metadata": {},
     "output_type": "execute_result"
    }
   ],
   "source": [
    "# 1. Logical Operators\n",
    "print(type(df[df.val > 0.5]))\n",
    "df[(df.val > 0.5) & (df.name > 'Jane')]"
   ]
  },
  {
   "cell_type": "code",
   "execution_count": 7,
   "metadata": {},
   "outputs": [
    {
     "data": {
      "text/html": [
       "<div>\n",
       "<style scoped>\n",
       "    .dataframe tbody tr th:only-of-type {\n",
       "        vertical-align: middle;\n",
       "    }\n",
       "\n",
       "    .dataframe tbody tr th {\n",
       "        vertical-align: top;\n",
       "    }\n",
       "\n",
       "    .dataframe thead th {\n",
       "        text-align: right;\n",
       "    }\n",
       "</style>\n",
       "<table border=\"1\" class=\"dataframe\">\n",
       "  <thead>\n",
       "    <tr style=\"text-align: right;\">\n",
       "      <th></th>\n",
       "      <th>name</th>\n",
       "      <th>ctg</th>\n",
       "      <th>val</th>\n",
       "      <th>val2</th>\n",
       "    </tr>\n",
       "  </thead>\n",
       "  <tbody>\n",
       "    <tr>\n",
       "      <th>1</th>\n",
       "      <td>John</td>\n",
       "      <td>A</td>\n",
       "      <td>0.37</td>\n",
       "      <td>7</td>\n",
       "    </tr>\n",
       "    <tr>\n",
       "      <th>3</th>\n",
       "      <td>Mike</td>\n",
       "      <td>B</td>\n",
       "      <td>0.98</td>\n",
       "      <td>3</td>\n",
       "    </tr>\n",
       "  </tbody>\n",
       "</table>\n",
       "</div>"
      ],
      "text/plain": [
       "   name ctg   val  val2\n",
       "1  John   A  0.37     7\n",
       "3  Mike   B  0.98     3"
      ]
     },
     "execution_count": 7,
     "metadata": {},
     "output_type": "execute_result"
    }
   ],
   "source": [
    "#2. isin method\n",
    "names = ['John','Mike']\n",
    "df[df.name.isin(names)]"
   ]
  },
  {
   "cell_type": "code",
   "execution_count": 8,
   "metadata": {},
   "outputs": [
    {
     "name": "stdout",
     "output_type": "stream",
     "text": [
      "   name ctg   val  val2\n",
      "0  Jane   A  0.89     7\n",
      "1  John   A  0.37     7\n",
      "5  Jack   C  0.77     5\n",
      "     name ctg   val  val2\n",
      "2  Ashley   C  0.17     1\n",
      "4   Emily   B  0.72     5\n"
     ]
    }
   ],
   "source": [
    "#3. string manipulation\n",
    "print(df[df.name.str.startswith('J')])\n",
    "print(df[df.name.str.contains('y')])"
   ]
  },
  {
   "cell_type": "code",
   "execution_count": 12,
   "metadata": {},
   "outputs": [
    {
     "data": {
      "text/html": [
       "<div>\n",
       "<style scoped>\n",
       "    .dataframe tbody tr th:only-of-type {\n",
       "        vertical-align: middle;\n",
       "    }\n",
       "\n",
       "    .dataframe tbody tr th {\n",
       "        vertical-align: top;\n",
       "    }\n",
       "\n",
       "    .dataframe thead th {\n",
       "        text-align: right;\n",
       "    }\n",
       "</style>\n",
       "<table border=\"1\" class=\"dataframe\">\n",
       "  <thead>\n",
       "    <tr style=\"text-align: right;\">\n",
       "      <th></th>\n",
       "      <th>name</th>\n",
       "      <th>ctg</th>\n",
       "      <th>val</th>\n",
       "      <th>val2</th>\n",
       "    </tr>\n",
       "  </thead>\n",
       "  <tbody>\n",
       "    <tr>\n",
       "      <th>2</th>\n",
       "      <td>Ashley</td>\n",
       "      <td>C</td>\n",
       "      <td>0.17</td>\n",
       "      <td>1</td>\n",
       "    </tr>\n",
       "    <tr>\n",
       "      <th>3</th>\n",
       "      <td>Mike</td>\n",
       "      <td>B</td>\n",
       "      <td>0.98</td>\n",
       "      <td>3</td>\n",
       "    </tr>\n",
       "    <tr>\n",
       "      <th>4</th>\n",
       "      <td>Emily</td>\n",
       "      <td>B</td>\n",
       "      <td>0.72</td>\n",
       "      <td>5</td>\n",
       "    </tr>\n",
       "    <tr>\n",
       "      <th>6</th>\n",
       "      <td>Catlin</td>\n",
       "      <td>B</td>\n",
       "      <td>0.67</td>\n",
       "      <td>1</td>\n",
       "    </tr>\n",
       "  </tbody>\n",
       "</table>\n",
       "</div>"
      ],
      "text/plain": [
       "     name ctg   val  val2\n",
       "2  Ashley   C  0.17     1\n",
       "3    Mike   B  0.98     3\n",
       "4   Emily   B  0.72     5\n",
       "6  Catlin   B  0.67     1"
      ]
     },
     "execution_count": 12,
     "metadata": {},
     "output_type": "execute_result"
    }
   ],
   "source": [
    "#4. NOT LOGIC, tilde\n",
    "df[~df.name.str.startswith('J')]"
   ]
  },
  {
   "cell_type": "code",
   "execution_count": 13,
   "metadata": {},
   "outputs": [
    {
     "data": {
      "text/html": [
       "<div>\n",
       "<style scoped>\n",
       "    .dataframe tbody tr th:only-of-type {\n",
       "        vertical-align: middle;\n",
       "    }\n",
       "\n",
       "    .dataframe tbody tr th {\n",
       "        vertical-align: top;\n",
       "    }\n",
       "\n",
       "    .dataframe thead th {\n",
       "        text-align: right;\n",
       "    }\n",
       "</style>\n",
       "<table border=\"1\" class=\"dataframe\">\n",
       "  <thead>\n",
       "    <tr style=\"text-align: right;\">\n",
       "      <th></th>\n",
       "      <th>name</th>\n",
       "      <th>ctg</th>\n",
       "      <th>val</th>\n",
       "      <th>val2</th>\n",
       "    </tr>\n",
       "  </thead>\n",
       "  <tbody>\n",
       "    <tr>\n",
       "      <th>3</th>\n",
       "      <td>Mike</td>\n",
       "      <td>B</td>\n",
       "      <td>0.98</td>\n",
       "      <td>3</td>\n",
       "    </tr>\n",
       "    <tr>\n",
       "      <th>4</th>\n",
       "      <td>Emily</td>\n",
       "      <td>B</td>\n",
       "      <td>0.72</td>\n",
       "      <td>5</td>\n",
       "    </tr>\n",
       "    <tr>\n",
       "      <th>6</th>\n",
       "      <td>Catlin</td>\n",
       "      <td>B</td>\n",
       "      <td>0.67</td>\n",
       "      <td>1</td>\n",
       "    </tr>\n",
       "  </tbody>\n",
       "</table>\n",
       "</div>"
      ],
      "text/plain": [
       "     name ctg   val  val2\n",
       "3    Mike   B  0.98     3\n",
       "4   Emily   B  0.72     5\n",
       "6  Catlin   B  0.67     1"
      ]
     },
     "execution_count": 13,
     "metadata": {},
     "output_type": "execute_result"
    }
   ],
   "source": [
    "#5. QUERY !!!!!!\n",
    "df.query('ctg == \"B\" and val > 0.5')"
   ]
  },
  {
   "cell_type": "code",
   "execution_count": 14,
   "metadata": {},
   "outputs": [
    {
     "data": {
      "text/html": [
       "<div>\n",
       "<style scoped>\n",
       "    .dataframe tbody tr th:only-of-type {\n",
       "        vertical-align: middle;\n",
       "    }\n",
       "\n",
       "    .dataframe tbody tr th {\n",
       "        vertical-align: top;\n",
       "    }\n",
       "\n",
       "    .dataframe thead th {\n",
       "        text-align: right;\n",
       "    }\n",
       "</style>\n",
       "<table border=\"1\" class=\"dataframe\">\n",
       "  <thead>\n",
       "    <tr style=\"text-align: right;\">\n",
       "      <th></th>\n",
       "      <th>name</th>\n",
       "      <th>ctg</th>\n",
       "      <th>val</th>\n",
       "      <th>val2</th>\n",
       "    </tr>\n",
       "  </thead>\n",
       "  <tbody>\n",
       "    <tr>\n",
       "      <th>3</th>\n",
       "      <td>Mike</td>\n",
       "      <td>B</td>\n",
       "      <td>0.98</td>\n",
       "      <td>3</td>\n",
       "    </tr>\n",
       "    <tr>\n",
       "      <th>0</th>\n",
       "      <td>Jane</td>\n",
       "      <td>A</td>\n",
       "      <td>0.89</td>\n",
       "      <td>7</td>\n",
       "    </tr>\n",
       "    <tr>\n",
       "      <th>5</th>\n",
       "      <td>Jack</td>\n",
       "      <td>C</td>\n",
       "      <td>0.77</td>\n",
       "      <td>5</td>\n",
       "    </tr>\n",
       "  </tbody>\n",
       "</table>\n",
       "</div>"
      ],
      "text/plain": [
       "   name ctg   val  val2\n",
       "3  Mike   B  0.98     3\n",
       "0  Jane   A  0.89     7\n",
       "5  Jack   C  0.77     5"
      ]
     },
     "execution_count": 14,
     "metadata": {},
     "output_type": "execute_result"
    }
   ],
   "source": [
    "#6. Nlargest or Nsmallest\n",
    "df.nlargest(3, 'val')"
   ]
  },
  {
   "cell_type": "code",
   "execution_count": 3,
   "metadata": {},
   "outputs": [
    {
     "name": "stdout",
     "output_type": "stream",
     "text": [
      "   A  B  C  D  E\n",
      "0  5  5  0  3  8\n",
      "1  6  5  5  8  7\n",
      "2  0  1  8  5  2\n",
      "3  9  2  6  6  6\n",
      "4  3  9  4  8  3\n",
      "A    23\n",
      "B    22\n",
      "C    23\n",
      "D    30\n",
      "E    26\n",
      "dtype: int64\n",
      "0    21\n",
      "1    31\n",
      "2    16\n",
      "3    29\n",
      "4    27\n",
      "dtype: int64\n"
     ]
    }
   ],
   "source": [
    "df = pd.DataFrame(\n",
    "    np.random.randint(10, size=(5,5)), \n",
    "    columns=list(\"ABCDE\")\n",
    ")\n",
    "print(df)\n",
    "print(df.sum(axis=0))\n",
    "print(df.sum(axis=1))"
   ]
  },
  {
   "cell_type": "code",
   "execution_count": 4,
   "metadata": {},
   "outputs": [
    {
     "name": "stdout",
     "output_type": "stream",
     "text": [
      "   A  B  C  D  E\n",
      "2  0  1  8  5  2\n",
      "4  3  9  4  8  3\n",
      "0  5  5  0  3  8\n",
      "1  6  5  5  8  7\n",
      "3  9  2  6  6  6\n",
      "\n",
      "\n",
      "   A  B  C  D  E\n",
      "0  0  1  8  5  2\n",
      "1  3  9  4  8  3\n",
      "2  5  5  0  3  8\n",
      "3  6  5  5  8  7\n",
      "4  9  2  6  6  6\n"
     ]
    }
   ],
   "source": [
    "print(df.sort_values(by=\"A\"))\n",
    "print('\\n')\n",
    "print(df.sort_values(by=\"A\", ignore_index=True))\n"
   ]
  },
  {
   "cell_type": "code",
   "execution_count": 5,
   "metadata": {},
   "outputs": [
    {
     "name": "stdout",
     "output_type": "stream",
     "text": [
      "   A  B  C  D  E\n",
      "0  5  5  0  3  8\n",
      "1  6  5  5  8  7\n",
      "2  0  1  8  5  2\n",
      "3  9  2  6  6  6\n",
      "4  3  9  4  8  3\n",
      "degisikliklerin kaydfolması icin inplace = True olmalı\n",
      "   A  B  C  D  E\n",
      "0  0  1  8  5  2\n",
      "1  3  9  4  8  3\n",
      "2  5  5  0  3  8\n",
      "3  6  5  5  8  7\n",
      "4  9  2  6  6  6\n"
     ]
    }
   ],
   "source": [
    "df.sort_values(by=\"A\", ignore_index=True)\n",
    "print(df)\n",
    "print('degisikliklerin kaydfolması icin inplace = True olmalı')\n",
    "## degisikliklerin kaydfolması icin\n",
    "df.sort_values(by=\"A\", ignore_index=True, inplace=True)\n",
    "print(df)\n"
   ]
  },
  {
   "cell_type": "code",
   "execution_count": 6,
   "metadata": {},
   "outputs": [
    {
     "name": "stdout",
     "output_type": "stream",
     "text": [
      "RANK FUNCTION\n",
      "   A  B  C  D  E  rank_ascending\n",
      "0  0  1  8  5  2             2.0\n",
      "1  3  9  4  8  3             4.5\n",
      "2  5  5  0  3  8             1.0\n",
      "3  6  5  5  8  7             4.5\n",
      "4  9  2  6  6  6             3.0\n"
     ]
    }
   ],
   "source": [
    "#rank function\n",
    "print('RANK FUNCTION')\n",
    "df[\"rank_ascending\"] = df[\"D\"].rank(ascending=True)\n",
    "print(df)"
   ]
  },
  {
   "cell_type": "code",
   "execution_count": null,
   "metadata": {},
   "outputs": [],
   "source": [
    "## UNION == APPEND"
   ]
  },
  {
   "cell_type": "code",
   "execution_count": 7,
   "metadata": {},
   "outputs": [
    {
     "ename": "TypeError",
     "evalue": "cannot concatenate object of type '<class 'str'>'; only Series and DataFrame objs are valid",
     "output_type": "error",
     "traceback": [
      "\u001b[1;31m---------------------------------------------------------------------------\u001b[0m",
      "\u001b[1;31mTypeError\u001b[0m                                 Traceback (most recent call last)",
      "\u001b[1;32mc:\\Users\\e580\\Desktop\\python\\test and learn\\dataframe.ipynb Cell 14'\u001b[0m in \u001b[0;36m<cell line: 2>\u001b[1;34m()\u001b[0m\n\u001b[0;32m      <a href='vscode-notebook-cell:/c%3A/Users/e580/Desktop/python/test%20and%20learn/dataframe.ipynb#ch0000013?line=0'>1</a>\u001b[0m relevant \u001b[39m=\u001b[39m [\u001b[39m'\u001b[39m\u001b[39mBJK\u001b[39m\u001b[39m'\u001b[39m, \u001b[39m'\u001b[39m\u001b[39mGS\u001b[39m\u001b[39m'\u001b[39m, \u001b[39m'\u001b[39m\u001b[39mFB\u001b[39m\u001b[39m'\u001b[39m, \u001b[39m'\u001b[39m\u001b[39mTS\u001b[39m\u001b[39m'\u001b[39m, \u001b[39m'\u001b[39m\u001b[39maltinordu\u001b[39m\u001b[39m'\u001b[39m]\n\u001b[1;32m----> <a href='vscode-notebook-cell:/c%3A/Users/e580/Desktop/python/test%20and%20learn/dataframe.ipynb#ch0000013?line=1'>2</a>\u001b[0m merged_df \u001b[39m=\u001b[39m pd\u001b[39m.\u001b[39;49mconcat(\u001b[39mdict\u001b[39;49m(\u001b[39mzip\u001b[39;49m(relevant, df)), axis\u001b[39m=\u001b[39;49m\u001b[39m1\u001b[39;49m)\n\u001b[0;32m      <a href='vscode-notebook-cell:/c%3A/Users/e580/Desktop/python/test%20and%20learn/dataframe.ipynb#ch0000013?line=2'>3</a>\u001b[0m \u001b[39mprint\u001b[39m(merged_df)\n",
      "File \u001b[1;32m~\\anaconda3\\envs\\python_310env\\lib\\site-packages\\pandas\\util\\_decorators.py:311\u001b[0m, in \u001b[0;36mdeprecate_nonkeyword_arguments.<locals>.decorate.<locals>.wrapper\u001b[1;34m(*args, **kwargs)\u001b[0m\n\u001b[0;32m    <a href='file:///c%3A/Users/e580/anaconda3/envs/python_310env/lib/site-packages/pandas/util/_decorators.py?line=304'>305</a>\u001b[0m \u001b[39mif\u001b[39;00m \u001b[39mlen\u001b[39m(args) \u001b[39m>\u001b[39m num_allow_args:\n\u001b[0;32m    <a href='file:///c%3A/Users/e580/anaconda3/envs/python_310env/lib/site-packages/pandas/util/_decorators.py?line=305'>306</a>\u001b[0m     warnings\u001b[39m.\u001b[39mwarn(\n\u001b[0;32m    <a href='file:///c%3A/Users/e580/anaconda3/envs/python_310env/lib/site-packages/pandas/util/_decorators.py?line=306'>307</a>\u001b[0m         msg\u001b[39m.\u001b[39mformat(arguments\u001b[39m=\u001b[39marguments),\n\u001b[0;32m    <a href='file:///c%3A/Users/e580/anaconda3/envs/python_310env/lib/site-packages/pandas/util/_decorators.py?line=307'>308</a>\u001b[0m         \u001b[39mFutureWarning\u001b[39;00m,\n\u001b[0;32m    <a href='file:///c%3A/Users/e580/anaconda3/envs/python_310env/lib/site-packages/pandas/util/_decorators.py?line=308'>309</a>\u001b[0m         stacklevel\u001b[39m=\u001b[39mstacklevel,\n\u001b[0;32m    <a href='file:///c%3A/Users/e580/anaconda3/envs/python_310env/lib/site-packages/pandas/util/_decorators.py?line=309'>310</a>\u001b[0m     )\n\u001b[1;32m--> <a href='file:///c%3A/Users/e580/anaconda3/envs/python_310env/lib/site-packages/pandas/util/_decorators.py?line=310'>311</a>\u001b[0m \u001b[39mreturn\u001b[39;00m func(\u001b[39m*\u001b[39margs, \u001b[39m*\u001b[39m\u001b[39m*\u001b[39mkwargs)\n",
      "File \u001b[1;32m~\\anaconda3\\envs\\python_310env\\lib\\site-packages\\pandas\\core\\reshape\\concat.py:346\u001b[0m, in \u001b[0;36mconcat\u001b[1;34m(objs, axis, join, ignore_index, keys, levels, names, verify_integrity, sort, copy)\u001b[0m\n\u001b[0;32m    <a href='file:///c%3A/Users/e580/anaconda3/envs/python_310env/lib/site-packages/pandas/core/reshape/concat.py?line=141'>142</a>\u001b[0m \u001b[39m@deprecate_nonkeyword_arguments\u001b[39m(version\u001b[39m=\u001b[39m\u001b[39mNone\u001b[39;00m, allowed_args\u001b[39m=\u001b[39m[\u001b[39m\"\u001b[39m\u001b[39mobjs\u001b[39m\u001b[39m\"\u001b[39m])\n\u001b[0;32m    <a href='file:///c%3A/Users/e580/anaconda3/envs/python_310env/lib/site-packages/pandas/core/reshape/concat.py?line=142'>143</a>\u001b[0m \u001b[39mdef\u001b[39;00m \u001b[39mconcat\u001b[39m(\n\u001b[0;32m    <a href='file:///c%3A/Users/e580/anaconda3/envs/python_310env/lib/site-packages/pandas/core/reshape/concat.py?line=143'>144</a>\u001b[0m     objs: Iterable[NDFrame] \u001b[39m|\u001b[39m Mapping[Hashable, NDFrame],\n\u001b[1;32m   (...)\u001b[0m\n\u001b[0;32m    <a href='file:///c%3A/Users/e580/anaconda3/envs/python_310env/lib/site-packages/pandas/core/reshape/concat.py?line=152'>153</a>\u001b[0m     copy: \u001b[39mbool\u001b[39m \u001b[39m=\u001b[39m \u001b[39mTrue\u001b[39;00m,\n\u001b[0;32m    <a href='file:///c%3A/Users/e580/anaconda3/envs/python_310env/lib/site-packages/pandas/core/reshape/concat.py?line=153'>154</a>\u001b[0m ) \u001b[39m-\u001b[39m\u001b[39m>\u001b[39m DataFrame \u001b[39m|\u001b[39m Series:\n\u001b[0;32m    <a href='file:///c%3A/Users/e580/anaconda3/envs/python_310env/lib/site-packages/pandas/core/reshape/concat.py?line=154'>155</a>\u001b[0m     \u001b[39m\"\"\"\u001b[39;00m\n\u001b[0;32m    <a href='file:///c%3A/Users/e580/anaconda3/envs/python_310env/lib/site-packages/pandas/core/reshape/concat.py?line=155'>156</a>\u001b[0m \u001b[39m    Concatenate pandas objects along a particular axis with optional set logic\u001b[39;00m\n\u001b[0;32m    <a href='file:///c%3A/Users/e580/anaconda3/envs/python_310env/lib/site-packages/pandas/core/reshape/concat.py?line=156'>157</a>\u001b[0m \u001b[39m    along the other axes.\u001b[39;00m\n\u001b[1;32m   (...)\u001b[0m\n\u001b[0;32m    <a href='file:///c%3A/Users/e580/anaconda3/envs/python_310env/lib/site-packages/pandas/core/reshape/concat.py?line=343'>344</a>\u001b[0m \u001b[39m    ValueError: Indexes have overlapping values: ['a']\u001b[39;00m\n\u001b[0;32m    <a href='file:///c%3A/Users/e580/anaconda3/envs/python_310env/lib/site-packages/pandas/core/reshape/concat.py?line=344'>345</a>\u001b[0m \u001b[39m    \"\"\"\u001b[39;00m\n\u001b[1;32m--> <a href='file:///c%3A/Users/e580/anaconda3/envs/python_310env/lib/site-packages/pandas/core/reshape/concat.py?line=345'>346</a>\u001b[0m     op \u001b[39m=\u001b[39m _Concatenator(\n\u001b[0;32m    <a href='file:///c%3A/Users/e580/anaconda3/envs/python_310env/lib/site-packages/pandas/core/reshape/concat.py?line=346'>347</a>\u001b[0m         objs,\n\u001b[0;32m    <a href='file:///c%3A/Users/e580/anaconda3/envs/python_310env/lib/site-packages/pandas/core/reshape/concat.py?line=347'>348</a>\u001b[0m         axis\u001b[39m=\u001b[39;49maxis,\n\u001b[0;32m    <a href='file:///c%3A/Users/e580/anaconda3/envs/python_310env/lib/site-packages/pandas/core/reshape/concat.py?line=348'>349</a>\u001b[0m         ignore_index\u001b[39m=\u001b[39;49mignore_index,\n\u001b[0;32m    <a href='file:///c%3A/Users/e580/anaconda3/envs/python_310env/lib/site-packages/pandas/core/reshape/concat.py?line=349'>350</a>\u001b[0m         join\u001b[39m=\u001b[39;49mjoin,\n\u001b[0;32m    <a href='file:///c%3A/Users/e580/anaconda3/envs/python_310env/lib/site-packages/pandas/core/reshape/concat.py?line=350'>351</a>\u001b[0m         keys\u001b[39m=\u001b[39;49mkeys,\n\u001b[0;32m    <a href='file:///c%3A/Users/e580/anaconda3/envs/python_310env/lib/site-packages/pandas/core/reshape/concat.py?line=351'>352</a>\u001b[0m         levels\u001b[39m=\u001b[39;49mlevels,\n\u001b[0;32m    <a href='file:///c%3A/Users/e580/anaconda3/envs/python_310env/lib/site-packages/pandas/core/reshape/concat.py?line=352'>353</a>\u001b[0m         names\u001b[39m=\u001b[39;49mnames,\n\u001b[0;32m    <a href='file:///c%3A/Users/e580/anaconda3/envs/python_310env/lib/site-packages/pandas/core/reshape/concat.py?line=353'>354</a>\u001b[0m         verify_integrity\u001b[39m=\u001b[39;49mverify_integrity,\n\u001b[0;32m    <a href='file:///c%3A/Users/e580/anaconda3/envs/python_310env/lib/site-packages/pandas/core/reshape/concat.py?line=354'>355</a>\u001b[0m         copy\u001b[39m=\u001b[39;49mcopy,\n\u001b[0;32m    <a href='file:///c%3A/Users/e580/anaconda3/envs/python_310env/lib/site-packages/pandas/core/reshape/concat.py?line=355'>356</a>\u001b[0m         sort\u001b[39m=\u001b[39;49msort,\n\u001b[0;32m    <a href='file:///c%3A/Users/e580/anaconda3/envs/python_310env/lib/site-packages/pandas/core/reshape/concat.py?line=356'>357</a>\u001b[0m     )\n\u001b[0;32m    <a href='file:///c%3A/Users/e580/anaconda3/envs/python_310env/lib/site-packages/pandas/core/reshape/concat.py?line=358'>359</a>\u001b[0m     \u001b[39mreturn\u001b[39;00m op\u001b[39m.\u001b[39mget_result()\n",
      "File \u001b[1;32m~\\anaconda3\\envs\\python_310env\\lib\\site-packages\\pandas\\core\\reshape\\concat.py:436\u001b[0m, in \u001b[0;36m_Concatenator.__init__\u001b[1;34m(self, objs, axis, join, keys, levels, names, ignore_index, verify_integrity, copy, sort)\u001b[0m\n\u001b[0;32m    <a href='file:///c%3A/Users/e580/anaconda3/envs/python_310env/lib/site-packages/pandas/core/reshape/concat.py?line=430'>431</a>\u001b[0m     \u001b[39mif\u001b[39;00m \u001b[39mnot\u001b[39;00m \u001b[39misinstance\u001b[39m(obj, (ABCSeries, ABCDataFrame)):\n\u001b[0;32m    <a href='file:///c%3A/Users/e580/anaconda3/envs/python_310env/lib/site-packages/pandas/core/reshape/concat.py?line=431'>432</a>\u001b[0m         msg \u001b[39m=\u001b[39m (\n\u001b[0;32m    <a href='file:///c%3A/Users/e580/anaconda3/envs/python_310env/lib/site-packages/pandas/core/reshape/concat.py?line=432'>433</a>\u001b[0m             \u001b[39mf\u001b[39m\u001b[39m\"\u001b[39m\u001b[39mcannot concatenate object of type \u001b[39m\u001b[39m'\u001b[39m\u001b[39m{\u001b[39;00m\u001b[39mtype\u001b[39m(obj)\u001b[39m}\u001b[39;00m\u001b[39m'\u001b[39m\u001b[39m; \u001b[39m\u001b[39m\"\u001b[39m\n\u001b[0;32m    <a href='file:///c%3A/Users/e580/anaconda3/envs/python_310env/lib/site-packages/pandas/core/reshape/concat.py?line=433'>434</a>\u001b[0m             \u001b[39m\"\u001b[39m\u001b[39monly Series and DataFrame objs are valid\u001b[39m\u001b[39m\"\u001b[39m\n\u001b[0;32m    <a href='file:///c%3A/Users/e580/anaconda3/envs/python_310env/lib/site-packages/pandas/core/reshape/concat.py?line=434'>435</a>\u001b[0m         )\n\u001b[1;32m--> <a href='file:///c%3A/Users/e580/anaconda3/envs/python_310env/lib/site-packages/pandas/core/reshape/concat.py?line=435'>436</a>\u001b[0m         \u001b[39mraise\u001b[39;00m \u001b[39mTypeError\u001b[39;00m(msg)\n\u001b[0;32m    <a href='file:///c%3A/Users/e580/anaconda3/envs/python_310env/lib/site-packages/pandas/core/reshape/concat.py?line=437'>438</a>\u001b[0m     ndims\u001b[39m.\u001b[39madd(obj\u001b[39m.\u001b[39mndim)\n\u001b[0;32m    <a href='file:///c%3A/Users/e580/anaconda3/envs/python_310env/lib/site-packages/pandas/core/reshape/concat.py?line=439'>440</a>\u001b[0m \u001b[39m# get the sample\u001b[39;00m\n\u001b[0;32m    <a href='file:///c%3A/Users/e580/anaconda3/envs/python_310env/lib/site-packages/pandas/core/reshape/concat.py?line=440'>441</a>\u001b[0m \u001b[39m# want the highest ndim that we have, and must be non-empty\u001b[39;00m\n\u001b[0;32m    <a href='file:///c%3A/Users/e580/anaconda3/envs/python_310env/lib/site-packages/pandas/core/reshape/concat.py?line=441'>442</a>\u001b[0m \u001b[39m# unless all objs are empty\u001b[39;00m\n",
      "\u001b[1;31mTypeError\u001b[0m: cannot concatenate object of type '<class 'str'>'; only Series and DataFrame objs are valid"
     ]
    }
   ],
   "source": [
    "# CONCAT == UNION axis = 0 dersen  galiba\n",
    "# merged_df = pd.concat(dict(zip(relevant, df)), axis=1)\n",
    "# print(merged_df)\n"
   ]
  },
  {
   "cell_type": "markdown",
   "metadata": {},
   "source": [
    "index degistirme, droplama"
   ]
  },
  {
   "cell_type": "code",
   "execution_count": 8,
   "metadata": {},
   "outputs": [
    {
     "ename": "IndexError",
     "evalue": "Too many levels: Index has only 1 level, not 2",
     "output_type": "error",
     "traceback": [
      "\u001b[1;31m---------------------------------------------------------------------------\u001b[0m",
      "\u001b[1;31mIndexError\u001b[0m                                Traceback (most recent call last)",
      "\u001b[1;32mc:\\Users\\e580\\Desktop\\python\\test and learn\\dataframe.ipynb Cell 15'\u001b[0m in \u001b[0;36m<cell line: 1>\u001b[1;34m()\u001b[0m\n\u001b[1;32m----> <a href='vscode-notebook-cell:/c%3A/Users/e580/Desktop/python/test%20and%20learn/dataframe.ipynb#ch0000014?line=0'>1</a>\u001b[0m df\u001b[39m.\u001b[39;49mcolumns\u001b[39m.\u001b[39;49mdroplevel(\u001b[39m1\u001b[39;49m)\n",
      "File \u001b[1;32m~\\anaconda3\\envs\\python_310env\\lib\\site-packages\\pandas\\core\\indexes\\base.py:2061\u001b[0m, in \u001b[0;36mIndex.droplevel\u001b[1;34m(self, level)\u001b[0m\n\u001b[0;32m   <a href='file:///c%3A/Users/e580/anaconda3/envs/python_310env/lib/site-packages/pandas/core/indexes/base.py?line=2057'>2058</a>\u001b[0m \u001b[39mif\u001b[39;00m \u001b[39mnot\u001b[39;00m \u001b[39misinstance\u001b[39m(level, (\u001b[39mtuple\u001b[39m, \u001b[39mlist\u001b[39m)):\n\u001b[0;32m   <a href='file:///c%3A/Users/e580/anaconda3/envs/python_310env/lib/site-packages/pandas/core/indexes/base.py?line=2058'>2059</a>\u001b[0m     level \u001b[39m=\u001b[39m [level]\n\u001b[1;32m-> <a href='file:///c%3A/Users/e580/anaconda3/envs/python_310env/lib/site-packages/pandas/core/indexes/base.py?line=2060'>2061</a>\u001b[0m levnums \u001b[39m=\u001b[39m \u001b[39msorted\u001b[39;49m(\u001b[39mself\u001b[39;49m\u001b[39m.\u001b[39;49m_get_level_number(lev) \u001b[39mfor\u001b[39;49;00m lev \u001b[39min\u001b[39;49;00m level)[::\u001b[39m-\u001b[39m\u001b[39m1\u001b[39m]\n\u001b[0;32m   <a href='file:///c%3A/Users/e580/anaconda3/envs/python_310env/lib/site-packages/pandas/core/indexes/base.py?line=2062'>2063</a>\u001b[0m \u001b[39mreturn\u001b[39;00m \u001b[39mself\u001b[39m\u001b[39m.\u001b[39m_drop_level_numbers(levnums)\n",
      "File \u001b[1;32m~\\anaconda3\\envs\\python_310env\\lib\\site-packages\\pandas\\core\\indexes\\base.py:2061\u001b[0m, in \u001b[0;36m<genexpr>\u001b[1;34m(.0)\u001b[0m\n\u001b[0;32m   <a href='file:///c%3A/Users/e580/anaconda3/envs/python_310env/lib/site-packages/pandas/core/indexes/base.py?line=2057'>2058</a>\u001b[0m \u001b[39mif\u001b[39;00m \u001b[39mnot\u001b[39;00m \u001b[39misinstance\u001b[39m(level, (\u001b[39mtuple\u001b[39m, \u001b[39mlist\u001b[39m)):\n\u001b[0;32m   <a href='file:///c%3A/Users/e580/anaconda3/envs/python_310env/lib/site-packages/pandas/core/indexes/base.py?line=2058'>2059</a>\u001b[0m     level \u001b[39m=\u001b[39m [level]\n\u001b[1;32m-> <a href='file:///c%3A/Users/e580/anaconda3/envs/python_310env/lib/site-packages/pandas/core/indexes/base.py?line=2060'>2061</a>\u001b[0m levnums \u001b[39m=\u001b[39m \u001b[39msorted\u001b[39m(\u001b[39mself\u001b[39;49m\u001b[39m.\u001b[39;49m_get_level_number(lev) \u001b[39mfor\u001b[39;00m lev \u001b[39min\u001b[39;00m level)[::\u001b[39m-\u001b[39m\u001b[39m1\u001b[39m]\n\u001b[0;32m   <a href='file:///c%3A/Users/e580/anaconda3/envs/python_310env/lib/site-packages/pandas/core/indexes/base.py?line=2062'>2063</a>\u001b[0m \u001b[39mreturn\u001b[39;00m \u001b[39mself\u001b[39m\u001b[39m.\u001b[39m_drop_level_numbers(levnums)\n",
      "File \u001b[1;32m~\\anaconda3\\envs\\python_310env\\lib\\site-packages\\pandas\\core\\indexes\\base.py:1936\u001b[0m, in \u001b[0;36mIndex._get_level_number\u001b[1;34m(self, level)\u001b[0m\n\u001b[0;32m   <a href='file:///c%3A/Users/e580/anaconda3/envs/python_310env/lib/site-packages/pandas/core/indexes/base.py?line=1934'>1935</a>\u001b[0m \u001b[39mdef\u001b[39;00m \u001b[39m_get_level_number\u001b[39m(\u001b[39mself\u001b[39m, level) \u001b[39m-\u001b[39m\u001b[39m>\u001b[39m \u001b[39mint\u001b[39m:\n\u001b[1;32m-> <a href='file:///c%3A/Users/e580/anaconda3/envs/python_310env/lib/site-packages/pandas/core/indexes/base.py?line=1935'>1936</a>\u001b[0m     \u001b[39mself\u001b[39;49m\u001b[39m.\u001b[39;49m_validate_index_level(level)\n\u001b[0;32m   <a href='file:///c%3A/Users/e580/anaconda3/envs/python_310env/lib/site-packages/pandas/core/indexes/base.py?line=1936'>1937</a>\u001b[0m     \u001b[39mreturn\u001b[39;00m \u001b[39m0\u001b[39m\n",
      "File \u001b[1;32m~\\anaconda3\\envs\\python_310env\\lib\\site-packages\\pandas\\core\\indexes\\base.py:1927\u001b[0m, in \u001b[0;36mIndex._validate_index_level\u001b[1;34m(self, level)\u001b[0m\n\u001b[0;32m   <a href='file:///c%3A/Users/e580/anaconda3/envs/python_310env/lib/site-packages/pandas/core/indexes/base.py?line=1921'>1922</a>\u001b[0m         \u001b[39mraise\u001b[39;00m \u001b[39mIndexError\u001b[39;00m(\n\u001b[0;32m   <a href='file:///c%3A/Users/e580/anaconda3/envs/python_310env/lib/site-packages/pandas/core/indexes/base.py?line=1922'>1923</a>\u001b[0m             \u001b[39m\"\u001b[39m\u001b[39mToo many levels: Index has only 1 level, \u001b[39m\u001b[39m\"\u001b[39m\n\u001b[0;32m   <a href='file:///c%3A/Users/e580/anaconda3/envs/python_310env/lib/site-packages/pandas/core/indexes/base.py?line=1923'>1924</a>\u001b[0m             \u001b[39mf\u001b[39m\u001b[39m\"\u001b[39m\u001b[39m{\u001b[39;00mlevel\u001b[39m}\u001b[39;00m\u001b[39m is not a valid level number\u001b[39m\u001b[39m\"\u001b[39m\n\u001b[0;32m   <a href='file:///c%3A/Users/e580/anaconda3/envs/python_310env/lib/site-packages/pandas/core/indexes/base.py?line=1924'>1925</a>\u001b[0m         )\n\u001b[0;32m   <a href='file:///c%3A/Users/e580/anaconda3/envs/python_310env/lib/site-packages/pandas/core/indexes/base.py?line=1925'>1926</a>\u001b[0m     \u001b[39melif\u001b[39;00m level \u001b[39m>\u001b[39m \u001b[39m0\u001b[39m:\n\u001b[1;32m-> <a href='file:///c%3A/Users/e580/anaconda3/envs/python_310env/lib/site-packages/pandas/core/indexes/base.py?line=1926'>1927</a>\u001b[0m         \u001b[39mraise\u001b[39;00m \u001b[39mIndexError\u001b[39;00m(\n\u001b[0;32m   <a href='file:///c%3A/Users/e580/anaconda3/envs/python_310env/lib/site-packages/pandas/core/indexes/base.py?line=1927'>1928</a>\u001b[0m             \u001b[39mf\u001b[39m\u001b[39m\"\u001b[39m\u001b[39mToo many levels: Index has only 1 level, not \u001b[39m\u001b[39m{\u001b[39;00mlevel \u001b[39m+\u001b[39m \u001b[39m1\u001b[39m\u001b[39m}\u001b[39;00m\u001b[39m\"\u001b[39m\n\u001b[0;32m   <a href='file:///c%3A/Users/e580/anaconda3/envs/python_310env/lib/site-packages/pandas/core/indexes/base.py?line=1928'>1929</a>\u001b[0m         )\n\u001b[0;32m   <a href='file:///c%3A/Users/e580/anaconda3/envs/python_310env/lib/site-packages/pandas/core/indexes/base.py?line=1929'>1930</a>\u001b[0m \u001b[39melif\u001b[39;00m level \u001b[39m!=\u001b[39m \u001b[39mself\u001b[39m\u001b[39m.\u001b[39mname:\n\u001b[0;32m   <a href='file:///c%3A/Users/e580/anaconda3/envs/python_310env/lib/site-packages/pandas/core/indexes/base.py?line=1930'>1931</a>\u001b[0m     \u001b[39mraise\u001b[39;00m \u001b[39mKeyError\u001b[39;00m(\n\u001b[0;32m   <a href='file:///c%3A/Users/e580/anaconda3/envs/python_310env/lib/site-packages/pandas/core/indexes/base.py?line=1931'>1932</a>\u001b[0m         \u001b[39mf\u001b[39m\u001b[39m\"\u001b[39m\u001b[39mRequested level (\u001b[39m\u001b[39m{\u001b[39;00mlevel\u001b[39m}\u001b[39;00m\u001b[39m) does not match index name (\u001b[39m\u001b[39m{\u001b[39;00m\u001b[39mself\u001b[39m\u001b[39m.\u001b[39mname\u001b[39m}\u001b[39;00m\u001b[39m)\u001b[39m\u001b[39m\"\u001b[39m\n\u001b[0;32m   <a href='file:///c%3A/Users/e580/anaconda3/envs/python_310env/lib/site-packages/pandas/core/indexes/base.py?line=1932'>1933</a>\u001b[0m     )\n",
      "\u001b[1;31mIndexError\u001b[0m: Too many levels: Index has only 1 level, not 2"
     ]
    }
   ],
   "source": [
    "df.columns.droplevel(1)"
   ]
  },
  {
   "cell_type": "code",
   "execution_count": 4,
   "metadata": {},
   "outputs": [
    {
     "data": {
      "text/plain": [
       "DatetimeIndex(['2019-01-01 00:00:00', '2019-01-01 12:00:00',\n",
       "               '2019-01-02 00:00:00', '2019-01-02 12:00:00',\n",
       "               '2019-01-03 00:00:00', '2019-01-03 12:00:00',\n",
       "               '2019-01-04 00:00:00', '2019-01-04 12:00:00',\n",
       "               '2019-01-05 00:00:00', '2019-01-05 12:00:00',\n",
       "               '2019-01-06 00:00:00', '2019-01-06 12:00:00',\n",
       "               '2019-01-07 00:00:00', '2019-01-07 12:00:00',\n",
       "               '2019-01-08 00:00:00'],\n",
       "              dtype='datetime64[ns]', freq='12H')"
      ]
     },
     "execution_count": 4,
     "metadata": {},
     "output_type": "execute_result"
    }
   ],
   "source": [
    "import pandas as pd\n",
    "ind = pd.date_range('01 / 01 / 2019', periods = 15, freq ='12H')\n",
    "ind\n"
   ]
  },
  {
   "cell_type": "code",
   "execution_count": null,
   "metadata": {},
   "outputs": [],
   "source": [
    "df.isnull().values.any()"
   ]
  },
  {
   "cell_type": "code",
   "execution_count": null,
   "metadata": {},
   "outputs": [],
   "source": [
    "# From action_scifi, select only the rows where the genre_act column is null\n",
    "scifi_only = action_scifi[action_scifi['genre_act'].isnull()]"
   ]
  },
  {
   "cell_type": "markdown",
   "metadata": {},
   "source": [
    "How to iterate over a dataframe?\n",
    "\n",
    "https://towardsdatascience.com/efficiently-iterating-over-rows-in-a-pandas-dataframe-7dd5f9992c01\n",
    "\n",
    "Until now, all the techniques used simply add up single values. Instead of adding single values, why not group them into vectors to sum them up? The difference between adding two numbers or two vectors is not significant for a CPU, which should speed things up.\n",
    "\n",
    "On top of that, Pandas can process Series objects in parallel, using every CPU core available!\n",
    "\n",
    "The syntax is also the simplest imaginable: this solution is extremely intuitive. Under the hood, Pandas takes care of vectorizing our data with an optimized C code using contiguous memory blocks.\n"
   ]
  },
  {
   "cell_type": "code",
   "execution_count": null,
   "metadata": {},
   "outputs": [],
   "source": [
    "### 1900x faster\n",
    "%%timeit -n 1000\n",
    "# Numpy vectorization\n",
    "(df['src_bytes'].to_numpy() + df['dst_bytes'].to_numpy()).tolist()\n",
    "\n",
    "### 1500x faster\n",
    "# Vectorization\n",
    "(df['src_bytes'] + df['dst_bytes']).to_list()\n",
    "\n",
    "### 500x faster\n",
    "# List comprehension\n",
    "[src + dst for src, dst in zip(df['src_bytes'], df['dst_bytes'])]\n",
    "\n",
    "### 10x faster\n",
    "total = []\n",
    "for row in df.itertuples():\n",
    "    total.append(row.src_bytes + row.dst_bytes)\n",
    "\n",
    "### 4x faster\n",
    "# Apply\n",
    "df.apply(lambda row: row['src_bytes'] + row['dst_bytes'], axis=1).to_list()\n",
    "\n",
    "### 3x faster\n",
    "total = []\n",
    "for index in range(len(df)):\n",
    "    total.append(df['src_bytes'].iloc[index] + df['dst_bytes'].iloc[index])\n",
    "\n",
    "# Iterrows -->  WORST\n",
    "total = []\n",
    "for index, row in df.iterrows():\n",
    "    total.append(row['src_bytes'] + row['dst_bytes'])\n"
   ]
  },
  {
   "cell_type": "markdown",
   "metadata": {},
   "source": [
    "RUPLICATE, repeat rows N times"
   ]
  },
  {
   "cell_type": "code",
   "execution_count": null,
   "metadata": {},
   "outputs": [],
   "source": [
    "newdf = pd.DataFrame(np.repeat(df.values, 3, axis=0), columns=df.columns)"
   ]
  },
  {
   "cell_type": "markdown",
   "metadata": {},
   "source": [
    "hücre degerini almak  \n",
    "amk ne kadar ugrastırıyormus"
   ]
  },
  {
   "cell_type": "code",
   "execution_count": null,
   "metadata": {},
   "outputs": [],
   "source": [
    "tum_seriler[tum_seriler['SERIE_NAME'].str.contains('reel efektif')]['SERIE_CODE'].head(1).to_string(index=False)\n",
    "\n",
    "## tek bir cell'i secmen lazım iloc, iat falan da olur\n",
    "mydataframe['column_x'].head(1).to_string(index=False)\n"
   ]
  },
  {
   "cell_type": "markdown",
   "metadata": {},
   "source": [
    "### GROUP BY"
   ]
  },
  {
   "cell_type": "code",
   "execution_count": null,
   "metadata": {},
   "outputs": [],
   "source": [
    "## select sütun için dictionary ile filtreliyoruz. \n",
    "inv_jul_thr_sep.groupby(level=0).agg({'total':'mean'})\n"
   ]
  },
  {
   "cell_type": "code",
   "execution_count": null,
   "metadata": {},
   "outputs": [],
   "source": [
    "call_counts = safety_calls.groupby('borough').unique_key.count()"
   ]
  },
  {
   "cell_type": "code",
   "execution_count": null,
   "metadata": {},
   "outputs": [],
   "source": []
  },
  {
   "cell_type": "code",
   "execution_count": 4,
   "metadata": {},
   "outputs": [
    {
     "name": "stdout",
     "output_type": "stream",
     "text": [
      "   a   b     c\n",
      "0  1   2   NaN\n",
      "1  5  10  20.0 \n",
      "\n",
      "      a   b\n",
      "row1  1   2\n",
      "row2  5  10 \n",
      "\n",
      "      a   b     c\n",
      "row1  1   2   NaN\n",
      "row2  5  10  20.0 \n",
      "\n",
      "      a   b     c   d\n",
      "row1  1   2   NaN NaN\n",
      "row2  5  10  20.0 NaN \n",
      "\n"
     ]
    }
   ],
   "source": [
    "data = [{'a':1, 'b':2}, {'a':5, 'b':10, 'c':20}]\n",
    "\n",
    "df2 = pd.DataFrame(data)\n",
    "df3 = pd.DataFrame(data, index = ['row1', 'row2'], columns = ['a', 'b'])\n",
    "df4 = pd.DataFrame(data, index = ['row1', 'row2'], columns = ['a', 'b','c'])\n",
    "df5 = pd.DataFrame(data, index = ['row1', 'row2'], columns = ['a', 'b','c', 'd'])\n",
    "\n",
    "print(df2, '\\n')\n",
    "print(df3, '\\n')\n",
    "print(df4, '\\n')\n",
    "print(df5, '\\n')"
   ]
  },
  {
   "cell_type": "markdown",
   "metadata": {},
   "source": [
    "## DATERANGEEE"
   ]
  },
  {
   "cell_type": "code",
   "execution_count": 5,
   "metadata": {},
   "outputs": [
    {
     "data": {
      "text/plain": [
       "DatetimeIndex(['2022-05-20', '2022-05-21', '2022-05-22', '2022-05-23',\n",
       "               '2022-05-24', '2022-05-25', '2022-05-26'],\n",
       "              dtype='datetime64[ns]', freq='D')"
      ]
     },
     "execution_count": 5,
     "metadata": {},
     "output_type": "execute_result"
    }
   ],
   "source": [
    "dates = pd.date_range(start = '2022-05-20', end = '2022-05-26')\n",
    "dates"
   ]
  },
  {
   "cell_type": "code",
   "execution_count": 6,
   "metadata": {},
   "outputs": [
    {
     "data": {
      "text/plain": [
       "DatetimeIndex(['2022-05-24 09:52:11.152806', '2022-05-25 09:52:11.152806',\n",
       "               '2022-05-26 09:52:11.152806', '2022-05-27 09:52:11.152806',\n",
       "               '2022-05-28 09:52:11.152806', '2022-05-29 09:52:11.152806',\n",
       "               '2022-05-30 09:52:11.152806', '2022-05-31 09:52:11.152806',\n",
       "               '2022-06-01 09:52:11.152806', '2022-06-02 09:52:11.152806',\n",
       "               '2022-06-03 09:52:11.152806'],\n",
       "              dtype='datetime64[ns]', freq='D')"
      ]
     },
     "execution_count": 6,
     "metadata": {},
     "output_type": "execute_result"
    }
   ],
   "source": [
    "dates = pd.date_range('today', periods = 11)\n",
    "dates"
   ]
  },
  {
   "cell_type": "markdown",
   "metadata": {},
   "source": [
    "reverse böyle yapıyosun. Digit + Sembol olmalı  "
   ]
  },
  {
   "cell_type": "code",
   "execution_count": 16,
   "metadata": {},
   "outputs": [
    {
     "data": {
      "text/plain": [
       "DatetimeIndex(['2022-05-24 09:58:27.620950', '2022-05-23 09:58:27.620950',\n",
       "               '2022-05-22 09:58:27.620950', '2022-05-21 09:58:27.620950',\n",
       "               '2022-05-20 09:58:27.620950', '2022-05-19 09:58:27.620950',\n",
       "               '2022-05-18 09:58:27.620950', '2022-05-17 09:58:27.620950',\n",
       "               '2022-05-16 09:58:27.620950', '2022-05-15 09:58:27.620950',\n",
       "               '2022-05-14 09:58:27.620950', '2022-05-13 09:58:27.620950',\n",
       "               '2022-05-12 09:58:27.620950', '2022-05-11 09:58:27.620950',\n",
       "               '2022-05-10 09:58:27.620950', '2022-05-09 09:58:27.620950',\n",
       "               '2022-05-08 09:58:27.620950', '2022-05-07 09:58:27.620950',\n",
       "               '2022-05-06 09:58:27.620950', '2022-05-05 09:58:27.620950',\n",
       "               '2022-05-04 09:58:27.620950', '2022-05-03 09:58:27.620950',\n",
       "               '2022-05-02 09:58:27.620950', '2022-05-01 09:58:27.620950',\n",
       "               '2022-04-30 09:58:27.620950', '2022-04-29 09:58:27.620950',\n",
       "               '2022-04-28 09:58:27.620950', '2022-04-27 09:58:27.620950',\n",
       "               '2022-04-26 09:58:27.620950', '2022-04-25 09:58:27.620950',\n",
       "               '2022-04-24 09:58:27.620950', '2022-04-23 09:58:27.620950',\n",
       "               '2022-04-22 09:58:27.620950', '2022-04-21 09:58:27.620950',\n",
       "               '2022-04-20 09:58:27.620950', '2022-04-19 09:58:27.620950',\n",
       "               '2022-04-18 09:58:27.620950', '2022-04-17 09:58:27.620950',\n",
       "               '2022-04-16 09:58:27.620950', '2022-04-15 09:58:27.620950',\n",
       "               '2022-04-14 09:58:27.620950', '2022-04-13 09:58:27.620950',\n",
       "               '2022-04-12 09:58:27.620950', '2022-04-11 09:58:27.620950',\n",
       "               '2022-04-10 09:58:27.620950', '2022-04-09 09:58:27.620950',\n",
       "               '2022-04-08 09:58:27.620950', '2022-04-07 09:58:27.620950',\n",
       "               '2022-04-06 09:58:27.620950', '2022-04-05 09:58:27.620950',\n",
       "               '2022-04-04 09:58:27.620950', '2022-04-03 09:58:27.620950'],\n",
       "              dtype='datetime64[ns]', freq='-1D')"
      ]
     },
     "execution_count": 16,
     "metadata": {},
     "output_type": "execute_result"
    }
   ],
   "source": [
    "dates = pd.date_range(start='today', periods = 52, freq='-1D')\n",
    "dates"
   ]
  },
  {
   "cell_type": "code",
   "execution_count": 17,
   "metadata": {},
   "outputs": [
    {
     "data": {
      "text/plain": [
       "DatetimeIndex(['2022-06-01 09:59:23.183412', '2022-05-15 09:59:23.183412',\n",
       "               '2022-05-01 09:59:23.183412', '2022-04-15 09:59:23.183412',\n",
       "               '2022-04-01 09:59:23.183412', '2022-03-15 09:59:23.183412',\n",
       "               '2022-03-01 09:59:23.183412', '2022-02-15 09:59:23.183412',\n",
       "               '2022-02-01 09:59:23.183412', '2022-01-15 09:59:23.183412',\n",
       "               '2022-01-01 09:59:23.183412', '2021-12-15 09:59:23.183412',\n",
       "               '2021-12-01 09:59:23.183412', '2021-11-15 09:59:23.183412',\n",
       "               '2021-11-01 09:59:23.183412', '2021-10-15 09:59:23.183412',\n",
       "               '2021-10-01 09:59:23.183412', '2021-09-15 09:59:23.183412',\n",
       "               '2021-09-01 09:59:23.183412', '2021-08-15 09:59:23.183412',\n",
       "               '2021-08-01 09:59:23.183412', '2021-07-15 09:59:23.183412',\n",
       "               '2021-07-01 09:59:23.183412', '2021-06-15 09:59:23.183412',\n",
       "               '2021-06-01 09:59:23.183412', '2021-05-15 09:59:23.183412',\n",
       "               '2021-05-01 09:59:23.183412', '2021-04-15 09:59:23.183412',\n",
       "               '2021-04-01 09:59:23.183412', '2021-03-15 09:59:23.183412',\n",
       "               '2021-03-01 09:59:23.183412', '2021-02-15 09:59:23.183412',\n",
       "               '2021-02-01 09:59:23.183412', '2021-01-15 09:59:23.183412',\n",
       "               '2021-01-01 09:59:23.183412', '2020-12-15 09:59:23.183412',\n",
       "               '2020-12-01 09:59:23.183412', '2020-11-15 09:59:23.183412',\n",
       "               '2020-11-01 09:59:23.183412', '2020-10-15 09:59:23.183412',\n",
       "               '2020-10-01 09:59:23.183412', '2020-09-15 09:59:23.183412',\n",
       "               '2020-09-01 09:59:23.183412', '2020-08-15 09:59:23.183412',\n",
       "               '2020-08-01 09:59:23.183412', '2020-07-15 09:59:23.183412',\n",
       "               '2020-07-01 09:59:23.183412', '2020-06-15 09:59:23.183412',\n",
       "               '2020-06-01 09:59:23.183412', '2020-05-15 09:59:23.183412',\n",
       "               '2020-05-01 09:59:23.183412', '2020-04-15 09:59:23.183412'],\n",
       "              dtype='datetime64[ns]', freq='-1SMS-15')"
      ]
     },
     "execution_count": 17,
     "metadata": {},
     "output_type": "execute_result"
    }
   ],
   "source": [
    "dates = pd.date_range(start='today', periods = 52, freq='-1SMS')\n",
    "dates"
   ]
  },
  {
   "cell_type": "code",
   "execution_count": 18,
   "metadata": {},
   "outputs": [
    {
     "data": {
      "text/html": [
       "<div>\n",
       "<style scoped>\n",
       "    .dataframe tbody tr th:only-of-type {\n",
       "        vertical-align: middle;\n",
       "    }\n",
       "\n",
       "    .dataframe tbody tr th {\n",
       "        vertical-align: top;\n",
       "    }\n",
       "\n",
       "    .dataframe thead th {\n",
       "        text-align: right;\n",
       "    }\n",
       "</style>\n",
       "<table border=\"1\" class=\"dataframe\">\n",
       "  <thead>\n",
       "    <tr style=\"text-align: right;\">\n",
       "      <th></th>\n",
       "      <th>C1</th>\n",
       "      <th>C2</th>\n",
       "    </tr>\n",
       "  </thead>\n",
       "  <tbody>\n",
       "    <tr>\n",
       "      <th>0</th>\n",
       "      <td>10.000000</td>\n",
       "      <td>89</td>\n",
       "    </tr>\n",
       "    <tr>\n",
       "      <th>1</th>\n",
       "      <td>13.103448</td>\n",
       "      <td>36</td>\n",
       "    </tr>\n",
       "    <tr>\n",
       "      <th>2</th>\n",
       "      <td>16.206897</td>\n",
       "      <td>96</td>\n",
       "    </tr>\n",
       "    <tr>\n",
       "      <th>3</th>\n",
       "      <td>19.310345</td>\n",
       "      <td>28</td>\n",
       "    </tr>\n",
       "    <tr>\n",
       "      <th>4</th>\n",
       "      <td>22.413793</td>\n",
       "      <td>23</td>\n",
       "    </tr>\n",
       "    <tr>\n",
       "      <th>5</th>\n",
       "      <td>25.517241</td>\n",
       "      <td>10</td>\n",
       "    </tr>\n",
       "    <tr>\n",
       "      <th>6</th>\n",
       "      <td>28.620690</td>\n",
       "      <td>69</td>\n",
       "    </tr>\n",
       "    <tr>\n",
       "      <th>7</th>\n",
       "      <td>31.724138</td>\n",
       "      <td>93</td>\n",
       "    </tr>\n",
       "    <tr>\n",
       "      <th>8</th>\n",
       "      <td>34.827586</td>\n",
       "      <td>26</td>\n",
       "    </tr>\n",
       "    <tr>\n",
       "      <th>9</th>\n",
       "      <td>37.931034</td>\n",
       "      <td>91</td>\n",
       "    </tr>\n",
       "    <tr>\n",
       "      <th>10</th>\n",
       "      <td>41.034483</td>\n",
       "      <td>99</td>\n",
       "    </tr>\n",
       "    <tr>\n",
       "      <th>11</th>\n",
       "      <td>44.137931</td>\n",
       "      <td>38</td>\n",
       "    </tr>\n",
       "    <tr>\n",
       "      <th>12</th>\n",
       "      <td>47.241379</td>\n",
       "      <td>78</td>\n",
       "    </tr>\n",
       "    <tr>\n",
       "      <th>13</th>\n",
       "      <td>50.344828</td>\n",
       "      <td>93</td>\n",
       "    </tr>\n",
       "    <tr>\n",
       "      <th>14</th>\n",
       "      <td>53.448276</td>\n",
       "      <td>51</td>\n",
       "    </tr>\n",
       "    <tr>\n",
       "      <th>15</th>\n",
       "      <td>56.551724</td>\n",
       "      <td>54</td>\n",
       "    </tr>\n",
       "    <tr>\n",
       "      <th>16</th>\n",
       "      <td>59.655172</td>\n",
       "      <td>86</td>\n",
       "    </tr>\n",
       "    <tr>\n",
       "      <th>17</th>\n",
       "      <td>62.758621</td>\n",
       "      <td>86</td>\n",
       "    </tr>\n",
       "    <tr>\n",
       "      <th>18</th>\n",
       "      <td>65.862069</td>\n",
       "      <td>80</td>\n",
       "    </tr>\n",
       "    <tr>\n",
       "      <th>19</th>\n",
       "      <td>68.965517</td>\n",
       "      <td>45</td>\n",
       "    </tr>\n",
       "    <tr>\n",
       "      <th>20</th>\n",
       "      <td>72.068966</td>\n",
       "      <td>41</td>\n",
       "    </tr>\n",
       "    <tr>\n",
       "      <th>21</th>\n",
       "      <td>75.172414</td>\n",
       "      <td>72</td>\n",
       "    </tr>\n",
       "    <tr>\n",
       "      <th>22</th>\n",
       "      <td>78.275862</td>\n",
       "      <td>63</td>\n",
       "    </tr>\n",
       "    <tr>\n",
       "      <th>23</th>\n",
       "      <td>81.379310</td>\n",
       "      <td>34</td>\n",
       "    </tr>\n",
       "    <tr>\n",
       "      <th>24</th>\n",
       "      <td>84.482759</td>\n",
       "      <td>84</td>\n",
       "    </tr>\n",
       "    <tr>\n",
       "      <th>25</th>\n",
       "      <td>87.586207</td>\n",
       "      <td>98</td>\n",
       "    </tr>\n",
       "    <tr>\n",
       "      <th>26</th>\n",
       "      <td>90.689655</td>\n",
       "      <td>63</td>\n",
       "    </tr>\n",
       "    <tr>\n",
       "      <th>27</th>\n",
       "      <td>93.793103</td>\n",
       "      <td>15</td>\n",
       "    </tr>\n",
       "    <tr>\n",
       "      <th>28</th>\n",
       "      <td>96.896552</td>\n",
       "      <td>70</td>\n",
       "    </tr>\n",
       "    <tr>\n",
       "      <th>29</th>\n",
       "      <td>100.000000</td>\n",
       "      <td>82</td>\n",
       "    </tr>\n",
       "  </tbody>\n",
       "</table>\n",
       "</div>"
      ],
      "text/plain": [
       "            C1  C2\n",
       "0    10.000000  89\n",
       "1    13.103448  36\n",
       "2    16.206897  96\n",
       "3    19.310345  28\n",
       "4    22.413793  23\n",
       "5    25.517241  10\n",
       "6    28.620690  69\n",
       "7    31.724138  93\n",
       "8    34.827586  26\n",
       "9    37.931034  91\n",
       "10   41.034483  99\n",
       "11   44.137931  38\n",
       "12   47.241379  78\n",
       "13   50.344828  93\n",
       "14   53.448276  51\n",
       "15   56.551724  54\n",
       "16   59.655172  86\n",
       "17   62.758621  86\n",
       "18   65.862069  80\n",
       "19   68.965517  45\n",
       "20   72.068966  41\n",
       "21   75.172414  72\n",
       "22   78.275862  63\n",
       "23   81.379310  34\n",
       "24   84.482759  84\n",
       "25   87.586207  98\n",
       "26   90.689655  63\n",
       "27   93.793103  15\n",
       "28   96.896552  70\n",
       "29  100.000000  82"
      ]
     },
     "execution_count": 18,
     "metadata": {},
     "output_type": "execute_result"
    }
   ],
   "source": [
    "col1 = np.linspace(10, 100, 30)\n",
    "col2 = np.random.randint(10, 100, 30)\n",
    "df10 = pd.DataFrame({'C1':col1, 'C2':col2})\n",
    "df10"
   ]
  },
  {
   "cell_type": "code",
   "execution_count": null,
   "metadata": {},
   "outputs": [],
   "source": [
    "df10 = df10.drop([7,8,9], axis = 0)\n",
    "df10"
   ]
  },
  {
   "cell_type": "code",
   "execution_count": null,
   "metadata": {},
   "outputs": [],
   "source": [
    "df10.drop(df10.index[5], axis = 0, inplace = True)\n",
    "df10"
   ]
  },
  {
   "cell_type": "code",
   "execution_count": 25,
   "metadata": {},
   "outputs": [
    {
     "data": {
      "text/html": [
       "<div>\n",
       "<style scoped>\n",
       "    .dataframe tbody tr th:only-of-type {\n",
       "        vertical-align: middle;\n",
       "    }\n",
       "\n",
       "    .dataframe tbody tr th {\n",
       "        vertical-align: top;\n",
       "    }\n",
       "\n",
       "    .dataframe thead th {\n",
       "        text-align: right;\n",
       "    }\n",
       "</style>\n",
       "<table border=\"1\" class=\"dataframe\">\n",
       "  <thead>\n",
       "    <tr style=\"text-align: right;\">\n",
       "      <th></th>\n",
       "      <th>C1</th>\n",
       "      <th>C2</th>\n",
       "    </tr>\n",
       "  </thead>\n",
       "  <tbody>\n",
       "    <tr>\n",
       "      <th>0</th>\n",
       "      <td>10.000000</td>\n",
       "      <td>89</td>\n",
       "    </tr>\n",
       "    <tr>\n",
       "      <th>1</th>\n",
       "      <td>13.103448</td>\n",
       "      <td>36</td>\n",
       "    </tr>\n",
       "    <tr>\n",
       "      <th>3</th>\n",
       "      <td>19.310345</td>\n",
       "      <td>28</td>\n",
       "    </tr>\n",
       "    <tr>\n",
       "      <th>4</th>\n",
       "      <td>22.413793</td>\n",
       "      <td>23</td>\n",
       "    </tr>\n",
       "    <tr>\n",
       "      <th>6</th>\n",
       "      <td>28.620690</td>\n",
       "      <td>69</td>\n",
       "    </tr>\n",
       "    <tr>\n",
       "      <th>10</th>\n",
       "      <td>41.034483</td>\n",
       "      <td>99</td>\n",
       "    </tr>\n",
       "    <tr>\n",
       "      <th>11</th>\n",
       "      <td>44.137931</td>\n",
       "      <td>38</td>\n",
       "    </tr>\n",
       "    <tr>\n",
       "      <th>12</th>\n",
       "      <td>47.241379</td>\n",
       "      <td>78</td>\n",
       "    </tr>\n",
       "    <tr>\n",
       "      <th>13</th>\n",
       "      <td>50.344828</td>\n",
       "      <td>93</td>\n",
       "    </tr>\n",
       "    <tr>\n",
       "      <th>14</th>\n",
       "      <td>53.448276</td>\n",
       "      <td>51</td>\n",
       "    </tr>\n",
       "    <tr>\n",
       "      <th>15</th>\n",
       "      <td>56.551724</td>\n",
       "      <td>54</td>\n",
       "    </tr>\n",
       "    <tr>\n",
       "      <th>16</th>\n",
       "      <td>59.655172</td>\n",
       "      <td>86</td>\n",
       "    </tr>\n",
       "    <tr>\n",
       "      <th>20</th>\n",
       "      <td>72.068966</td>\n",
       "      <td>41</td>\n",
       "    </tr>\n",
       "    <tr>\n",
       "      <th>21</th>\n",
       "      <td>75.172414</td>\n",
       "      <td>72</td>\n",
       "    </tr>\n",
       "    <tr>\n",
       "      <th>22</th>\n",
       "      <td>78.275862</td>\n",
       "      <td>63</td>\n",
       "    </tr>\n",
       "    <tr>\n",
       "      <th>23</th>\n",
       "      <td>81.379310</td>\n",
       "      <td>34</td>\n",
       "    </tr>\n",
       "    <tr>\n",
       "      <th>24</th>\n",
       "      <td>84.482759</td>\n",
       "      <td>84</td>\n",
       "    </tr>\n",
       "    <tr>\n",
       "      <th>25</th>\n",
       "      <td>87.586207</td>\n",
       "      <td>98</td>\n",
       "    </tr>\n",
       "    <tr>\n",
       "      <th>26</th>\n",
       "      <td>90.689655</td>\n",
       "      <td>63</td>\n",
       "    </tr>\n",
       "    <tr>\n",
       "      <th>27</th>\n",
       "      <td>93.793103</td>\n",
       "      <td>15</td>\n",
       "    </tr>\n",
       "    <tr>\n",
       "      <th>28</th>\n",
       "      <td>96.896552</td>\n",
       "      <td>70</td>\n",
       "    </tr>\n",
       "    <tr>\n",
       "      <th>29</th>\n",
       "      <td>100.000000</td>\n",
       "      <td>82</td>\n",
       "    </tr>\n",
       "  </tbody>\n",
       "</table>\n",
       "</div>"
      ],
      "text/plain": [
       "            C1  C2\n",
       "0    10.000000  89\n",
       "1    13.103448  36\n",
       "3    19.310345  28\n",
       "4    22.413793  23\n",
       "6    28.620690  69\n",
       "10   41.034483  99\n",
       "11   44.137931  38\n",
       "12   47.241379  78\n",
       "13   50.344828  93\n",
       "14   53.448276  51\n",
       "15   56.551724  54\n",
       "16   59.655172  86\n",
       "20   72.068966  41\n",
       "21   75.172414  72\n",
       "22   78.275862  63\n",
       "23   81.379310  34\n",
       "24   84.482759  84\n",
       "25   87.586207  98\n",
       "26   90.689655  63\n",
       "27   93.793103  15\n",
       "28   96.896552  70\n",
       "29  100.000000  82"
      ]
     },
     "execution_count": 25,
     "metadata": {},
     "output_type": "execute_result"
    }
   ],
   "source": [
    "df10.drop(df10.index[2:3], axis = 0, inplace = True)\n",
    "df10"
   ]
  },
  {
   "cell_type": "code",
   "execution_count": 26,
   "metadata": {},
   "outputs": [
    {
     "data": {
      "text/html": [
       "<div>\n",
       "<style scoped>\n",
       "    .dataframe tbody tr th:only-of-type {\n",
       "        vertical-align: middle;\n",
       "    }\n",
       "\n",
       "    .dataframe tbody tr th {\n",
       "        vertical-align: top;\n",
       "    }\n",
       "\n",
       "    .dataframe thead th {\n",
       "        text-align: right;\n",
       "    }\n",
       "</style>\n",
       "<table border=\"1\" class=\"dataframe\">\n",
       "  <thead>\n",
       "    <tr style=\"text-align: right;\">\n",
       "      <th></th>\n",
       "      <th>C1</th>\n",
       "      <th>C2</th>\n",
       "    </tr>\n",
       "  </thead>\n",
       "  <tbody>\n",
       "    <tr>\n",
       "      <th>0</th>\n",
       "      <td>True</td>\n",
       "      <td>True</td>\n",
       "    </tr>\n",
       "    <tr>\n",
       "      <th>1</th>\n",
       "      <td>True</td>\n",
       "      <td>True</td>\n",
       "    </tr>\n",
       "    <tr>\n",
       "      <th>3</th>\n",
       "      <td>True</td>\n",
       "      <td>True</td>\n",
       "    </tr>\n",
       "    <tr>\n",
       "      <th>4</th>\n",
       "      <td>True</td>\n",
       "      <td>True</td>\n",
       "    </tr>\n",
       "    <tr>\n",
       "      <th>6</th>\n",
       "      <td>True</td>\n",
       "      <td>True</td>\n",
       "    </tr>\n",
       "    <tr>\n",
       "      <th>10</th>\n",
       "      <td>True</td>\n",
       "      <td>True</td>\n",
       "    </tr>\n",
       "    <tr>\n",
       "      <th>11</th>\n",
       "      <td>True</td>\n",
       "      <td>True</td>\n",
       "    </tr>\n",
       "    <tr>\n",
       "      <th>12</th>\n",
       "      <td>True</td>\n",
       "      <td>True</td>\n",
       "    </tr>\n",
       "    <tr>\n",
       "      <th>13</th>\n",
       "      <td>True</td>\n",
       "      <td>True</td>\n",
       "    </tr>\n",
       "    <tr>\n",
       "      <th>14</th>\n",
       "      <td>True</td>\n",
       "      <td>True</td>\n",
       "    </tr>\n",
       "    <tr>\n",
       "      <th>15</th>\n",
       "      <td>True</td>\n",
       "      <td>True</td>\n",
       "    </tr>\n",
       "    <tr>\n",
       "      <th>16</th>\n",
       "      <td>True</td>\n",
       "      <td>True</td>\n",
       "    </tr>\n",
       "    <tr>\n",
       "      <th>20</th>\n",
       "      <td>True</td>\n",
       "      <td>True</td>\n",
       "    </tr>\n",
       "    <tr>\n",
       "      <th>21</th>\n",
       "      <td>True</td>\n",
       "      <td>True</td>\n",
       "    </tr>\n",
       "    <tr>\n",
       "      <th>22</th>\n",
       "      <td>True</td>\n",
       "      <td>True</td>\n",
       "    </tr>\n",
       "    <tr>\n",
       "      <th>23</th>\n",
       "      <td>True</td>\n",
       "      <td>True</td>\n",
       "    </tr>\n",
       "    <tr>\n",
       "      <th>24</th>\n",
       "      <td>True</td>\n",
       "      <td>True</td>\n",
       "    </tr>\n",
       "    <tr>\n",
       "      <th>25</th>\n",
       "      <td>True</td>\n",
       "      <td>True</td>\n",
       "    </tr>\n",
       "    <tr>\n",
       "      <th>26</th>\n",
       "      <td>True</td>\n",
       "      <td>True</td>\n",
       "    </tr>\n",
       "    <tr>\n",
       "      <th>27</th>\n",
       "      <td>True</td>\n",
       "      <td>True</td>\n",
       "    </tr>\n",
       "    <tr>\n",
       "      <th>28</th>\n",
       "      <td>True</td>\n",
       "      <td>True</td>\n",
       "    </tr>\n",
       "    <tr>\n",
       "      <th>29</th>\n",
       "      <td>True</td>\n",
       "      <td>True</td>\n",
       "    </tr>\n",
       "  </tbody>\n",
       "</table>\n",
       "</div>"
      ],
      "text/plain": [
       "      C1    C2\n",
       "0   True  True\n",
       "1   True  True\n",
       "3   True  True\n",
       "4   True  True\n",
       "6   True  True\n",
       "10  True  True\n",
       "11  True  True\n",
       "12  True  True\n",
       "13  True  True\n",
       "14  True  True\n",
       "15  True  True\n",
       "16  True  True\n",
       "20  True  True\n",
       "21  True  True\n",
       "22  True  True\n",
       "23  True  True\n",
       "24  True  True\n",
       "25  True  True\n",
       "26  True  True\n",
       "27  True  True\n",
       "28  True  True\n",
       "29  True  True"
      ]
     },
     "execution_count": 26,
     "metadata": {},
     "output_type": "execute_result"
    }
   ],
   "source": []
  },
  {
   "cell_type": "code",
   "execution_count": 27,
   "metadata": {},
   "outputs": [
    {
     "data": {
      "text/html": [
       "<div>\n",
       "<style scoped>\n",
       "    .dataframe tbody tr th:only-of-type {\n",
       "        vertical-align: middle;\n",
       "    }\n",
       "\n",
       "    .dataframe tbody tr th {\n",
       "        vertical-align: top;\n",
       "    }\n",
       "\n",
       "    .dataframe thead th {\n",
       "        text-align: right;\n",
       "    }\n",
       "</style>\n",
       "<table border=\"1\" class=\"dataframe\">\n",
       "  <thead>\n",
       "    <tr style=\"text-align: right;\">\n",
       "      <th></th>\n",
       "      <th>a</th>\n",
       "      <th>b</th>\n",
       "      <th>c</th>\n",
       "    </tr>\n",
       "  </thead>\n",
       "  <tbody>\n",
       "    <tr>\n",
       "      <th>row1</th>\n",
       "      <td>False</td>\n",
       "      <td>False</td>\n",
       "      <td>True</td>\n",
       "    </tr>\n",
       "    <tr>\n",
       "      <th>row2</th>\n",
       "      <td>False</td>\n",
       "      <td>False</td>\n",
       "      <td>False</td>\n",
       "    </tr>\n",
       "  </tbody>\n",
       "</table>\n",
       "</div>"
      ],
      "text/plain": [
       "          a      b      c\n",
       "row1  False  False   True\n",
       "row2  False  False  False"
      ]
     },
     "execution_count": 27,
     "metadata": {},
     "output_type": "execute_result"
    }
   ],
   "source": [
    "df4.isna()"
   ]
  },
  {
   "cell_type": "code",
   "execution_count": 28,
   "metadata": {},
   "outputs": [
    {
     "data": {
      "text/html": [
       "<div>\n",
       "<style scoped>\n",
       "    .dataframe tbody tr th:only-of-type {\n",
       "        vertical-align: middle;\n",
       "    }\n",
       "\n",
       "    .dataframe tbody tr th {\n",
       "        vertical-align: top;\n",
       "    }\n",
       "\n",
       "    .dataframe thead th {\n",
       "        text-align: right;\n",
       "    }\n",
       "</style>\n",
       "<table border=\"1\" class=\"dataframe\">\n",
       "  <thead>\n",
       "    <tr style=\"text-align: right;\">\n",
       "      <th></th>\n",
       "      <th>a</th>\n",
       "      <th>b</th>\n",
       "      <th>c</th>\n",
       "    </tr>\n",
       "  </thead>\n",
       "  <tbody>\n",
       "    <tr>\n",
       "      <th>row1</th>\n",
       "      <td>True</td>\n",
       "      <td>True</td>\n",
       "      <td>False</td>\n",
       "    </tr>\n",
       "    <tr>\n",
       "      <th>row2</th>\n",
       "      <td>True</td>\n",
       "      <td>True</td>\n",
       "      <td>True</td>\n",
       "    </tr>\n",
       "  </tbody>\n",
       "</table>\n",
       "</div>"
      ],
      "text/plain": [
       "         a     b      c\n",
       "row1  True  True  False\n",
       "row2  True  True   True"
      ]
     },
     "execution_count": 28,
     "metadata": {},
     "output_type": "execute_result"
    }
   ],
   "source": [
    "df4.notna()"
   ]
  },
  {
   "cell_type": "code",
   "execution_count": 33,
   "metadata": {},
   "outputs": [
    {
     "name": "stdout",
     "output_type": "stream",
     "text": [
      "      a   b     c\n",
      "row1  1   2   NaN\n",
      "row2  5  10  20.0 \n",
      "\n",
      "      a   b     c\n",
      "row1  1   2  31.0\n",
      "row2  5  10  20.0\n"
     ]
    }
   ],
   "source": [
    "df44 = df4.fillna(31)\n",
    "print(df4, '\\n')\n",
    "print(df44)"
   ]
  },
  {
   "cell_type": "code",
   "execution_count": 29,
   "metadata": {},
   "outputs": [
    {
     "data": {
      "text/html": [
       "<div>\n",
       "<style scoped>\n",
       "    .dataframe tbody tr th:only-of-type {\n",
       "        vertical-align: middle;\n",
       "    }\n",
       "\n",
       "    .dataframe tbody tr th {\n",
       "        vertical-align: top;\n",
       "    }\n",
       "\n",
       "    .dataframe thead th {\n",
       "        text-align: right;\n",
       "    }\n",
       "</style>\n",
       "<table border=\"1\" class=\"dataframe\">\n",
       "  <thead>\n",
       "    <tr style=\"text-align: right;\">\n",
       "      <th></th>\n",
       "      <th>a</th>\n",
       "      <th>b</th>\n",
       "      <th>c</th>\n",
       "    </tr>\n",
       "  </thead>\n",
       "  <tbody>\n",
       "    <tr>\n",
       "      <th>row1</th>\n",
       "      <td>1</td>\n",
       "      <td>2</td>\n",
       "      <td>NaN</td>\n",
       "    </tr>\n",
       "    <tr>\n",
       "      <th>row2</th>\n",
       "      <td>5</td>\n",
       "      <td>10</td>\n",
       "      <td>20.0</td>\n",
       "    </tr>\n",
       "  </tbody>\n",
       "</table>\n",
       "</div>"
      ],
      "text/plain": [
       "      a   b     c\n",
       "row1  1   2   NaN\n",
       "row2  5  10  20.0"
      ]
     },
     "execution_count": 29,
     "metadata": {},
     "output_type": "execute_result"
    }
   ],
   "source": []
  },
  {
   "cell_type": "markdown",
   "metadata": {},
   "source": [
    "## SUBTRACT, SQL EXCEPT EQUIVALENT\n",
    "\n",
    "#### nasıl yapılmamalı.... "
   ]
  },
  {
   "cell_type": "code",
   "execution_count": 1,
   "metadata": {},
   "outputs": [
    {
     "name": "stdout",
     "output_type": "stream",
     "text": [
      "DataFrame1:\n",
      "   0  1  2  3\n",
      "0  2  4  6  8\n",
      "1  1  3  5  7\n",
      "2  5  0  0  9\n",
      "DataFrame2:\n",
      "   0  1  2  3\n",
      "0  1  1  0  1\n",
      "Result of subtracting dataFrame1 from dataFrame2:\n",
      "     0    1    2    3\n",
      "0  1.0  3.0  6.0  7.0\n",
      "1  NaN  NaN  NaN  NaN\n",
      "2  NaN  NaN  NaN  NaN\n"
     ]
    }
   ],
   "source": [
    "import pandas as pd\n",
    "# Create Data\n",
    "data1 = [(2, 4, 6, 8),\n",
    "         (1, 3, 5, 7),\n",
    "         (5, 0, 0, 9)];\n",
    "data2 = [(1, 1, 0 , 1)];\n",
    "\n",
    "# Construct DataFrame1        \n",
    "\n",
    "dataFrame1 = pd.DataFrame(data=data1);\n",
    "\n",
    "print(\"DataFrame1:\");\n",
    "print(dataFrame1);\n",
    "\n",
    "# Construct DataFrame2\n",
    "dataFrame2 = pd.DataFrame(data=data2);\n",
    "\n",
    "print(\"DataFrame2:\");\n",
    "print(dataFrame2);\n",
    "\n",
    "# Subtracting DataFrame2 from DataFrame1\n",
    "\n",
    "subtractionResults = dataFrame1 - dataFrame2;\n",
    "\n",
    "print(\"Result of subtracting dataFrame1 from dataFrame2:\");\n",
    "print(subtractionResults);"
   ]
  },
  {
   "cell_type": "markdown",
   "metadata": {},
   "source": [
    "### STACK UNSTACK MELT"
   ]
  },
  {
   "cell_type": "code",
   "execution_count": 3,
   "metadata": {},
   "outputs": [
    {
     "name": "stdout",
     "output_type": "stream",
     "text": [
      "            Name            Team  Number Position   Age Height  Weight  \\\n",
      "0  Avery Bradley  Boston Celtics     0.0       PG  25.0    6-2   180.0   \n",
      "1    Jae Crowder  Boston Celtics    99.0       SF  25.0    6-6   235.0   \n",
      "2   John Holland  Boston Celtics    30.0       SG  27.0    6-5   205.0   \n",
      "3    R.J. Hunter  Boston Celtics    28.0       SG  22.0    6-5   185.0   \n",
      "4  Jonas Jerebko  Boston Celtics     8.0       PF  29.0   6-10   231.0   \n",
      "\n",
      "             College     Salary  \n",
      "0              Texas  7730337.0  \n",
      "1          Marquette  6796117.0  \n",
      "2  Boston University        NaN  \n",
      "3      Georgia State  1148640.0  \n",
      "4                NaN  5000000.0  \n"
     ]
    }
   ],
   "source": [
    "df = pd.read_csv(\"https://media.geeksforgeeks.org/wp-content/uploads/nba.csv\")\n",
    "print(df.head()) "
   ]
  },
  {
   "cell_type": "code",
   "execution_count": 4,
   "metadata": {},
   "outputs": [
    {
     "name": "stdout",
     "output_type": "stream",
     "text": [
      "0  Name            Avery Bradley\n",
      "   Team           Boston Celtics\n",
      "   Number                    0.0\n",
      "   Position                   PG\n",
      "   Age                      25.0\n",
      "   Height                    6-2\n",
      "   Weight                  180.0\n",
      "   College                 Texas\n",
      "   Salary              7730337.0\n",
      "1  Name              Jae Crowder\n",
      "   Team           Boston Celtics\n",
      "   Number                   99.0\n",
      "   Position                   SF\n",
      "   Age                      25.0\n",
      "   Height                    6-6\n",
      "   Weight                  235.0\n",
      "   College             Marquette\n",
      "   Salary              6796117.0\n",
      "2  Name             John Holland\n",
      "   Team           Boston Celtics\n",
      "   Number                   30.0\n",
      "   Position                   SG\n",
      "   Age                      27.0\n",
      "   Height                    6-5\n",
      "   Weight                  205.0\n",
      "   College     Boston University\n",
      "dtype: object\n"
     ]
    }
   ],
   "source": [
    "df_stacked = df.stack()\n",
    "  \n",
    "print(df_stacked.head(26))"
   ]
  },
  {
   "cell_type": "code",
   "execution_count": 5,
   "metadata": {},
   "outputs": [
    {
     "name": "stdout",
     "output_type": "stream",
     "text": [
      "            Name            Team Number Position   Age Height Weight  \\\n",
      "0  Avery Bradley  Boston Celtics    0.0       PG  25.0    6-2  180.0   \n",
      "1    Jae Crowder  Boston Celtics   99.0       SF  25.0    6-6  235.0   \n",
      "2   John Holland  Boston Celtics   30.0       SG  27.0    6-5  205.0   \n",
      "3    R.J. Hunter  Boston Celtics   28.0       SG  22.0    6-5  185.0   \n",
      "4  Jonas Jerebko  Boston Celtics    8.0       PF  29.0   6-10  231.0   \n",
      "5   Amir Johnson  Boston Celtics   90.0       PF  29.0    6-9  240.0   \n",
      "6  Jordan Mickey  Boston Celtics   55.0       PF  21.0    6-8  235.0   \n",
      "7   Kelly Olynyk  Boston Celtics   41.0        C  25.0    7-0  238.0   \n",
      "8   Terry Rozier  Boston Celtics   12.0       PG  22.0    6-2  190.0   \n",
      "9   Marcus Smart  Boston Celtics   36.0       PG  22.0    6-4  220.0   \n",
      "\n",
      "             College      Salary  \n",
      "0              Texas   7730337.0  \n",
      "1          Marquette   6796117.0  \n",
      "2  Boston University         NaN  \n",
      "3      Georgia State   1148640.0  \n",
      "4                NaN   5000000.0  \n",
      "5                NaN  12000000.0  \n",
      "6                LSU   1170960.0  \n",
      "7            Gonzaga   2165160.0  \n",
      "8         Louisville   1824360.0  \n",
      "9     Oklahoma State   3431040.0  \n"
     ]
    }
   ],
   "source": [
    "df_unstacked = df_stacked.unstack()\n",
    "print(df_unstacked.head(10))"
   ]
  },
  {
   "cell_type": "code",
   "execution_count": 6,
   "metadata": {},
   "outputs": [
    {
     "name": "stdout",
     "output_type": "stream",
     "text": [
      "            Name            Team variable value\n",
      "0  Avery Bradley  Boston Celtics   Number   0.0\n",
      "1    Jae Crowder  Boston Celtics   Number  99.0\n",
      "2   John Holland  Boston Celtics   Number  30.0\n",
      "3    R.J. Hunter  Boston Celtics   Number  28.0\n",
      "4  Jonas Jerebko  Boston Celtics   Number   8.0\n",
      "5   Amir Johnson  Boston Celtics   Number  90.0\n",
      "6  Jordan Mickey  Boston Celtics   Number  55.0\n",
      "7   Kelly Olynyk  Boston Celtics   Number  41.0\n",
      "8   Terry Rozier  Boston Celtics   Number  12.0\n",
      "9   Marcus Smart  Boston Celtics   Number  36.0\n"
     ]
    }
   ],
   "source": [
    "# it takes two columns \"Name\" and \"Team\"\n",
    "df_melt = df.melt(id_vars =['Name', 'Team']) \n",
    "print(df_melt.head(10))"
   ]
  },
  {
   "cell_type": "markdown",
   "metadata": {},
   "source": [
    "FIRST N CHARACTERS, FILTERING"
   ]
  },
  {
   "cell_type": "code",
   "execution_count": null,
   "metadata": {},
   "outputs": [],
   "source": [
    "nobel[nobel['sex']=='Female'].nsmallest(1,'year')"
   ]
  },
  {
   "cell_type": "markdown",
   "metadata": {},
   "source": [
    "Recurring, tekrar eden kisiler degerler"
   ]
  },
  {
   "cell_type": "code",
   "execution_count": null,
   "metadata": {},
   "outputs": [],
   "source": [
    "# Selecting the laureates that have received 2 or more prizes.\n",
    "# ... YOUR CODE FOR TASK 5 ...\n",
    "nobel.groupby('full_name').filter(lambda x: len(x)>1)"
   ]
  },
  {
   "cell_type": "markdown",
   "metadata": {},
   "source": [
    "Value Counts, ne kadar deger var, group by count yani"
   ]
  },
  {
   "cell_type": "code",
   "execution_count": null,
   "metadata": {},
   "outputs": [],
   "source": [
    "nsfg['outcome'].value_counts().sort_index()"
   ]
  },
  {
   "cell_type": "markdown",
   "metadata": {},
   "source": [
    "###Importing  \n",
    "If you'll assign column names to the imported file, you gotta do it for EVERY column. If you'll change a few, do it after the import.  \n",
    "\n",
    "--> usecols = Belli columnları importlama"
   ]
  },
  {
   "cell_type": "code",
   "execution_count": null,
   "metadata": {},
   "outputs": [],
   "source": [
    "# Create list of columns to use\n",
    "cols = ['zipcode', 'agi_stub', 'mars1', 'MARS2', 'NUMDEP']\n",
    "\n",
    "# Create dataframe from csv using only selected columns\n",
    "data = pd.read_csv(\"vt_tax_data_2016.csv\"\n",
    "    , usecols = cols\n",
    "    , nrows = 500\n",
    "    , skiprows = 500\n",
    "    , header = None)\n",
    "\n",
    "# View counts of dependents and tax returns by income level\n",
    "print(data.groupby(\"agi_stub\").sum())"
   ]
  },
  {
   "cell_type": "markdown",
   "metadata": {},
   "source": [
    "Nice work! Setting data types at import requires becoming familiar with the data first, but it can save effort later on. A common workflow is to load the data and explore it, then write code that sets data types at import to share with colleagues or other audiences."
   ]
  },
  {
   "cell_type": "code",
   "execution_count": null,
   "metadata": {},
   "outputs": [],
   "source": [
    "# Create dict specifying data types for agi_stub and zipcode\n",
    "data_types = {'agi_stub':'category',\n",
    "\t\t\t  'zipcode':'str'}\n",
    "\n",
    "# Load csv using dtype to set correct data types\n",
    "data = pd.read_csv(\"vt_tax_data_2016.csv\", dtype = data_types)\n",
    "\n",
    "# Print data types of resulting frame\n",
    "print(data.dtypes.head())"
   ]
  },
  {
   "cell_type": "markdown",
   "metadata": {},
   "source": [
    "NULL VALUEları handle etme ve import etmeden set etme  \n",
    "Create a dictionary, null_values, specifying that 0s in the zipcode column should be considered NA values."
   ]
  },
  {
   "cell_type": "code",
   "execution_count": null,
   "metadata": {},
   "outputs": [],
   "source": [
    "# Create dict specifying that 0s in zipcode are NA values\n",
    "null_values = {'zipcode':0}\n",
    "\n",
    "# Load csv using na_values keyword argument\n",
    "data = pd.read_csv(\"vt_tax_data_2016.csv\", \n",
    "                   na_values = null_values)\n",
    "\n",
    "# View rows with NA ZIP codes\n",
    "print(data[data.zipcode.isna()])"
   ]
  },
  {
   "cell_type": "markdown",
   "metadata": {},
   "source": [
    "error False olunca skip ediyor hatalı kayıtları  \n",
    "warn true olunca da belirtiyor hatalı kayıtları."
   ]
  },
  {
   "cell_type": "code",
   "execution_count": null,
   "metadata": {},
   "outputs": [],
   "source": [
    "try:\n",
    "  # Set warn_bad_lines to issue warnings about bad records\n",
    "  data = pd.read_csv(\"vt_tax_data_2016_corrupt.csv\", \n",
    "                     error_bad_lines = False, \n",
    "                     warn_bad_lines = True)\n",
    "  \n",
    "  # View first 5 records\n",
    "  print(data.head())\n",
    "  \n",
    "except pd.errors.ParserError:\n",
    "    print(\"Your data contained rows that could not be parsed.\")"
   ]
  },
  {
   "cell_type": "markdown",
   "metadata": {},
   "source": [
    "When creating the string, remember you can specify column ranges with :, and list columns/ranges separated by commas, e.g., \"A:D, H\" gets columns A through D, inclusive, plus column H."
   ]
  },
  {
   "cell_type": "code",
   "execution_count": 1,
   "metadata": {},
   "outputs": [
    {
     "data": {
      "text/plain": [
       "['AD,AW:BA']"
      ]
     },
     "execution_count": 1,
     "metadata": {},
     "output_type": "execute_result"
    }
   ],
   "source": [
    "# Create string of lettered columns to load\n",
    "col_string = \"AD, AW:BA\"\n",
    "\n",
    "# Load data with skiprows and usecols set\n",
    "survey_responses = pd.read_excel(\"fcc_survey_headers.xlsx\", \n",
    "                                 skiprows=2, \n",
    "                                 nrows=1331,\n",
    "                                 usecols=col_string)\n",
    "\n",
    "# View the names of the columns selected\n",
    "print(survey_responses.columns)"
   ]
  },
  {
   "cell_type": "markdown",
   "metadata": {},
   "source": [
    "Read_Excel() + Sheet varsa --> index ile de belirtebilirsin, sheet name ile de. Hatta mix bile yapabilion.  \n",
    "Hepsini almak icin sheet_name = None"
   ]
  },
  {
   "cell_type": "markdown",
   "metadata": {},
   "source": [
    "Modifying imports: true/false data\n",
    "\n",
    "NA/missing values in Boolean columns are changed to True  \n",
    "pandas automatically recognizes some values as True / False in Boolean columns  \n",
    "Unrecognized values in a Boolean column are also changed to True  \n",
    "Use read excel() 's true values argument to set custom True values and false values to set custom False values  \n",
    "Each takes a list of values to treat as True / False , respectively  \n",
    "Custom True / False values are only applied to columns set as Boolean"
   ]
  },
  {
   "cell_type": "code",
   "execution_count": 5,
   "metadata": {},
   "outputs": [
    {
     "data": {
      "text/plain": [
       "'A:D'"
      ]
     },
     "execution_count": 5,
     "metadata": {},
     "output_type": "execute_result"
    }
   ],
   "source": [
    "# Load file with Yes as a True value and No as a False value\n",
    "survey_subset = pd.read_excel(\"fcc_survey_yn_data.xlsx\",\n",
    "                              dtype={\"HasDebt\": bool,\n",
    "                              \"AttendedBootCampYesNo\": bool},\n",
    "                              true_values = [\"Yes\"],\n",
    "                              false_values = [\"No\"])\n",
    "\n",
    "# View the data\n",
    "print(survey_subset.head())"
   ]
  },
  {
   "cell_type": "markdown",
   "metadata": {},
   "source": [
    "### Datetime Import\n",
    "\n",
    "- Default olarak object olarak alıyor.\n",
    "- dtype olarak degil parse_dates ile belirtecegiz\n",
    "\n",
    "\n",
    "Note that the keys in a dictionary passed to parse_dates cannot be names of columns already in the dataframe. Also, when combining columns to parse, their order in the list does not matter.\n",
    "\n",
    "For Non Standard Dates:\n",
    "parse_dates doesn't work with non-standard datetime formats  \n",
    "Use pd.to_datetime() aer loading data if parse_dates won't work"
   ]
  },
  {
   "cell_type": "code",
   "execution_count": null,
   "metadata": {},
   "outputs": [],
   "source": [
    "# Create dict of columns to combine into new datetime column\n",
    "datetime_cols = {\"Part2Start\": [\"Part2StartDate\", \"Part2StartTime\"]}\n",
    "\n",
    "date_cols = [\"Part1StartTime\",\"Part1EndTime\"] ## böyle de yaparsın ama sütuna isim veremiyo olursun o yüzden dict\n",
    "\n",
    "# Load file, supplying the dict to parse_dates\n",
    "survey_data = pd.read_excel(\"fcc_survey_dts.xlsx\",\n",
    "                            parse_dates = datetime_cols)\n",
    "\n",
    "# View summary statistics about Part2Start\n",
    "print(survey_data.Part2Start.describe())"
   ]
  },
  {
   "cell_type": "markdown",
   "metadata": {},
   "source": [
    "### Importing Json\n",
    "\n",
    "orient çok önemli. Split var, columnwise var, recordwise var.\n",
    "\n",
    "Json normalize, nested json'lar için. Pandas'ın default libinde yok ekstra çağırmak gerekiyor.\n"
   ]
  },
  {
   "cell_type": "code",
   "execution_count": null,
   "metadata": {},
   "outputs": [],
   "source": [
    "# Load json_normalize()\n",
    "from pandas.io.json import json_normalize\n",
    "\n",
    "# Isolate the JSON data from the API response\n",
    "data = response.json()\n",
    "\n",
    "# Flatten business data into a dataframe, replace separator\n",
    "flat_cafes = json_normalize(data[\"businesses\"],\n",
    "                            sep=\"_\",\n",
    "                    \t\trecord_path=\"categories\",\n",
    "                    \t\tmeta=['name', \n",
    "                                  'alias',  \n",
    "                                  'rating',\n",
    "                          \t\t  ['coordinates', 'latitude'], \n",
    "                          \t\t  ['coordinates', 'longitude']],\n",
    "                    \t\tmeta_prefix='biz_')\n"
   ]
  }
 ],
 "metadata": {
  "interpreter": {
   "hash": "5e4e86a3eecc889cd4754624ee0ea47e3ffa0a208e3f68e60aa80b17c99935da"
  },
  "kernelspec": {
   "display_name": "Python 3.10.4 ('python_310env')",
   "language": "python",
   "name": "python3"
  },
  "language_info": {
   "codemirror_mode": {
    "name": "ipython",
    "version": 3
   },
   "file_extension": ".py",
   "mimetype": "text/x-python",
   "name": "python",
   "nbconvert_exporter": "python",
   "pygments_lexer": "ipython3",
   "version": "3.10.4"
  },
  "orig_nbformat": 4
 },
 "nbformat": 4,
 "nbformat_minor": 2
}
