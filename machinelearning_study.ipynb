{
 "cells": [
  {
   "cell_type": "markdown",
   "metadata": {},
   "source": [
    "train test splitinde kullanılan bişi, sklearn için"
   ]
  },
  {
   "cell_type": "code",
   "execution_count": null,
   "metadata": {},
   "outputs": [],
   "source": [
    "from scipy.sparse import hstack\n",
    "train_spa=hstack((train_spa,train_transf[cat_vars[-3:-1]]))\n",
    "test_spa=hstack((test_spa,test_transf[cat_vars[-3:-1]]))"
   ]
  }
 ],
 "metadata": {
  "language_info": {
   "name": "python"
  },
  "orig_nbformat": 4
 },
 "nbformat": 4,
 "nbformat_minor": 2
}
