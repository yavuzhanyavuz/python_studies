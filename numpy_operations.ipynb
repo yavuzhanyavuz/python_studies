{
 "cells": [
  {
   "cell_type": "code",
   "execution_count": 14,
   "metadata": {},
   "outputs": [],
   "source": [
    "import pandas as pd, numpy as np"
   ]
  },
  {
   "cell_type": "code",
   "execution_count": 58,
   "metadata": {},
   "outputs": [
    {
     "name": "stdout",
     "output_type": "stream",
     "text": [
      "[0, 1, 2, 3, 4, 5]\n",
      "[0, 1, 2, 3, 5]\n",
      "[1, 2, 3, 5]\n"
     ]
    }
   ],
   "source": [
    "b = [0,1,2,3,4,5,666]\n",
    "b.remove(666)\n",
    "print(b)\n",
    "b.pop(-2)\n",
    "print(b)\n",
    "\n",
    "b.pop(0)\n",
    "print(b)\n"
   ]
  },
  {
   "cell_type": "code",
   "execution_count": 15,
   "metadata": {},
   "outputs": [
    {
     "name": "stdout",
     "output_type": "stream",
     "text": [
      "[3 6 9]\n"
     ]
    }
   ],
   "source": [
    "array1 = np.arange(3,10,3)\n",
    "print(array1)"
   ]
  },
  {
   "cell_type": "code",
   "execution_count": 16,
   "metadata": {},
   "outputs": [
    {
     "name": "stdout",
     "output_type": "stream",
     "text": [
      "[ 27 216 729]\n",
      "[  81 1296 6561]\n"
     ]
    }
   ],
   "source": [
    "print(np.power(array1,3))\n",
    "print(array1**4)"
   ]
  },
  {
   "cell_type": "code",
   "execution_count": 17,
   "metadata": {},
   "outputs": [
    {
     "name": "stdout",
     "output_type": "stream",
     "text": [
      "[ True False False]\n",
      "[3]\n"
     ]
    }
   ],
   "source": [
    "conditional_filter = array1 < 5\n",
    "print(conditional_filter)\n",
    "print(array1[conditional_filter])"
   ]
  },
  {
   "cell_type": "code",
   "execution_count": 18,
   "metadata": {},
   "outputs": [
    {
     "data": {
      "text/plain": [
       "array([[153, 206],\n",
       "       [122, 164]])"
      ]
     },
     "execution_count": 18,
     "metadata": {},
     "output_type": "execute_result"
    }
   ],
   "source": [
    "# matrix multiplication\n",
    "array2 = np.array([[3,5],[2,4]])\n",
    "array3 = np.array([[1,2],[30,40]])\n",
    "array2 @ array3"
   ]
  },
  {
   "cell_type": "code",
   "execution_count": 19,
   "metadata": {},
   "outputs": [
    {
     "data": {
      "text/plain": [
       "array([[153, 206],\n",
       "       [122, 164]])"
      ]
     },
     "execution_count": 19,
     "metadata": {},
     "output_type": "execute_result"
    }
   ],
   "source": [
    "array2.dot(array3)"
   ]
  },
  {
   "cell_type": "code",
   "execution_count": 20,
   "metadata": {},
   "outputs": [
    {
     "name": "stdout",
     "output_type": "stream",
     "text": [
      "[[0.73884503 0.3150557 ]\n",
      " [0.60473329 0.44442589]\n",
      " [0.93576294 0.76831241]]\n",
      "0.3150557049159123\n",
      "3.807135256991103\n",
      "[2.27934125 1.52779401]\n"
     ]
    }
   ],
   "source": [
    "random_array = np.random.random((3,2))\n",
    "print(random_array)\n",
    "print(random_array.min())\n",
    "print(random_array.sum())\n",
    "print(random_array.sum(axis=0)) ##column wise ekle"
   ]
  },
  {
   "cell_type": "code",
   "execution_count": 21,
   "metadata": {},
   "outputs": [
    {
     "name": "stdout",
     "output_type": "stream",
     "text": [
      "Help on function triu in module numpy:\n",
      "\n",
      "triu(m, k=0)\n",
      "    Upper triangle of an array.\n",
      "    \n",
      "    Return a copy of an array with the elements below the `k`-th diagonal\n",
      "    zeroed.\n",
      "    \n",
      "    Please refer to the documentation for `tril` for further details.\n",
      "    \n",
      "    See Also\n",
      "    --------\n",
      "    tril : lower triangle of an array\n",
      "    \n",
      "    Examples\n",
      "    --------\n",
      "    >>> np.triu([[1,2,3],[4,5,6],[7,8,9],[10,11,12]], -1)\n",
      "    array([[ 1,  2,  3],\n",
      "           [ 4,  5,  6],\n",
      "           [ 0,  8,  9],\n",
      "           [ 0,  0, 12]])\n",
      "\n"
     ]
    }
   ],
   "source": [
    "help(np.triu)"
   ]
  },
  {
   "cell_type": "code",
   "execution_count": 22,
   "metadata": {},
   "outputs": [
    {
     "name": "stdout",
     "output_type": "stream",
     "text": [
      "[[1 1 1 1]\n",
      " [1 1 1 1]\n",
      " [1 1 1 1]]\n",
      "[[200 200 200 200]\n",
      " [200 200 200 200]\n",
      " [200 200 200 200]]\n",
      "[[-25536 -25536 -25536 -25536]\n",
      " [-25536 -25536 -25536 -25536]\n",
      " [-25536 -25536 -25536 -25536]]\n"
     ]
    }
   ],
   "source": [
    "a = np.ones((3,4), dtype=np.int8)\n",
    "print(a)\n",
    "a = a*200\n",
    "print(a)\n",
    "a = a*200\n",
    "print(a)"
   ]
  },
  {
   "cell_type": "code",
   "execution_count": 23,
   "metadata": {},
   "outputs": [
    {
     "name": "stdout",
     "output_type": "stream",
     "text": [
      "[[ 0  1  2  3]\n",
      " [ 4  5  6  7]\n",
      " [ 8  9 10 11]\n",
      " [12 13 14 15]\n",
      " [16 17 18 19]]\n",
      "[[ 0  1]\n",
      " [ 2  3]\n",
      " [ 4  5]\n",
      " [ 6  7]\n",
      " [ 8  9]\n",
      " [10 11]\n",
      " [12 13]\n",
      " [14 15]\n",
      " [16 17]\n",
      " [18 19]]\n",
      "[[ 0  1  2  3]\n",
      " [ 4  5  6  7]\n",
      " [ 8  9 10 11]\n",
      " [12 13 14 15]\n",
      " [16 17 18 19]]\n"
     ]
    }
   ],
   "source": [
    "a=np.array(np.arange(20))\n",
    "a = a.reshape(5,4)\n",
    "print(a)\n",
    "a.resize(10,2)\n",
    "print(a)\n",
    "a.resize(5,4)\n",
    "print(a)"
   ]
  },
  {
   "cell_type": "code",
   "execution_count": 24,
   "metadata": {},
   "outputs": [
    {
     "name": "stdout",
     "output_type": "stream",
     "text": [
      "[3 2]\n"
     ]
    },
    {
     "data": {
      "text/plain": [
       "array([[ 3,  3],\n",
       "       [ 5,  5],\n",
       "       [ 7,  7],\n",
       "       [ 9,  9],\n",
       "       [11, 11],\n",
       "       [13, 13],\n",
       "       [15, 15],\n",
       "       [17, 17],\n",
       "       [19, 19],\n",
       "       [21, 21]])"
      ]
     },
     "execution_count": 24,
     "metadata": {},
     "output_type": "execute_result"
    }
   ],
   "source": [
    "b = np.array([3,2])\n",
    "print(b)\n",
    "a.resize(10,2)\n",
    "a + b"
   ]
  },
  {
   "cell_type": "code",
   "execution_count": 25,
   "metadata": {},
   "outputs": [
    {
     "name": "stdout",
     "output_type": "stream",
     "text": [
      "[10, 20, 30, 10, 20, 30]\n",
      "<map object at 0x00000224C7A965B0>\n",
      "[30, 60, 90]\n"
     ]
    }
   ],
   "source": [
    "my_list = [10,20,30]\n",
    "print(my_list*2)\n",
    "mapobj = map(lambda x: 3*x, my_list)\n",
    "print(mapobj)\n",
    "print(list(mapobj))"
   ]
  },
  {
   "cell_type": "code",
   "execution_count": 26,
   "metadata": {},
   "outputs": [
    {
     "name": "stdout",
     "output_type": "stream",
     "text": [
      "              column1   column2       column3\n",
      "column1  1.000000e+00 -0.997048  4.993708e-17\n",
      "column2 -9.970477e-01  1.000000  7.347000e-02\n",
      "column3  4.993708e-17  0.073470  1.000000e+00\n",
      "<class 'pandas.core.frame.DataFrame'>\n"
     ]
    }
   ],
   "source": [
    "# create dataframe with 3 columns\n",
    "data = pd.DataFrame({\n",
    "    \"column1\": [12, 23, 45, 67],\n",
    "    \"column2\": [67, 54, 32, 1],\n",
    "    \"column3\": [34, 23, 56, 23]\n",
    "}\n",
    ")\n",
    "# get correlation between element wise\n",
    "correlation_matrix = data.corr()\n",
    "print(correlation_matrix)\n",
    "print(type(correlation_matrix))"
   ]
  },
  {
   "cell_type": "code",
   "execution_count": 27,
   "metadata": {},
   "outputs": [
    {
     "name": "stdout",
     "output_type": "stream",
     "text": [
      "              column1   column2       column3\n",
      "column1  1.000000e+00  0.997048  4.993708e-17\n",
      "column2  9.970477e-01  1.000000  7.347000e-02\n",
      "column3  4.993708e-17  0.073470  1.000000e+00\n",
      "\n",
      " hehehehehehe \n",
      "\n",
      "column1  column1    1.000000e+00\n",
      "         column2    9.970477e-01\n",
      "         column3    4.993708e-17\n",
      "column2  column1    9.970477e-01\n",
      "         column2    1.000000e+00\n",
      "         column3    7.347000e-02\n",
      "column3  column1    4.993708e-17\n",
      "         column2    7.347000e-02\n",
      "         column3    1.000000e+00\n",
      "dtype: float64\n"
     ]
    }
   ],
   "source": [
    "print(correlation_matrix.abs())\n",
    "print('\\n {} \\n'.format('hehe'*3))\n",
    "print(correlation_matrix.abs().unstack())"
   ]
  },
  {
   "cell_type": "code",
   "execution_count": 28,
   "metadata": {},
   "outputs": [
    {
     "name": "stdout",
     "output_type": "stream",
     "text": [
      "              column1   column2       column3\n",
      "column1  0.000000e+00 -0.997048  4.993708e-17\n",
      "column2 -9.970477e-01  0.000000  7.347000e-02\n",
      "column3  4.993708e-17  0.073470  0.000000e+00\n",
      "column1    4.993708e-17\n",
      "column2    7.347000e-02\n",
      "column3    7.347000e-02\n",
      "dtype: float64\n"
     ]
    }
   ],
   "source": [
    "manipulated_corr = correlation_matrix.replace(to_replace=1,value=0)\n",
    "print(manipulated_corr)\n",
    "print(manipulated_corr.max())"
   ]
  },
  {
   "cell_type": "code",
   "execution_count": 29,
   "metadata": {},
   "outputs": [
    {
     "name": "stdout",
     "output_type": "stream",
     "text": [
      "<class 'pandas.core.series.Series'>\n",
      "column1  column1    0.000000e+00\n",
      "         column2    9.970477e-01\n",
      "         column3    4.993708e-17\n",
      "column2  column1    9.970477e-01\n",
      "         column2    0.000000e+00\n",
      "         column3    7.347000e-02\n",
      "column3  column1    4.993708e-17\n",
      "         column2    7.347000e-02\n",
      "         column3    0.000000e+00\n",
      "dtype: float64\n",
      "0.9970476685163736\n",
      "('column1', 'column2')\n"
     ]
    }
   ],
   "source": [
    "unstacked = manipulated_corr.abs().unstack()\n",
    "print(type(unstacked))\n",
    "print(unstacked)\n",
    "print(unstacked.max())\n",
    "print(unstacked.idxmax())"
   ]
  },
  {
   "cell_type": "code",
   "execution_count": 30,
   "metadata": {},
   "outputs": [
    {
     "name": "stdout",
     "output_type": "stream",
     "text": [
      "124\n"
     ]
    }
   ],
   "source": [
    "my_list2 = range(31)\n",
    "arr3 = np.array(my_list2)\n",
    "print(arr3.nbytes)"
   ]
  },
  {
   "cell_type": "markdown",
   "metadata": {},
   "source": [
    "## ELEMAN BAZLI CALISIYOR DIZI BAZLI DEGIL, ICINDE SERI BILE OLSA \n",
    "np.full np.repeat'in tersi, liste olursa unique'leri alır.\n"
   ]
  },
  {
   "cell_type": "code",
   "execution_count": 31,
   "metadata": {},
   "outputs": [
    {
     "name": "stdout",
     "output_type": "stream",
     "text": [
      "<built-in function zeros>\n",
      "<function ones at 0x00000224C58C9CA0>\n",
      "[10 10 10 10 10]\n",
      "[5 5 5 5 5 5 5 5 5 5]\n",
      "[10 10 10 20 20 20 30 30 30]\n"
     ]
    }
   ],
   "source": [
    "print(np.zeros)\n",
    "print(np.ones)\n",
    "print(np.repeat(10,5))\n",
    "print(np.full(10,5))\n",
    "\n",
    "a = np.array([10,20,30])\n",
    "print(np.repeat(a, 3))"
   ]
  },
  {
   "cell_type": "markdown",
   "metadata": {},
   "source": [
    "np.full np.repeat'in tersi  \n",
    "liste olursa unique'leri alır.  \n",
    "\n",
    "10-20-30 yazdıran ödev istiyor. 3 kez 10 20 30 yazdırcan\n"
   ]
  },
  {
   "cell_type": "code",
   "execution_count": 32,
   "metadata": {},
   "outputs": [
    {
     "name": "stdout",
     "output_type": "stream",
     "text": [
      "[10 10 10 10 10]\n",
      "[5 5 5 5 5 5 5 5 5 5]\n",
      "[10 20 30]\n"
     ]
    }
   ],
   "source": [
    "print(np.repeat(10,5))\n",
    "print(np.full(10,5))\n",
    "print(np.full(3,a))"
   ]
  },
  {
   "cell_type": "code",
   "execution_count": 33,
   "metadata": {},
   "outputs": [
    {
     "name": "stdout",
     "output_type": "stream",
     "text": [
      "[[[3 3 3 ... 3 3 3]\n",
      "  [3 3 3 ... 3 3 3]\n",
      "  [3 3 3 ... 3 3 3]\n",
      "  ...\n",
      "  [3 3 3 ... 3 3 3]\n",
      "  [3 3 3 ... 3 3 3]\n",
      "  [3 3 3 ... 3 3 3]]\n",
      "\n",
      " [[3 3 3 ... 3 3 3]\n",
      "  [3 3 3 ... 3 3 3]\n",
      "  [3 3 3 ... 3 3 3]\n",
      "  ...\n",
      "  [3 3 3 ... 3 3 3]\n",
      "  [3 3 3 ... 3 3 3]\n",
      "  [3 3 3 ... 3 3 3]]\n",
      "\n",
      " [[3 3 3 ... 3 3 3]\n",
      "  [3 3 3 ... 3 3 3]\n",
      "  [3 3 3 ... 3 3 3]\n",
      "  ...\n",
      "  [3 3 3 ... 3 3 3]\n",
      "  [3 3 3 ... 3 3 3]\n",
      "  [3 3 3 ... 3 3 3]]\n",
      "\n",
      " ...\n",
      "\n",
      " [[3 3 3 ... 3 3 3]\n",
      "  [3 3 3 ... 3 3 3]\n",
      "  [3 3 3 ... 3 3 3]\n",
      "  ...\n",
      "  [3 3 3 ... 3 3 3]\n",
      "  [3 3 3 ... 3 3 3]\n",
      "  [3 3 3 ... 3 3 3]]\n",
      "\n",
      " [[3 3 3 ... 3 3 3]\n",
      "  [3 3 3 ... 3 3 3]\n",
      "  [3 3 3 ... 3 3 3]\n",
      "  ...\n",
      "  [3 3 3 ... 3 3 3]\n",
      "  [3 3 3 ... 3 3 3]\n",
      "  [3 3 3 ... 3 3 3]]\n",
      "\n",
      " [[3 3 3 ... 3 3 3]\n",
      "  [3 3 3 ... 3 3 3]\n",
      "  [3 3 3 ... 3 3 3]\n",
      "  ...\n",
      "  [3 3 3 ... 3 3 3]\n",
      "  [3 3 3 ... 3 3 3]\n",
      "  [3 3 3 ... 3 3 3]]]\n",
      "10\n",
      "[[3 3 3 3 3 3 3 3 3 3 3 3 3 3 3 3 3 3 3 3 3 3 3 3 3 3 3 3 3 3]\n",
      " [3 3 3 3 3 3 3 3 3 3 3 3 3 3 3 3 3 3 3 3 3 3 3 3 3 3 3 3 3 3]\n",
      " [3 3 3 3 3 3 3 3 3 3 3 3 3 3 3 3 3 3 3 3 3 3 3 3 3 3 3 3 3 3]\n",
      " [3 3 3 3 3 3 3 3 3 3 3 3 3 3 3 3 3 3 3 3 3 3 3 3 3 3 3 3 3 3]\n",
      " [3 3 3 3 3 3 3 3 3 3 3 3 3 3 3 3 3 3 3 3 3 3 3 3 3 3 3 3 3 3]\n",
      " [3 3 3 3 3 3 3 3 3 3 3 3 3 3 3 3 3 3 3 3 3 3 3 3 3 3 3 3 3 3]\n",
      " [3 3 3 3 3 3 3 3 3 3 3 3 3 3 3 3 3 3 3 3 3 3 3 3 3 3 3 3 3 3]\n",
      " [3 3 3 3 3 3 3 3 3 3 3 3 3 3 3 3 3 3 3 3 3 3 3 3 3 3 3 3 3 3]\n",
      " [3 3 3 3 3 3 3 3 3 3 3 3 3 3 3 3 3 3 3 3 3 3 3 3 3 3 3 3 3 3]\n",
      " [3 3 3 3 3 3 3 3 3 3 3 3 3 3 3 3 3 3 3 3 3 3 3 3 3 3 3 3 3 3]\n",
      " [3 3 3 3 3 3 3 3 3 3 3 3 3 3 3 3 3 3 3 3 3 3 3 3 3 3 3 3 3 3]\n",
      " [3 3 3 3 3 3 3 3 3 3 3 3 3 3 3 3 3 3 3 3 3 3 3 3 3 3 3 3 3 3]\n",
      " [3 3 3 3 3 3 3 3 3 3 3 3 3 3 3 3 3 3 3 3 3 3 3 3 3 3 3 3 3 3]\n",
      " [3 3 3 3 3 3 3 3 3 3 3 3 3 3 3 3 3 3 3 3 3 3 3 3 3 3 3 3 3 3]\n",
      " [3 3 3 3 3 3 3 3 3 3 3 3 3 3 3 3 3 3 3 3 3 3 3 3 3 3 3 3 3 3]\n",
      " [3 3 3 3 3 3 3 3 3 3 3 3 3 3 3 3 3 3 3 3 3 3 3 3 3 3 3 3 3 3]\n",
      " [3 3 3 3 3 3 3 3 3 3 3 3 3 3 3 3 3 3 3 3 3 3 3 3 3 3 3 3 3 3]\n",
      " [3 3 3 3 3 3 3 3 3 3 3 3 3 3 3 3 3 3 3 3 3 3 3 3 3 3 3 3 3 3]\n",
      " [3 3 3 3 3 3 3 3 3 3 3 3 3 3 3 3 3 3 3 3 3 3 3 3 3 3 3 3 3 3]\n",
      " [3 3 3 3 3 3 3 3 3 3 3 3 3 3 3 3 3 3 3 3 3 3 3 3 3 3 3 3 3 3]]\n",
      "[3 3 3 3 3 3 3 3 3 3 3 3 3 3 3 3 3 3 3 3 3 3 3 3 3 3 3 3 3 3]\n",
      "30\n"
     ]
    }
   ],
   "source": [
    "print(np.full(a,3))\n",
    "print(len(np.full(a,3)))\n",
    "\n",
    "agabunedir = np.full(a,3)\n",
    "print(agabunedir[3])\n",
    "print(agabunedir[3][1])\n",
    "print(len(agabunedir[3][1]))\n"
   ]
  },
  {
   "cell_type": "code",
   "execution_count": 34,
   "metadata": {},
   "outputs": [
    {
     "name": "stdout",
     "output_type": "stream",
     "text": [
      "[ 0 10 20 30 40 50 60 70 80 90]\n",
      "[19 10 20 42 40 45 60 70 80 90]\n",
      "None\n"
     ]
    }
   ],
   "source": [
    "\n",
    "p2 = np.arange(0,100,10)\n",
    "print(p2)\n",
    "p3 = np.put(p2, [0,3,5], [19, 42, 45])\n",
    "print(p2)\n",
    "print(p3)"
   ]
  },
  {
   "cell_type": "code",
   "execution_count": 35,
   "metadata": {},
   "outputs": [
    {
     "name": "stdout",
     "output_type": "stream",
     "text": [
      "None\n",
      "invalid\n"
     ]
    }
   ],
   "source": [
    "import re \n",
    "###\n",
    "# mail validity check eden fonksiyon yazacağız. total 8 rakam olmalı, ilk rakam 1,8,9 olmalı. \n",
    "###\n",
    "def phone_validator(tel_no):\n",
    "    pass\n",
    "\n",
    "ornek_no = '100000000'\n",
    "\n",
    "pattern = r'([189][0-9])'\n",
    "pattern2 = r'(^[189][0-9]{8,8})'\n",
    "\n",
    "pattern2 = r'((1|8|9)([0-9]{7})$)'\n",
    "\n",
    "print(re.search(pattern2, str(ornek_no)))\n",
    "\n",
    "match = re.search(pattern2, str(ornek_no))\n",
    "\n",
    "if match:\n",
    "    print('valid')\n",
    "else:\n",
    "    print('invalid')\n",
    "\n"
   ]
  },
  {
   "cell_type": "code",
   "execution_count": 36,
   "metadata": {},
   "outputs": [
    {
     "name": "stdout",
     "output_type": "stream",
     "text": [
      "[[   6.    7.    8.    9.]\n",
      " [  10.   20.   30.   40.]\n",
      " [  51.   61.   nan   81.]\n",
      " [ 112.  122.  132.   nan]\n",
      " [  nan 3123. 3133. 3143.]]\n"
     ]
    }
   ],
   "source": [
    "my_matrix = np.array([[6,7,8,9],[10,20,30,40], [51, 61, np.nan, 81], [112, 122, 132, np.nan], [np.nan, 3123, 3133, 3143]])\n",
    "print(my_matrix)"
   ]
  },
  {
   "cell_type": "code",
   "execution_count": 37,
   "metadata": {},
   "outputs": [
    {
     "data": {
      "text/plain": [
       "array([[False, False, False, False],\n",
       "       [False, False, False, False],\n",
       "       [False, False,  True, False],\n",
       "       [False, False, False,  True],\n",
       "       [ True, False, False, False]])"
      ]
     },
     "execution_count": 37,
     "metadata": {},
     "output_type": "execute_result"
    }
   ],
   "source": [
    "np.isnan(my_matrix)"
   ]
  },
  {
   "cell_type": "code",
   "execution_count": 38,
   "metadata": {},
   "outputs": [
    {
     "data": {
      "text/plain": [
       "(array([2, 3, 4], dtype=int64), array([2, 3, 0], dtype=int64))"
      ]
     },
     "execution_count": 38,
     "metadata": {},
     "output_type": "execute_result"
    }
   ],
   "source": [
    "np.where(np.isnan(my_matrix))"
   ]
  },
  {
   "cell_type": "markdown",
   "metadata": {},
   "source": [
    "### NP WHERE'DE SAYARKEN ILK ARRAY SATIR BAZLI, HANGI SATIRDA NAN VAR KONTROL EDIYOR. IKINCI ARRAY SUTUN BAZLI, ELEMENTLERIN ARRAYDEKI INDEKSINI DONUYOR. \n",
    "Ilk true 3. satırda ama bu bilgiyi mevcut dönütlerde göremeyiz. 2. arraydeki sıralama ilk true'dan başlıyor. Peki 2 true olsa ne yapardı?"
   ]
  },
  {
   "cell_type": "code",
   "execution_count": 39,
   "metadata": {},
   "outputs": [
    {
     "name": "stdout",
     "output_type": "stream",
     "text": [
      "[[   6.    7.    8.    9.]\n",
      " [  10.   20.   30.   40.]\n",
      " [  51.   nan   nan   81.]\n",
      " [ 112.  122.  132.   nan]\n",
      " [  nan 3123. 3133. 3143.]]\n",
      "(array([2, 2, 3, 4], dtype=int64), array([1, 2, 3, 0], dtype=int64))\n"
     ]
    },
    {
     "data": {
      "text/plain": [
       "array([[False, False, False, False],\n",
       "       [False, False, False, False],\n",
       "       [False,  True,  True, False],\n",
       "       [False, False, False,  True],\n",
       "       [ True, False, False, False]])"
      ]
     },
     "execution_count": 39,
     "metadata": {},
     "output_type": "execute_result"
    }
   ],
   "source": [
    "my_matrix = np.array([\n",
    "    [6,7,8,9],\n",
    "    [10,20,30,40],\n",
    "    [51, np.nan, np.nan, 81],\n",
    "    [112, 122, 132, np.nan],\n",
    "    [np.nan, 3123, 3133, 3143]\n",
    "    ])\n",
    "print(my_matrix)\n",
    "print(np.where(np.isnan(my_matrix)))\n",
    "np.isnan(my_matrix)"
   ]
  },
  {
   "cell_type": "markdown",
   "metadata": {},
   "source": [
    "vov ilginç. matrisi açıp, tek boyuta indirip düz sayıyor galiba."
   ]
  },
  {
   "cell_type": "code",
   "execution_count": 40,
   "metadata": {},
   "outputs": [
    {
     "name": "stdout",
     "output_type": "stream",
     "text": [
      "[[   6.    7.    8.    9.]\n",
      " [  10.   20.   30.   40.]\n",
      " [  51.   nan   nan   81.]\n",
      " [ 112.  122.  132.   nan]\n",
      " [  nan 3123. 3133. 3143.]]\n",
      "(array([2, 2, 3, 4], dtype=int64), array([1, 2, 3, 0], dtype=int64))\n"
     ]
    },
    {
     "data": {
      "text/plain": [
       "array([[False, False, False, False],\n",
       "       [False, False, False, False],\n",
       "       [False,  True,  True, False],\n",
       "       [False, False, False,  True],\n",
       "       [ True, False, False, False]])"
      ]
     },
     "execution_count": 40,
     "metadata": {},
     "output_type": "execute_result"
    }
   ],
   "source": [
    "my_matrix = np.array([\n",
    "    [6,7,8,9],\n",
    "    [10,20,30,40],\n",
    "    [51, np.nan, np.nan, 81],\n",
    "    [112, 122, 132, np.nan],\n",
    "    [np.nan, 3123, 3133, 3143]\n",
    "    ])\n",
    "print(my_matrix)\n",
    "print(np.where(np.isnan(my_matrix)))\n",
    "np.isnan(my_matrix)"
   ]
  },
  {
   "cell_type": "code",
   "execution_count": 2,
   "metadata": {},
   "outputs": [
    {
     "name": "stdout",
     "output_type": "stream",
     "text": [
      "<class 'numpy.ndarray'>\n",
      "[ True False False False False False False False False]\n",
      "[10]\n"
     ]
    }
   ],
   "source": [
    "import numpy as np \n",
    "nparray_1 = np.array([10,20,30,40,50,60,70,80,90])\n",
    "print(type(np.isin(nparray_1, 10)))\n",
    "print(np.isin(nparray_1, 10))\n",
    "print(nparray_1[np.isin(nparray_1, 10)])"
   ]
  },
  {
   "cell_type": "code",
   "execution_count": 42,
   "metadata": {},
   "outputs": [
    {
     "name": "stdout",
     "output_type": "stream",
     "text": [
      "[10 11 12 13 14 15 16 17 18 19 20 21 22 23 24 25 26 27 28 29]\n",
      "[29 28 27 26 25 24 23 22 21 20 19 18 17 16 15 14 13 12 11 10]\n",
      "[29 28 27 26 25 24 23 22 21 20 19 18 17 16 15 14 13 12 11 10]\n"
     ]
    }
   ],
   "source": [
    "nparray_2 = np.arange(10,30,1)\n",
    "print(nparray_2)\n",
    "print(nparray_2[::-1])\n",
    "print(np.flip(nparray_2))"
   ]
  },
  {
   "cell_type": "code",
   "execution_count": 14,
   "metadata": {},
   "outputs": [
    {
     "data": {
      "text/plain": [
       "array([[  20,   30,   10],\n",
       "       [  35,    3,    8],\n",
       "       [-100, -200, -300]])"
      ]
     },
     "execution_count": 14,
     "metadata": {},
     "output_type": "execute_result"
    }
   ],
   "source": [
    "nparray_3 = np.array([[20,30,10],[35,3,8],[-100, -200, -300]])\n",
    "nparray_3"
   ]
  },
  {
   "cell_type": "code",
   "execution_count": 6,
   "metadata": {},
   "outputs": [
    {
     "data": {
      "text/plain": [
       "array([[ 10,  20,  30],\n",
       "       [  3,   5,   8],\n",
       "       [100, 200, 300]])"
      ]
     },
     "execution_count": 6,
     "metadata": {},
     "output_type": "execute_result"
    }
   ],
   "source": [
    "nparray_3_2 = np.sort(nparray_3, axis=1)\n",
    "nparray_3_2"
   ]
  },
  {
   "cell_type": "code",
   "execution_count": 13,
   "metadata": {},
   "outputs": [
    {
     "data": {
      "text/plain": [
       "array([[-100, -200, -300],\n",
       "       [  20,    3,    8],\n",
       "       [  35,   30,   10]])"
      ]
     },
     "execution_count": 13,
     "metadata": {},
     "output_type": "execute_result"
    }
   ],
   "source": [
    "nparray_3_3 = np.sort(nparray_3, axis=0)\n",
    "nparray_3_3"
   ]
  },
  {
   "cell_type": "code",
   "execution_count": 46,
   "metadata": {},
   "outputs": [
    {
     "name": "stdout",
     "output_type": "stream",
     "text": [
      "[array([10, 20, 30]), array([12, 20, 33])]\n",
      "Stack Types, Horizontal: [10 20 30 12 20 33]\n",
      "Stack Types, Vertical: [[10 20 30]\n",
      " [12 20 33]]\n"
     ]
    }
   ],
   "source": [
    "import numpy as np \n",
    "c1 = np.array([10, 20, 30])\n",
    "c2 = np.array([12, 20, 33])\n",
    "print([c1,c2])\n",
    "print('Stack Types, Horizontal:',np.hstack([c1,c2]))\n",
    "print('Stack Types, Vertical:',np.vstack([c1,c2]))\n"
   ]
  },
  {
   "cell_type": "markdown",
   "metadata": {},
   "source": [
    "### subarraylar farklı data tipinde olabiliyor."
   ]
  },
  {
   "cell_type": "code",
   "execution_count": 47,
   "metadata": {},
   "outputs": [
    {
     "name": "stdout",
     "output_type": "stream",
     "text": [
      "[array([10, 20, 30]), array(['ab', 'cd', 'ef'], dtype='<U2')]\n",
      "Stack Types, Horizontal: ['10' '20' '30' 'ab' 'cd' 'ef']\n",
      "Stack Types, Vertical: [['10' '20' '30']\n",
      " ['ab' 'cd' 'ef']]\n"
     ]
    }
   ],
   "source": [
    "c1 = np.array([10, 20, 30])\n",
    "c2 = np.array(['ab', 'cd', 'ef'])\n",
    "print([c1,c2])\n",
    "print('Stack Types, Horizontal:',np.hstack([c1,c2]))\n",
    "print('Stack Types, Vertical:',np.vstack([c1,c2]))"
   ]
  },
  {
   "cell_type": "markdown",
   "metadata": {},
   "source": [
    "Matris çarpımı == dot"
   ]
  },
  {
   "cell_type": "code",
   "execution_count": 48,
   "metadata": {},
   "outputs": [
    {
     "data": {
      "text/plain": [
       "'\\n1 0 4    2 5      \\n3 3 1    1 1     \\n         3 2\\n'"
      ]
     },
     "execution_count": 48,
     "metadata": {},
     "output_type": "execute_result"
    }
   ],
   "source": [
    "x = np.array([[1,0,4],[3,3,1]])\n",
    "y = np.array([[2,5],[1,1],[3,2]])\n",
    "x.dot(y)\n",
    "\"\"\"\n",
    "1 0 4    2 5      \n",
    "3 3 1    1 1     \n",
    "         3 2\n",
    "\"\"\""
   ]
  },
  {
   "cell_type": "code",
   "execution_count": 49,
   "metadata": {},
   "outputs": [
    {
     "name": "stdout",
     "output_type": "stream",
     "text": [
      "We've just created a  <class 'numpy.ndarray'>\n",
      "Our template has shape as (2, 3)\n",
      "Total size is 6\n",
      "Item size is 4\n",
      "The dimension of our array is 2\n",
      "Data type of elements are int32\n",
      "It consumes 24 bytes\n",
      "Now = Int64 consumes 48 bytes\n"
     ]
    }
   ],
   "source": [
    "x = np.array([[1,2,3],[4,5,6]])\n",
    "print(\"We've just created a \", type(x))\n",
    "\n",
    "print(\"Our template has shape as\", x.shape)\n",
    "print(\"Total size is\", x.size)\n",
    "print(\"Item size is\", x.itemsize)\n",
    "print(\"The dimension of our array is\", x.ndim)\n",
    "print(\"Data type of elements are\", x.dtype)\n",
    "print(\"It consumes\", x.nbytes, \"bytes\")\n",
    "x = np.array(x, dtype=np.int64)\n",
    "print(\"Now = Int64 consumes\", x.nbytes, \"bytes\")"
   ]
  },
  {
   "cell_type": "code",
   "execution_count": 50,
   "metadata": {},
   "outputs": [
    {
     "data": {
      "text/plain": [
       "array([ 2, 14,  6,  8])"
      ]
     },
     "execution_count": 50,
     "metadata": {},
     "output_type": "execute_result"
    }
   ],
   "source": [
    "#Array operasyonları\n",
    "my_list = [2, 14, 6, 8]\n",
    "my_array = np.asarray(my_list)\n",
    "my_array"
   ]
  },
  {
   "cell_type": "code",
   "execution_count": 51,
   "metadata": {},
   "outputs": [
    {
     "data": {
      "text/plain": [
       "array([3., 3., 3., 3.])"
      ]
     },
     "execution_count": 51,
     "metadata": {},
     "output_type": "execute_result"
    }
   ],
   "source": [
    "second_array = np.zeros(4) + 3\n",
    "second_array"
   ]
  },
  {
   "cell_type": "code",
   "execution_count": 52,
   "metadata": {},
   "outputs": [
    {
     "data": {
      "text/plain": [
       "array([[1., 0., 0., 0.],\n",
       "       [0., 1., 0., 0.],\n",
       "       [0., 0., 1., 0.],\n",
       "       [0., 0., 0., 1.]])"
      ]
     },
     "execution_count": 52,
     "metadata": {},
     "output_type": "execute_result"
    }
   ],
   "source": [
    "third_array = np.identity(4)\n",
    "third_array"
   ]
  },
  {
   "cell_type": "markdown",
   "metadata": {},
   "source": [
    "repeat dersen her itemı 3 kere olusturur oyle ilerler"
   ]
  },
  {
   "cell_type": "code",
   "execution_count": 53,
   "metadata": {},
   "outputs": [
    {
     "data": {
      "text/plain": [
       "array([10, 10, 10, 20, 20, 20, 30, 30, 30])"
      ]
     },
     "execution_count": 53,
     "metadata": {},
     "output_type": "execute_result"
    }
   ],
   "source": [
    "a = np.array([10,20,30])\n",
    "np.repeat(a, 3)"
   ]
  },
  {
   "cell_type": "code",
   "execution_count": 54,
   "metadata": {},
   "outputs": [
    {
     "data": {
      "text/plain": [
       "array([10, 10, 10, 10, 10])"
      ]
     },
     "execution_count": 54,
     "metadata": {},
     "output_type": "execute_result"
    }
   ],
   "source": [
    "np.full(5, 10)"
   ]
  },
  {
   "cell_type": "code",
   "execution_count": 55,
   "metadata": {},
   "outputs": [
    {
     "data": {
      "text/plain": [
       "array([5, 5, 5, 5, 5, 5, 5, 5, 5, 5])"
      ]
     },
     "execution_count": 55,
     "metadata": {},
     "output_type": "execute_result"
    }
   ],
   "source": [
    "np.repeat(5,10)"
   ]
  },
  {
   "cell_type": "code",
   "execution_count": 56,
   "metadata": {},
   "outputs": [
    {
     "name": "stdout",
     "output_type": "stream",
     "text": [
      "0.008389399998122826\n",
      "0.0011875000054715201\n",
      "0.1415476679783095\n",
      "False\n"
     ]
    }
   ],
   "source": [
    "from timeit import default_timer as timer\n",
    "import random \n",
    "from random import getrandbits\n",
    "list_form = list()\n",
    "array_form = np.array(1, dtype=np.int32)\n",
    "for i in range(100000):\n",
    "    #my_random = random.choice([True, False])\n",
    "    my_random = random.choice(range(3000))\n",
    "    list_form.append(my_random)\n",
    "    array_form = np.append(array_form, my_random)\n",
    "array_form = array_form[1:]\n",
    "\n",
    "test_array = np.arange(100000) + 10000\n",
    "# test_array = test_array.astype(float)\n",
    "# print(test_array)\n",
    "# print(list_form[:10])\n",
    "# print(array_form)\n",
    "# print(len(array_form))\n",
    "start = timer()\n",
    "array_result = test_array[array_form % 2 == True]\n",
    "end = timer()\n",
    "array_diff = end - start\n",
    "\n",
    "start = timer()\n",
    "list_result = test_array[[i % 2 for i in list_form] == True]\n",
    "end = timer()\n",
    "list_diff = end - start\n",
    "\n",
    "\n",
    "\n",
    "print(list_diff)\n",
    "print(array_diff)\n",
    "print(array_diff / list_diff)\n",
    "print(array_diff > list_diff)\n",
    "\n"
   ]
  },
  {
   "cell_type": "code",
   "execution_count": 57,
   "metadata": {},
   "outputs": [
    {
     "ename": "TypeError",
     "evalue": "int() argument must be a string, a bytes-like object or a number, not 'NoneType'",
     "output_type": "error",
     "traceback": [
      "\u001b[1;31m---------------------------------------------------------------------------\u001b[0m",
      "\u001b[1;31mTypeError\u001b[0m                                 Traceback (most recent call last)",
      "\u001b[1;32m~\\AppData\\Local\\Temp/ipykernel_4340/3816070400.py\u001b[0m in \u001b[0;36m<module>\u001b[1;34m\u001b[0m\n\u001b[1;32m----> 1\u001b[1;33m \u001b[0marray_form\u001b[0m \u001b[1;33m=\u001b[0m \u001b[0mnp\u001b[0m\u001b[1;33m.\u001b[0m\u001b[0marray\u001b[0m\u001b[1;33m(\u001b[0m\u001b[1;32mNone\u001b[0m\u001b[1;33m,\u001b[0m \u001b[0mdtype\u001b[0m\u001b[1;33m=\u001b[0m\u001b[0mnp\u001b[0m\u001b[1;33m.\u001b[0m\u001b[0mint32\u001b[0m\u001b[1;33m)\u001b[0m\u001b[1;33m\u001b[0m\u001b[1;33m\u001b[0m\u001b[0m\n\u001b[0m",
      "\u001b[1;31mTypeError\u001b[0m: int() argument must be a string, a bytes-like object or a number, not 'NoneType'"
     ]
    }
   ],
   "source": [
    "array_form = np.array(None, dtype=np.int32)\n"
   ]
  },
  {
   "cell_type": "code",
   "execution_count": null,
   "metadata": {},
   "outputs": [
    {
     "data": {
      "text/plain": [
       "array(False)"
      ]
     },
     "execution_count": 39,
     "metadata": {},
     "output_type": "execute_result"
    }
   ],
   "source": [
    "array_form = np.array(None, dtype=bool)\n",
    "array_form\n"
   ]
  },
  {
   "cell_type": "code",
   "execution_count": null,
   "metadata": {},
   "outputs": [
    {
     "data": {
      "text/plain": [
       "array([20, 30])"
      ]
     },
     "execution_count": 45,
     "metadata": {},
     "output_type": "execute_result"
    }
   ],
   "source": [
    "a = np.array([10,20,30])[1:]\n",
    "a"
   ]
  },
  {
   "cell_type": "code",
   "execution_count": null,
   "metadata": {},
   "outputs": [
    {
     "data": {
      "text/plain": [
       "[1, 0, 1, 0, 1]"
      ]
     },
     "execution_count": 82,
     "metadata": {},
     "output_type": "execute_result"
    }
   ],
   "source": [
    "list_form = [1,2,3,4,5]\n",
    "[i % 2 for i in list_form]\n"
   ]
  },
  {
   "cell_type": "markdown",
   "metadata": {},
   "source": [
    "## aralıga gore sayi olusturma\n",
    "### LINSPACE | LOGSPACE | GEOSPACE\n"
   ]
  },
  {
   "cell_type": "code",
   "execution_count": null,
   "metadata": {},
   "outputs": [
    {
     "name": "stdout",
     "output_type": "stream",
     "text": [
      "[ 1.  5.  9. 13. 17. 21. 25. 29. 33. 37. 41. 45. 49. 53. 57. 61. 65. 69.\n",
      " 73. 77. 81.]\n",
      "[   10.   100.  1000. 10000.]\n",
      "[  1.   5.  25. 125. 625.]\n"
     ]
    }
   ],
   "source": [
    "x_lin = np.linspace(1, 81, num = 21)\n",
    "print(x_lin)\n",
    "x_log = np.logspace(1, 4, num = 4)\n",
    "print(x_log)\n",
    "x_geo = np.geomspace(1,625, num=5)\n",
    "print(x_geo)"
   ]
  },
  {
   "cell_type": "code",
   "execution_count": null,
   "metadata": {},
   "outputs": [
    {
     "data": {
      "text/plain": [
       "array([ 1.        ,  3.16227766, 10.        ])"
      ]
     },
     "execution_count": 112,
     "metadata": {},
     "output_type": "execute_result"
    }
   ],
   "source": [
    "x = np.logspace(0, 1, num = 3)\n",
    "x"
   ]
  },
  {
   "cell_type": "code",
   "execution_count": null,
   "metadata": {},
   "outputs": [
    {
     "data": {
      "text/plain": [
       "array([1., 2., 4.])"
      ]
     },
     "execution_count": 108,
     "metadata": {},
     "output_type": "execute_result"
    }
   ],
   "source": [
    "x = np.logspace(np.log10(1), np.log10(4), num = 3)\n",
    "x"
   ]
  },
  {
   "cell_type": "code",
   "execution_count": null,
   "metadata": {},
   "outputs": [
    {
     "data": {
      "text/plain": [
       "2.0959032742893844"
      ]
     },
     "execution_count": 118,
     "metadata": {},
     "output_type": "execute_result"
    }
   ],
   "source": [
    "expp = np.log10(4)\n",
    "newbase_exp = np.log(4) / (np.log(3) * expp)\n",
    "newbase_exp\n"
   ]
  },
  {
   "cell_type": "code",
   "execution_count": null,
   "metadata": {},
   "outputs": [
    {
     "data": {
      "text/plain": [
       "1.3862943611198906"
      ]
     },
     "execution_count": 119,
     "metadata": {},
     "output_type": "execute_result"
    }
   ],
   "source": [
    "np.log(4)"
   ]
  },
  {
   "cell_type": "code",
   "execution_count": null,
   "metadata": {},
   "outputs": [
    {
     "data": {
      "text/plain": [
       "1.0986122886681098"
      ]
     },
     "execution_count": 120,
     "metadata": {},
     "output_type": "execute_result"
    }
   ],
   "source": [
    "np.log(3)"
   ]
  },
  {
   "cell_type": "markdown",
   "metadata": {},
   "source": [
    "ARRAY JOIN OPERASYONLARI"
   ]
  },
  {
   "cell_type": "code",
   "execution_count": null,
   "metadata": {},
   "outputs": [],
   "source": [
    "c1 = np.array([10, 20, 30, 40, 50, 60])\n",
    "c2 = np.array([12, 20, 33, 40, 55, 60])"
   ]
  },
  {
   "cell_type": "code",
   "execution_count": null,
   "metadata": {},
   "outputs": [
    {
     "data": {
      "text/plain": [
       "array([20, 40, 60])"
      ]
     },
     "execution_count": 123,
     "metadata": {},
     "output_type": "execute_result"
    }
   ],
   "source": [
    "np.intersect1d(c1, c2)"
   ]
  },
  {
   "cell_type": "code",
   "execution_count": null,
   "metadata": {},
   "outputs": [
    {
     "data": {
      "text/plain": [
       "array([10, 30, 50])"
      ]
     },
     "execution_count": 124,
     "metadata": {},
     "output_type": "execute_result"
    }
   ],
   "source": [
    "np.setdiff1d(c1, c2)"
   ]
  },
  {
   "cell_type": "markdown",
   "metadata": {},
   "source": [
    "## WHERE cok kritik ve cok güzel bi fonksiyon"
   ]
  },
  {
   "cell_type": "code",
   "execution_count": null,
   "metadata": {},
   "outputs": [
    {
     "name": "stdout",
     "output_type": "stream",
     "text": [
      "(array([1, 4], dtype=int64),)\n",
      "[2 8]\n"
     ]
    }
   ],
   "source": [
    "a = np.array([1,2,3,6,8])\n",
    "b = np.array([10,2,30,60,8])\n",
    "print(np.where(a == b))\n",
    "print(a[np.where(a == b)])"
   ]
  },
  {
   "cell_type": "code",
   "execution_count": null,
   "metadata": {},
   "outputs": [
    {
     "data": {
      "text/plain": [
       "array([21, 22, 23, 24, 25, 26, 27, 28, 29, 30, 31, 32, 33, 34])"
      ]
     },
     "execution_count": 3,
     "metadata": {},
     "output_type": "execute_result"
    }
   ],
   "source": [
    "import numpy as np \n",
    "a1 = np.arange(0, 60)\n",
    "a1[np.where ((a1 > 20) & (a1 < 35))]"
   ]
  },
  {
   "cell_type": "code",
   "execution_count": null,
   "metadata": {},
   "outputs": [
    {
     "data": {
      "text/plain": [
       "array([ 0, 10, 20, 21, 22, 23, 24, 25, 26, 27, 30, 40, 50])"
      ]
     },
     "execution_count": 4,
     "metadata": {},
     "output_type": "execute_result"
    }
   ],
   "source": [
    "a1[np.where (((a1 > 20) & (a1 < 28)) | (a1 % 10 == 0))]"
   ]
  },
  {
   "cell_type": "code",
   "execution_count": null,
   "metadata": {},
   "outputs": [
    {
     "data": {
      "text/plain": [
       "array([False, False, False, False, False, False, False, False, False,\n",
       "       False, False, False, False, False, False, False, False, False,\n",
       "       False, False, False,  True,  True,  True,  True,  True,  True,\n",
       "        True, False, False, False, False, False, False, False, False,\n",
       "       False, False, False, False, False, False, False, False, False,\n",
       "       False, False, False, False, False, False, False, False, False,\n",
       "       False, False, False, False, False, False])"
      ]
     },
     "execution_count": 7,
     "metadata": {},
     "output_type": "execute_result"
    }
   ],
   "source": [
    "np.logical_and(a1 > 20, a1 < 28)"
   ]
  },
  {
   "cell_type": "code",
   "execution_count": null,
   "metadata": {},
   "outputs": [
    {
     "data": {
      "text/plain": [
       "array([21, 22, 23, 24, 25, 26, 27])"
      ]
     },
     "execution_count": 10,
     "metadata": {},
     "output_type": "execute_result"
    }
   ],
   "source": [
    "a1[np.logical_and(a1 > 20, a1 < 28)]"
   ]
  },
  {
   "cell_type": "code",
   "execution_count": null,
   "metadata": {},
   "outputs": [
    {
     "data": {
      "text/plain": [
       "array([False, False, False, False, False, False, False, False, False,\n",
       "       False, False, False, False, False, False, False, False, False,\n",
       "       False, False,  True, False, False, False, False, False, False,\n",
       "       False,  True, False, False, False, False, False, False, False,\n",
       "       False, False, False, False, False, False, False, False, False,\n",
       "       False, False, False, False, False, False, False, False, False,\n",
       "       False, False, False, False, False, False])"
      ]
     },
     "execution_count": 14,
     "metadata": {},
     "output_type": "execute_result"
    }
   ],
   "source": [
    "np.isin(a1, [20,28])"
   ]
  },
  {
   "cell_type": "code",
   "execution_count": null,
   "metadata": {},
   "outputs": [
    {
     "data": {
      "text/plain": [
       "array([False, False, False, False, False, False, False, False, False,\n",
       "       False, False, False, False, False, False, False, False, False,\n",
       "       False, False,  True,  True,  True,  True,  True,  True,  True,\n",
       "        True, False, False, False, False, False, False, False, False,\n",
       "       False, False, False, False, False, False, False, False, False,\n",
       "       False, False, False, False, False, False, False, False, False,\n",
       "       False, False, False, False, False, False])"
      ]
     },
     "execution_count": 15,
     "metadata": {},
     "output_type": "execute_result"
    }
   ],
   "source": [
    "np.isin(a1, [range(20,28)])"
   ]
  },
  {
   "cell_type": "code",
   "execution_count": null,
   "metadata": {},
   "outputs": [
    {
     "data": {
      "text/plain": [
       "array([[ 3,  2,  8,  1],\n",
       "       [70, 50, 10, 67],\n",
       "       [45, 25, 75, 15]])"
      ]
     },
     "execution_count": 16,
     "metadata": {},
     "output_type": "execute_result"
    }
   ],
   "source": [
    "a3 = np.array([[3,2,8,1], [70,50,10,67], [45,25,75,15]])\n",
    "a3"
   ]
  },
  {
   "cell_type": "code",
   "execution_count": null,
   "metadata": {},
   "outputs": [
    {
     "data": {
      "text/plain": [
       "array([[ 1,  2,  3,  8],\n",
       "       [10, 50, 67, 70],\n",
       "       [15, 25, 45, 75]])"
      ]
     },
     "execution_count": 18,
     "metadata": {},
     "output_type": "execute_result"
    }
   ],
   "source": [
    "np.sort(a3)"
   ]
  },
  {
   "cell_type": "code",
   "execution_count": null,
   "metadata": {},
   "outputs": [
    {
     "data": {
      "text/plain": [
       "array([[ 3,  2,  8,  1],\n",
       "       [45, 25, 10, 15],\n",
       "       [70, 50, 75, 67]])"
      ]
     },
     "execution_count": 20,
     "metadata": {},
     "output_type": "execute_result"
    }
   ],
   "source": [
    "np.sort(a3, axis=0)"
   ]
  },
  {
   "cell_type": "code",
   "execution_count": null,
   "metadata": {},
   "outputs": [
    {
     "name": "stdout",
     "output_type": "stream",
     "text": [
      "Dotp -  32\n",
      "Dotp using np.dot -  32\n",
      "Dotp using np.inner -  32\n",
      "Dotp using np.multiply & sum -  32\n",
      "Dotp using np.matmul -  32\n",
      "Dotp using for loop -  32\n"
     ]
    }
   ],
   "source": [
    "a1 = np.array([1,2,3])\n",
    "a2 = np.array([4,5,6])\n",
    "\n",
    "dotp = a1@a2\n",
    "print(\"Dotp - \", dotp)\n",
    "\n",
    "dotp = np.dot(a1, a2)\n",
    "print(\"Dotp using np.dot - \", dotp)\n",
    "\n",
    "dotp = np.inner(a1, a2)\n",
    "print(\"Dotp using np.inner - \", dotp)\n",
    "\n",
    "dotp = sum(np.multiply(a1, a2))\n",
    "print(\"Dotp using np.multiply & sum - \", dotp)\n",
    "\n",
    "dotp = np.matmul(a1, a2)\n",
    "print(\"Dotp using np.matmul - \", dotp)\n",
    "\n",
    "dotp = 0\n",
    "for i in range(len(a1)):\n",
    "    dotp = dotp + a1[i]*a2[i]\n",
    "print(\"Dotp using for loop - \", dotp)"
   ]
  },
  {
   "cell_type": "markdown",
   "metadata": {},
   "source": [
    "Normalizasyonnnnnnnnn"
   ]
  },
  {
   "cell_type": "code",
   "execution_count": null,
   "metadata": {},
   "outputs": [
    {
     "data": {
      "text/plain": [
       "(3.605551275463989, array([0.5547002 , 0.83205029]))"
      ]
     },
     "execution_count": 22,
     "metadata": {},
     "output_type": "execute_result"
    }
   ],
   "source": [
    "v1 = [2, 3]\n",
    "length_v1 = np.sqrt(np.dot(v1,v1))\n",
    "norm_v1 = v1 / length_v1\n",
    "length_v1 , norm_v1"
   ]
  },
  {
   "cell_type": "code",
   "execution_count": null,
   "metadata": {},
   "outputs": [
    {
     "data": {
      "text/plain": [
       "array([[1., 0., 0., 0., 0., 0., 0., 0., 0.],\n",
       "       [0., 1., 0., 0., 0., 0., 0., 0., 0.],\n",
       "       [0., 0., 1., 0., 0., 0., 0., 0., 0.],\n",
       "       [0., 0., 0., 1., 0., 0., 0., 0., 0.],\n",
       "       [0., 0., 0., 0., 1., 0., 0., 0., 0.],\n",
       "       [0., 0., 0., 0., 0., 1., 0., 0., 0.],\n",
       "       [0., 0., 0., 0., 0., 0., 1., 0., 0.],\n",
       "       [0., 0., 0., 0., 0., 0., 0., 1., 0.],\n",
       "       [0., 0., 0., 0., 0., 0., 0., 0., 1.]])"
      ]
     },
     "execution_count": 23,
     "metadata": {},
     "output_type": "execute_result"
    }
   ],
   "source": [
    "I = np.eye(9)\n",
    "I"
   ]
  },
  {
   "cell_type": "code",
   "execution_count": null,
   "metadata": {},
   "outputs": [
    {
     "data": {
      "text/plain": [
       "array([[1, 0, 0, 0, 0, 0, 0, 0],\n",
       "       [0, 2, 0, 0, 0, 0, 0, 0],\n",
       "       [0, 0, 3, 0, 0, 0, 0, 0],\n",
       "       [0, 0, 0, 4, 0, 0, 0, 0],\n",
       "       [0, 0, 0, 0, 5, 0, 0, 0],\n",
       "       [0, 0, 0, 0, 0, 6, 0, 0],\n",
       "       [0, 0, 0, 0, 0, 0, 7, 0],\n",
       "       [0, 0, 0, 0, 0, 0, 0, 8]])"
      ]
     },
     "execution_count": 24,
     "metadata": {},
     "output_type": "execute_result"
    }
   ],
   "source": [
    "D = np.diag([1,2,3,4,5,6,7,8])\n",
    "D"
   ]
  },
  {
   "cell_type": "code",
   "execution_count": null,
   "metadata": {},
   "outputs": [
    {
     "name": "stdout",
     "output_type": "stream",
     "text": [
      "[[-0.10722378 -0.52682304 -0.35450337 -0.16183204  0.35556314]\n",
      " [ 1.00005421 -0.01319602  0.03283378  0.23228745 -0.99720975]\n",
      " [ 0.29830557  0.24991174  0.07332124 -0.81094565  0.29070836]\n",
      " [ 0.2949985   0.04294709  1.18166343 -2.54606703 -1.53350518]\n",
      " [ 0.65213984 -0.83656642 -0.97606628 -0.5719696   2.40684523]\n",
      " [ 1.23712932 -0.14031267  0.66758045 -0.08976631 -0.68474689]]\n"
     ]
    }
   ],
   "source": [
    "M = np.random.randn(6, 5)\n",
    "print(M)"
   ]
  },
  {
   "cell_type": "code",
   "execution_count": null,
   "metadata": {},
   "outputs": [
    {
     "name": "stdout",
     "output_type": "stream",
     "text": [
      "[[-1.1950317 ]\n",
      " [ 1.0158307 ]\n",
      " [-0.31228233]\n",
      " [ 0.98871232]\n",
      " [ 0.17917186]]\n"
     ]
    }
   ],
   "source": [
    "M = np.random.randn(5, 1)\n",
    "print(M)"
   ]
  },
  {
   "cell_type": "code",
   "execution_count": null,
   "metadata": {},
   "outputs": [
    {
     "data": {
      "text/plain": [
       "array([[16.19469743, 16.66661903, 19.73271959, 10.02064278, 18.05307788],\n",
       "       [19.22587179, 19.32059516, 16.36503249, 11.21785682, 12.07032982],\n",
       "       [11.16131999, 17.20566879, 18.41324967, 18.65814292, 10.86263213],\n",
       "       [18.41524834, 17.08961959, 19.69335593, 11.89038482, 11.71763242],\n",
       "       [12.86058477, 16.51467861, 17.64521578, 19.51898734, 17.42224416]])"
      ]
     },
     "execution_count": 30,
     "metadata": {},
     "output_type": "execute_result"
    }
   ],
   "source": [
    "np.random.uniform(10, 20, size = (5,5))"
   ]
  },
  {
   "cell_type": "code",
   "execution_count": null,
   "metadata": {},
   "outputs": [
    {
     "data": {
      "text/plain": [
       "array([[15.93618892, 14.87092618, 17.63067571, 11.41099677, 12.6048869 ,\n",
       "        13.18180878, 19.67667511],\n",
       "       [17.18271966, 17.40219074, 12.18380125, 19.54133729, 19.01655059,\n",
       "        10.50075338, 16.28689397],\n",
       "       [12.75598261, 11.11003668, 12.17428021, 14.00527695, 16.94544943,\n",
       "        12.9131918 , 18.42660946]])"
      ]
     },
     "execution_count": 33,
     "metadata": {},
     "output_type": "execute_result"
    }
   ],
   "source": [
    "np.random.uniform(10, 20, size = (3,7))"
   ]
  },
  {
   "cell_type": "code",
   "execution_count": null,
   "metadata": {},
   "outputs": [
    {
     "data": {
      "text/plain": [
       "array([[ 1,  2,  3,  4],\n",
       "       [ 5,  6,  7,  8],\n",
       "       [ 9, 10, 11, 12],\n",
       "       [13, 14, 15, 16]])"
      ]
     },
     "execution_count": 34,
     "metadata": {},
     "output_type": "execute_result"
    }
   ],
   "source": [
    "A = np.arange(1,17).reshape(4,4)\n",
    "A"
   ]
  },
  {
   "cell_type": "markdown",
   "metadata": {},
   "source": [
    "a.ravel():  \n",
    "(i) Return only reference/view of original array  \n",
    "(ii) If you modify the array you would notice that the value of original array also changes.  \n",
    "(iii) Ravel is faster than flatten() as it does not occupy any memory.  \n",
    "(iv) Ravel is a library-level function.  \n",
    "\n",
    "a.flatten() :  \n",
    "(i) Return copy of original array  \n",
    "(ii) If you modify any value of this array value of original array is not affected.  \n",
    "(iii) Flatten() is comparatively slower than ravel() as it occupies memory.  \n",
    "(iv) Flatten is a method of an ndarray object. \n"
   ]
  },
  {
   "cell_type": "code",
   "execution_count": null,
   "metadata": {},
   "outputs": [
    {
     "data": {
      "text/plain": [
       "array([ 1,  2,  3,  4,  5,  6,  7,  8,  9, 10, 11, 12, 13, 14, 15, 16])"
      ]
     },
     "execution_count": 35,
     "metadata": {},
     "output_type": "execute_result"
    }
   ],
   "source": [
    "A.flatten()"
   ]
  },
  {
   "cell_type": "code",
   "execution_count": null,
   "metadata": {},
   "outputs": [
    {
     "data": {
      "text/plain": [
       "array([ 1,  2,  3,  4,  5,  6,  7,  8,  9, 10, 11, 12, 13, 14, 15, 16])"
      ]
     },
     "execution_count": 36,
     "metadata": {},
     "output_type": "execute_result"
    }
   ],
   "source": [
    "A.ravel()"
   ]
  },
  {
   "cell_type": "code",
   "execution_count": null,
   "metadata": {},
   "outputs": [
    {
     "name": "stdout",
     "output_type": "stream",
     "text": [
      "Original array:\n",
      " \n",
      "[[1 2 3 4]\n",
      " [3 1 4 2]]\n",
      "Dimension of array->  2\n",
      "\n",
      "Output for RAVEL \n",
      "\n",
      "[1 2 3 4 3 1 4 2]\n",
      "[1000    2    3    4    3    1    4    2]\n",
      "[[1000    2    3    4]\n",
      " [   3    1    4    2]]\n",
      "Dimension of array-> 1\n",
      "\n",
      "Output for FLATTEN \n",
      "\n",
      "[1000    2    3    4    3    1    4    2]\n",
      "[0 2 3 4 3 1 4 2]\n",
      "[[1000    2    3    4]\n",
      " [   3    1    4    2]]\n",
      "Dimension of array->  1\n"
     ]
    }
   ],
   "source": [
    "# Python code to differentiate\n",
    "# between flatten and ravel in numpy\n",
    "import numpy as np\n",
    "  \n",
    "# Create a numpy array\n",
    "a = np.array([(1,2,3,4),(3,1,4,2)])\n",
    "  \n",
    "# Let's print the array a\n",
    "print (\"Original array:\\n \") \n",
    "print(a)\n",
    "  \n",
    "# To check the dimension of array (dimension =2)\n",
    "# ( and type is numpy.ndarray )\n",
    "print (\"Dimension of array-> \" , (a.ndim))\n",
    "  \n",
    "  \n",
    "print(\"\\nOutput for RAVEL \\n\") \n",
    "# Convert nd array to 1D array\n",
    "b = a.ravel()\n",
    "  \n",
    "# Ravel only passes a view of \n",
    "# original array to array 'b'\n",
    "print(b)\n",
    "b[0]=1000\n",
    "print(b)\n",
    "  \n",
    "# Note here that value of original\n",
    "# array 'a' at also a[0][0] becomes 1000\n",
    "print(a)\n",
    "  \n",
    "# Just to check the dimension i.e. 1\n",
    "# (and type is same numpy.ndarray )\n",
    "print (\"Dimension of array->\" ,(b.ndim))\n",
    "  \n",
    "print(\"\\nOutput for FLATTEN \\n\") \n",
    "  \n",
    "# Convert nd array to 1D array\n",
    "c = a.flatten()\n",
    "  \n",
    "# Flatten passes copy of\n",
    "# original array to 'c'\n",
    "print(c)\n",
    "c[0]=0\n",
    "print(c)\n",
    "  \n",
    "# Note that by changing\n",
    "# value of c there is no\n",
    "# affect on value of original\n",
    "# array 'a'\n",
    "print(a)\n",
    "  \n",
    "print (\"Dimension of array-> \" , (c.ndim))"
   ]
  },
  {
   "cell_type": "code",
   "execution_count": null,
   "metadata": {},
   "outputs": [
    {
     "name": "stdout",
     "output_type": "stream",
     "text": [
      "[[ 2  3  4]\n",
      " [ 6 -1  8]\n",
      " [10 11  3]]\n",
      "[[ 2.  3.  4.]\n",
      " [ 6. -1.  8.]\n",
      " [10. 11.  3.]]\n"
     ]
    }
   ],
   "source": [
    "M = np.array([[1,2,3], [4,-3,6], [7,8,0]])\n",
    "N = np.array([[1,1,1], [2,2,2], [3,3,3]])\n",
    "\n",
    "C = M + N\n",
    "print(C)\n",
    "\n",
    "#OR\n",
    "\n",
    "C = np.add(M, N, dtype = np.float64)\n",
    "print(C)"
   ]
  },
  {
   "cell_type": "code",
   "execution_count": null,
   "metadata": {},
   "outputs": [
    {
     "name": "stdout",
     "output_type": "stream",
     "text": [
      "[[ 0  1  2]\n",
      " [ 2 -5  4]\n",
      " [ 4  5 -3]]\n",
      "[[ 0.  1.  2.]\n",
      " [ 2. -5.  4.]\n",
      " [ 4.  5. -3.]]\n"
     ]
    }
   ],
   "source": [
    "C = M - N\n",
    "print(C)\n",
    "C = np.subtract(M, N, dtype = np.float64)\n",
    "print(C)"
   ]
  },
  {
   "cell_type": "code",
   "execution_count": null,
   "metadata": {},
   "outputs": [
    {
     "name": "stdout",
     "output_type": "stream",
     "text": [
      "[[ 1  4  7]\n",
      " [ 2 -3  8]\n",
      " [ 3  6  0]]\n",
      "sameee\n",
      "[[ 1  4  7]\n",
      " [ 2 -3  8]\n",
      " [ 3  6  0]]\n"
     ]
    }
   ],
   "source": [
    "M = np.array([[1,2,3], [4,-3,6], [7,8,0]])\n",
    "\n",
    "print(np.transpose(M))\n",
    "\n",
    "print('sameee')\n",
    "#OR\n",
    "\n",
    "print(M.T)"
   ]
  },
  {
   "cell_type": "code",
   "execution_count": null,
   "metadata": {},
   "outputs": [
    {
     "name": "stdout",
     "output_type": "stream",
     "text": [
      "195.0\n"
     ]
    }
   ],
   "source": [
    "M = np.array([[1,2,3], [4,-3,6], [7,8,0]])\n",
    "\n",
    "print(np.linalg.det(M))"
   ]
  },
  {
   "cell_type": "code",
   "execution_count": null,
   "metadata": {},
   "outputs": [
    {
     "name": "stdout",
     "output_type": "stream",
     "text": [
      "[[-0.24615385  0.12307692  0.10769231]\n",
      " [ 0.21538462 -0.10769231  0.03076923]\n",
      " [ 0.27179487  0.03076923 -0.05641026]]\n"
     ]
    }
   ],
   "source": [
    "print(np.linalg.inv(M))"
   ]
  },
  {
   "cell_type": "code",
   "execution_count": null,
   "metadata": {},
   "outputs": [
    {
     "name": "stdout",
     "output_type": "stream",
     "text": [
      "\n",
      " Matrix Division (M/N) ==> \n",
      "  [[ 1.          2.          3.        ]\n",
      " [ 2.         -1.5         3.        ]\n",
      " [ 2.33333333  2.66666667  0.        ]]\n",
      "\n",
      " Matrix Division (M/N) ==> \n",
      "  [[ 1.          2.          3.        ]\n",
      " [ 2.         -1.5         3.        ]\n",
      " [ 2.33333333  2.66666667  0.        ]]\n"
     ]
    }
   ],
   "source": [
    "M = np.array([[1,2,3], [4,-3,6], [7,8,0]])\n",
    "N = np.array([[1,1,1], [2,2,2], [3,3,3]])\n",
    "\n",
    "print(\"\\n Matrix Division (M/N) ==> \\n \", M/N)\n",
    "\n",
    "#OR\n",
    "\n",
    "print(\"\\n Matrix Division (M/N) ==> \\n \", np.divide(M,N))"
   ]
  },
  {
   "cell_type": "code",
   "execution_count": null,
   "metadata": {},
   "outputs": [
    {
     "data": {
      "text/plain": [
       "array([[1, 2],\n",
       "       [4, 5]])"
      ]
     },
     "execution_count": 45,
     "metadata": {},
     "output_type": "execute_result"
    }
   ],
   "source": [
    "M1 = np.array([[1,2], [4,5]])\n",
    "M1"
   ]
  },
  {
   "cell_type": "code",
   "execution_count": null,
   "metadata": {},
   "outputs": [
    {
     "data": {
      "text/plain": [
       "array([[ 57,  78],\n",
       "       [156, 213]])"
      ]
     },
     "execution_count": 46,
     "metadata": {},
     "output_type": "execute_result"
    }
   ],
   "source": [
    "M1@M1@M1"
   ]
  },
  {
   "cell_type": "code",
   "execution_count": null,
   "metadata": {},
   "outputs": [
    {
     "data": {
      "text/plain": [
       "array([[ 57,  78],\n",
       "       [156, 213]])"
      ]
     },
     "execution_count": 47,
     "metadata": {},
     "output_type": "execute_result"
    }
   ],
   "source": [
    "np.linalg.matrix_power(M1, 3)"
   ]
  },
  {
   "cell_type": "code",
   "execution_count": null,
   "metadata": {},
   "outputs": [
    {
     "data": {
      "text/plain": [
       "array([[1, 2],\n",
       "       [3, 4],\n",
       "       [5, 6],\n",
       "       [1, 1],\n",
       "       [1, 1]])"
      ]
     },
     "execution_count": 48,
     "metadata": {},
     "output_type": "execute_result"
    }
   ],
   "source": [
    "A = np.array([[1,2], [3,4], [5,6]])\n",
    "B = np.array([[1,1], [1,1]])\n",
    "\n",
    "C = np.concatenate((A,B))\n",
    "C"
   ]
  },
  {
   "cell_type": "code",
   "execution_count": null,
   "metadata": {},
   "outputs": [
    {
     "data": {
      "text/plain": [
       "array([ True,  True, False,  True])"
      ]
     },
     "execution_count": 49,
     "metadata": {},
     "output_type": "execute_result"
    }
   ],
   "source": [
    "x = np.array([0, 1, 0, 0])\n",
    "y = np.array([1, 1, 0, 1])\n",
    "z = np.logical_or(x,y)\n",
    "z"
   ]
  },
  {
   "cell_type": "markdown",
   "metadata": {},
   "source": [
    "## R_ ve C_ ile axisler üzerinden arrayler birlestirme!!!!!\n"
   ]
  },
  {
   "cell_type": "code",
   "execution_count": null,
   "metadata": {},
   "outputs": [
    {
     "name": "stdout",
     "output_type": "stream",
     "text": [
      "[[ 1  2  3]\n",
      " [11 22 33]\n",
      " [ 4  5  6]\n",
      " [44 55 66]]\n",
      "--------------\n",
      " Second Axis yani sütunlari birlestirme\n",
      "[[ 1  2  3  4  5  6]\n",
      " [11 22 33 44 55 66]]\n"
     ]
    }
   ],
   "source": [
    "a = np.array([[1,2,3],\n",
    "             [11,22,33]]\n",
    "             )\n",
    "b = np.array([[4,5,6],\n",
    "             [44,55,66]]\n",
    "             )\n",
    "\n",
    "first_axis_combine = np.r_[a,b] #along rows\n",
    "second_axis_combine = np.c_[a,b] #along columns\n",
    "\n",
    "print(first_axis_combine)\n",
    "\n",
    "print('--------------\\n Second Axis yani sütunlari birlestirme')\n",
    "\n",
    "print(second_axis_combine)\n"
   ]
  },
  {
   "cell_type": "code",
   "execution_count": null,
   "metadata": {},
   "outputs": [
    {
     "name": "stdout",
     "output_type": "stream",
     "text": [
      "[[ 1  2  3  4  5  6  7]\n",
      " [11 22 33 44 55 66 77]]\n"
     ]
    }
   ],
   "source": [
    "a = np.array([[1,2,3],\n",
    "             [11,22,33]]\n",
    "             )\n",
    "b = np.array([[4,5,6,7],\n",
    "             [44,55,66,77]]\n",
    "             )\n",
    "\n",
    "#first_axis_combine = np.r_[a,b] #along rows\n",
    "second_axis_combine = np.c_[a,b] #along columns\n",
    "print(second_axis_combine)"
   ]
  },
  {
   "cell_type": "markdown",
   "metadata": {},
   "source": [
    "### Load text ile basit dosyalari isleme  \n",
    "\n",
    "- dtype = str fln dikkat\n",
    "- skiprows var\n",
    "- evet\n",
    " "
   ]
  },
  {
   "cell_type": "code",
   "execution_count": null,
   "metadata": {},
   "outputs": [],
   "source": [
    "# Assign filename: file\n",
    "file = 'seaslug.txt'\n",
    "\n",
    "# Import file: data\n",
    "data = np.loadtxt(file, delimiter='\\t', dtype=str)\n",
    "\n",
    "# Print the first element of data\n",
    "print(data[0])\n",
    "\n",
    "# Import data as floats and skip the first row: data_float\n",
    "data_float = np.loadtxt(file, delimiter='\\t', dtype=float, skiprows=1)\n",
    "\n",
    "# Print the 10th element of data_float\n",
    "print(data_float[9])\n",
    "\n",
    "# Plot a scatterplot of the data\n",
    "plt.scatter(data_float[:, 0], data_float[:, 1])\n",
    "plt.xlabel('time (min.)')\n",
    "plt.ylabel('percentage of larvae')\n",
    "plt.show()"
   ]
  },
  {
   "cell_type": "markdown",
   "metadata": {},
   "source": [
    "The function np.loadtxt() will freak at this. There is another function, np.genfromtxt(), which can handle such structures. If we pass dtype=None to it, it will figure out what types each column should be.  \n",
    "++ bir de recfromcsv var, defaultları üstteki gibi. "
   ]
  },
  {
   "cell_type": "code",
   "execution_count": null,
   "metadata": {},
   "outputs": [],
   "source": [
    "data = np.genfromtxt('titanic.csv', delimiter=',', names=True, dtype=None)\n",
    "d = np.recfromcsv(file)"
   ]
  },
  {
   "cell_type": "markdown",
   "metadata": {},
   "source": [
    "data framede de böyle bisi var. comment ne, na_values nothing ney"
   ]
  },
  {
   "cell_type": "code",
   "execution_count": null,
   "metadata": {},
   "outputs": [],
   "source": [
    "# Import matplotlib.pyplot as plt\n",
    "import matplotlib.pyplot as plt\n",
    "\n",
    "# Assign filename: file\n",
    "file = 'titanic_corrupt.txt'\n",
    "\n",
    "# Import file: data\n",
    "data = pd.read_csv(file, sep='\\t', comment='#', na_values='Nothing')\n",
    "\n",
    "# Print the head of the DataFrame\n",
    "print(data.head())\n",
    "\n",
    "# Plot 'Age' variable in a histogram\n",
    "pd.DataFrame.hist(data[['Age']])\n",
    "plt.xlabel('Age (years)')\n",
    "plt.ylabel('count')\n",
    "plt.show()\n"
   ]
  },
  {
   "cell_type": "markdown",
   "metadata": {},
   "source": [
    "Klasik data tipleri için np ve df okey ama çeşitlenince yetersiz oluyor. Json için dict ok. Farklı data tiplerini storelamak icin pythonın unique çözümü pickle. Binary halinde tutuyor veriyi. Human readable olmak zorunda değil."
   ]
  },
  {
   "cell_type": "code",
   "execution_count": 15,
   "metadata": {},
   "outputs": [
    {
     "data": {
      "text/plain": [
       "['.ipynb_checkpoints',\n",
       " '.vscode',\n",
       " '0061892.py',\n",
       " '0061892_old.py',\n",
       " '006_laylay.py',\n",
       " '10-neptune_98589.ico',\n",
       " '1804_yavuzhanyavuz_case.ipynb',\n",
       " '2048.py',\n",
       " 'aaaa.py',\n",
       " 'AAAAAAAAAAAAAAA.py',\n",
       " 'amk_input.txt',\n",
       " 'ayy.py',\n",
       " 'basics_datatypes.ipynb',\n",
       " 'bc_28-30052022 - AIUP.ipynb',\n",
       " 'bilira.py',\n",
       " 'Bootcamp_datas',\n",
       " 'corluhan.ipynb',\n",
       " 'dataframe.ipynb',\n",
       " 'debug_1304.py',\n",
       " 'eski_0061892.py',\n",
       " 'from sklearn.metrics import r2_score.py',\n",
       " 'helloflask.py',\n",
       " 'hw02.ipynb',\n",
       " 'hw02_random-variate_generation_template(1).ipynb',\n",
       " 'hw03_input_modeling_template - Copy.ipynb',\n",
       " 'hw03_input_modeling_template.ipynb',\n",
       " 'HW2_data.xlsx',\n",
       " 'hw4.ipynb',\n",
       " 'hw5.ipynb',\n",
       " 'hw5_deneme.ipynb',\n",
       " 'hw6.ipynb',\n",
       " 'id_list.txt',\n",
       " 'indr372.html',\n",
       " 'indr372.ipynb',\n",
       " 'indr372.pdf',\n",
       " 'indr372.py',\n",
       " 'indr372_part2.ipynb',\n",
       " 'indr372_part2.py',\n",
       " 'joins.ipynb',\n",
       " 'junk',\n",
       " 'logic.py',\n",
       " 'machinelearning_study.ipynb',\n",
       " 'newdriverslicence_case2.ipynb',\n",
       " 'notifs.py',\n",
       " 'notifs_task.bat',\n",
       " 'notify_messages.csv',\n",
       " 'numpy_operations.ipynb',\n",
       " 'optimization.ipynb',\n",
       " 'propertyfinder.xlsx',\n",
       " 'python_study_01.ipynb',\n",
       " 'readmess.txt',\n",
       " 'regex.ipynb',\n",
       " 'regex_yedek.ipynb.py',\n",
       " 'regex_yedek.py',\n",
       " 'sample_Jan2021.xlsx',\n",
       " 'sil.csv',\n",
       " 'simpleserver_html.py',\n",
       " 'timeseries.csv',\n",
       " 'timeseries.csv.xlsx',\n",
       " 'timeseries.xlsx',\n",
       " 'trainings_cases_01.ipynb',\n",
       " 'vision_htmlparse_work.py',\n",
       " 'workspace_attemp1.code-workspace',\n",
       " 'yahak.xlsx',\n",
       " 'yahak2.xlsx',\n",
       " '__pycache__']"
      ]
     },
     "execution_count": 15,
     "metadata": {},
     "output_type": "execute_result"
    }
   ],
   "source": [
    "import os\n",
    "wd = os.getcwd()\n",
    "os.listdir(wd)"
   ]
  },
  {
   "cell_type": "markdown",
   "metadata": {},
   "source": [
    "### EXCELDE SHEET OKUMAAAAAAAAA"
   ]
  },
  {
   "cell_type": "code",
   "execution_count": null,
   "metadata": {},
   "outputs": [],
   "source": [
    "xls = pd.ExcelFile('battledeath.xlsx')\n",
    "print(xls.sheet_names)\n",
    "\n",
    "df1 = xls.parse('2004') ## ISIM ILE SHEET CEKME\n",
    "df2 = xls.parse(1) ## INDEX ILE SHEET CEKME"
   ]
  },
  {
   "cell_type": "markdown",
   "metadata": {},
   "source": [
    "Terabaytlık veriler için (özellikle numerical ise) HDF5 kullanılıyor"
   ]
  }
 ],
 "metadata": {
  "interpreter": {
   "hash": "166218298ad81a6fe96d09b96700d5a6872d306fec0a32d1afa1fe372595ba40"
  },
  "kernelspec": {
   "display_name": "Python 3.9.7 ('base')",
   "language": "python",
   "name": "python3"
  },
  "language_info": {
   "codemirror_mode": {
    "name": "ipython",
    "version": 3
   },
   "file_extension": ".py",
   "mimetype": "text/x-python",
   "name": "python",
   "nbconvert_exporter": "python",
   "pygments_lexer": "ipython3",
   "version": "3.9.7"
  },
  "orig_nbformat": 4
 },
 "nbformat": 4,
 "nbformat_minor": 2
}
