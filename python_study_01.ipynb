{
 "cells": [
  {
   "cell_type": "code",
   "execution_count": 64,
   "metadata": {},
   "outputs": [],
   "source": [
    "import pandas as pd\n",
    "import numpy as np"
   ]
  },
  {
   "cell_type": "code",
   "execution_count": 51,
   "metadata": {},
   "outputs": [
    {
     "name": "stdout",
     "output_type": "stream",
     "text": [
      "<class 'list'>\n",
      "<class 'tuple'>\n",
      "('b', 1)\n",
      "1\n"
     ]
    }
   ],
   "source": [
    "input = [('b', 1), ('a', 2), ('x', 3), ('x', 4), ('z', 0)] #, ('y', 4)]\n",
    "print(type(input))\n",
    "print(type(input[0]))\n",
    "print(input[0])\n",
    "print(input[0][1])"
   ]
  },
  {
   "cell_type": "code",
   "execution_count": 52,
   "metadata": {},
   "outputs": [],
   "source": [
    "list = []\n",
    "for i in range(len(input)):\n",
    "    list.append(input[i][1])\n",
    "list2 = sorted(list)\n",
    "list.sort()"
   ]
  },
  {
   "cell_type": "code",
   "execution_count": 53,
   "metadata": {},
   "outputs": [
    {
     "name": "stdout",
     "output_type": "stream",
     "text": [
      "('a', 2)\n",
      "a\n"
     ]
    }
   ],
   "source": [
    "#input.index(list[1])\n",
    "sonuc = [item for item in input if item[1] == list[2]][0]\n",
    "print(sonuc)\n",
    "print(sonuc[0])"
   ]
  },
  {
   "cell_type": "code",
   "execution_count": 54,
   "metadata": {},
   "outputs": [
    {
     "name": "stdout",
     "output_type": "stream",
     "text": [
      "[('z', 0), ('b', 1), ('a', 2), ('x', 3), ('x', 4)]\n"
     ]
    }
   ],
   "source": [
    "output = []\n",
    "for j in range(len(input)):\n",
    "    output.append([item for item in input if item[1] == list[j]][0])\n",
    "print(output)"
   ]
  },
  {
   "cell_type": "code",
   "execution_count": 47,
   "metadata": {},
   "outputs": [
    {
     "ename": "TypeError",
     "evalue": "'list' object is not callable",
     "output_type": "error",
     "traceback": [
      "\u001b[1;31m---------------------------------------------------------------------------\u001b[0m",
      "\u001b[1;31mTypeError\u001b[0m                                 Traceback (most recent call last)",
      "\u001b[1;32mUntitled-1.ipynb Cell 6'\u001b[0m in \u001b[0;36m<cell line: 1>\u001b[1;34m()\u001b[0m\n\u001b[1;32m----> <a href='vscode-notebook-cell:Untitled-1.ipynb?jupyter-notebook#ch0000010untitled?line=0'>1</a>\u001b[0m \u001b[39mprint\u001b[39m(\u001b[39mlist\u001b[39;49m(\u001b[39mfilter\u001b[39;49m(\u001b[39mlambda\u001b[39;49;00m x: \u001b[39m3\u001b[39;49m \u001b[39min\u001b[39;49;00m x, \u001b[39minput\u001b[39;49m)))\n",
      "\u001b[1;31mTypeError\u001b[0m: 'list' object is not callable"
     ]
    }
   ],
   "source": [
    "print(list(filter(lambda x: 3 in x, input)))"
   ]
  },
  {
   "cell_type": "code",
   "execution_count": 31,
   "metadata": {},
   "outputs": [
    {
     "name": "stdout",
     "output_type": "stream",
     "text": [
      "list a: [1, 2, 11]\n",
      "list b: [1, 2, 11]\n",
      "address of a: 2486687857024\n",
      "addrss of b 2486687857024\n"
     ]
    }
   ],
   "source": [
    "a = [1, 2, 3]\n",
    "b = a\n",
    "b[2] = 11\n",
    "\n",
    "print(\"list a:\", a)\n",
    "print(\"list b:\", b)\n",
    "print(\"address of a:\", id(a))\n",
    "print(\"addrss of b\", id(b))"
   ]
  },
  {
   "cell_type": "code",
   "execution_count": 32,
   "metadata": {},
   "outputs": [
    {
     "name": "stdout",
     "output_type": "stream",
     "text": [
      "list a: [1, 2, 11]\n",
      "list b: [1, 2, 11]\n",
      "address of a: 2486675817856\n",
      "addrss of b 2486675817856\n"
     ]
    }
   ],
   "source": [
    "a = [1, 2, 3]\n",
    "\n",
    "def func(input_list):\n",
    "    input_list[2] = 11\n",
    "    return input_list\n",
    "\n",
    "b = func(a)\n",
    "print(\"list a:\", a)\n",
    "print(\"list b:\", b)\n",
    "print(\"address of a:\", id(a))\n",
    "print(\"addrss of b\", id(b))"
   ]
  },
  {
   "cell_type": "code",
   "execution_count": 56,
   "metadata": {},
   "outputs": [
    {
     "name": "stdout",
     "output_type": "stream",
     "text": [
      "[{'car': 'Mitsubishi', 'year': 2000}, {'car': 'Ford', 'year': 2005}, {'car': 'VW', 'year': 2011}, {'car': 'BMW', 'year': 2019}]\n"
     ]
    }
   ],
   "source": [
    "# A function that returns the 'year' value:\n",
    "def myFunc(e):\n",
    "  return e['year']\n",
    "\n",
    "cars = [\n",
    "  {'car': 'Ford', 'year': 2005},\n",
    "  {'car': 'Mitsubishi', 'year': 2000},\n",
    "  {'car': 'BMW', 'year': 2019},\n",
    "  {'car': 'VW', 'year': 2011}\n",
    "]\n",
    "\n",
    "cars.sort(key=myFunc)\n",
    "print(cars)"
   ]
  },
  {
   "cell_type": "code",
   "execution_count": 90,
   "metadata": {},
   "outputs": [
    {
     "name": "stdout",
     "output_type": "stream",
     "text": [
      "{'x0': [], 'x1': [], 'x2': [], 'x3': [], 'x4': [], 'x5': [], 'x6': []}\n",
      "{'x0': [], 'x1': [], 'x2': [], 'x3': [], 'x4': [], 'x5': [], 'x6': []}\n",
      "{'x0': [], 'x1': [], 'x2': [], 'x3': [], 'x4': [], 'x5': [], 'x6': [1]}\n",
      "{'x0': [], 'x1': [], 'x2': [], 'x3': [], 'x4': [], 'x5': [], 'x6': [1, 2]}\n",
      "{'x0': [], 'x1': [], 'x2': [], 'x3': [], 'x4': [], 'x5': [], 'x6': [1, 2, [4, 3]]}\n",
      "{'x0': [], 'x1': [], 'x2': [], 'x3': [], 'x4': [], 'x5': [], 'x6': [1, 2, [4, 3], [5, 6]]}\n",
      "{'x0': [], 'x1': [], 'x2': [], 'x3': [], 'x4': [], 'x5': [], 'x6': [1, 2, [4, 3], [5, 6], 7, 8]}\n",
      "{'x0': [], 'x1': [], 'x2': [], 'x3': [], 'x4': [], 'x5': [], 'x6': [1, 2, [4, 3], [5, 6], 7, 8, 9, 11]}\n",
      "{'x0': [], 'x1': [], 'x2': [], 'x3': [], 'x4': [], 'x5': [], 'x6': [1, 2, [4, 3], [5, 6], 7, 8, 9, 11, 12, 13]}\n"
     ]
    }
   ],
   "source": [
    "feature_coefs={\"x\"+str(i):[] for i in range(7)}\n",
    "print(feature_coefs)\n",
    "feature_coefs2 = dict.fromkeys([\"x\"+str(i) for i in range(7)], [])\n",
    "print(feature_coefs2)\n",
    "feature_coefs['x6'].append(1)\n",
    "print(feature_coefs)\n",
    "feature_coefs['x6'].append(2)\n",
    "print(feature_coefs)\n",
    "feature_coefs['x6'].append([4,3])\n",
    "print(feature_coefs)\n",
    "feature_coefs['x6'].append([5,6])\n",
    "print(feature_coefs)\n",
    "feature_coefs['x6'] += (i for i in [7,8])\n",
    "print(feature_coefs)\n",
    "feature_coefs['x6'] += [i for i in [9,11]]\n",
    "print(feature_coefs)\n",
    "feature_coefs['x6'] += [i for i in [12,13]]\n",
    "print(feature_coefs)\n"
   ]
  },
  {
   "cell_type": "code",
   "execution_count": null,
   "metadata": {},
   "outputs": [],
   "source": [
    "cities = ['Mumbai', 'London', 'Paris', 'New York']\n",
    "capitals = {'New Delhi':'India','Washington DC':'USA'}\n",
    "cities.extend(capitals) # adds keys of dict as elements\n",
    "print(\"Updated List: \",cities)"
   ]
  },
  {
   "cell_type": "code",
   "execution_count": 58,
   "metadata": {},
   "outputs": [
    {
     "name": "stdout",
     "output_type": "stream",
     "text": [
      "[('z', 0), ('b', 1), ('a', 2), ('x', 3), ('x', 4), ('y', 4)]\n"
     ]
    }
   ],
   "source": [
    "# A function that returns the 'year' value:\n",
    "def myFunc(e):\n",
    "  return e[1]\n",
    "\n",
    "input = [('b', 1), ('a', 2), ('x', 3), ('x', 4), ('z', 0), ('y', 4)] \n",
    "input.sort(key=myFunc)\n",
    "print(input)"
   ]
  },
  {
   "cell_type": "code",
   "execution_count": 59,
   "metadata": {},
   "outputs": [
    {
     "name": "stdout",
     "output_type": "stream",
     "text": [
      "[('z', 0), ('b', 1), ('a', 2), ('x', 3), ('x', 4), ('y', 4)]\n"
     ]
    }
   ],
   "source": [
    "input = [('b', 1), ('a', 2), ('x', 3), ('x', 4), ('z', 0), ('y', 4)] \n",
    "input.sort(key=lambda x: x[1])\n",
    "print(input)"
   ]
  },
  {
   "cell_type": "code",
   "execution_count": 65,
   "metadata": {},
   "outputs": [
    {
     "name": "stdout",
     "output_type": "stream",
     "text": [
      "{'b': 1, 'a': 2, 'x': 4, 'z': 0, 'y': 4}\n",
      "None\n",
      "0\n",
      "4\n",
      "bb\n"
     ]
    }
   ],
   "source": [
    "#There is actually a clever way to do this that is useful for any list of tuples where the size of each tuple is 2: you can convert your list into a single dictionary.\n",
    "input = [('b', 1), ('a', 2), ('x', 3), ('x', 4), ('z', 0), ('y', 4)] \n",
    "dict_input = dict(input)\n",
    "print(dict_input)\n",
    "print(dict_input.get(1))\n",
    "print(dict_input.get('z'))\n",
    "print(dict_input['x'])\n",
    "for letter, number in dict_input.items():\n",
    "    if number == 1:\n",
    "        print(letter + letter)\n"
   ]
  },
  {
   "cell_type": "code",
   "execution_count": 79,
   "metadata": {},
   "outputs": [
    {
     "name": "stdout",
     "output_type": "stream",
     "text": [
      "3\n",
      "<class 'pandas.core.series.Series'>\n",
      "\n",
      "a    3\n",
      "d    3\n",
      "b    2\n",
      "c    2\n",
      "dtype: int64\n",
      "\n",
      "3\n",
      "<class 'numpy.int64'>\n"
     ]
    }
   ],
   "source": [
    "items = ['a', 'b', 'a', 'c', 'd', 'd', 'd', 'c', 'a', 'b']\n",
    "counts = pd.Series(items).value_counts()\n",
    "print(counts.get('a'))\n",
    "print(str(type(counts)) + '\\n')\n",
    "print(str(counts) + '\\n')\n",
    "print(counts[0])\n",
    "print(type(counts[0]))"
   ]
  },
  {
   "cell_type": "code",
   "execution_count": 87,
   "metadata": {},
   "outputs": [
    {
     "name": "stdout",
     "output_type": "stream",
     "text": [
      "{'a': 'apple', 'b': 'banana'}\n"
     ]
    }
   ],
   "source": [
    "#dropping nulls\n",
    "dict1 = {'a': 'apple', 'b': 'banana', 'c':None}\n",
    "\n",
    "dict1 = {key:value for (key, value) in dict1.items() if value is not None}\n",
    "print(dict1)\n",
    "\n",
    "#filtering\n",
    "heights = {'John': 175, 'Jane': 150, 'Jim': 155, 'Matt': 170}\n",
    "\n",
    "tall = {key:value for (key, value) in heights.items() if value >= 170}\n",
    "\n",
    "print(tall)"
   ]
  },
  {
   "cell_type": "code",
   "execution_count": 81,
   "metadata": {},
   "outputs": [
    {
     "name": "stdout",
     "output_type": "stream",
     "text": [
      "{1: 1, 2: 4, 3: 9, 4: 16, 5: 25, 6: 36, 7: 49, 8: 64, 9: 81, 10: 100}\n"
     ]
    }
   ],
   "source": [
    "dict1 = {i:i**2 for i in range(1,11)}\n",
    "print(dict1)"
   ]
  },
  {
   "cell_type": "code",
   "execution_count": 85,
   "metadata": {},
   "outputs": [
    {
     "name": "stdout",
     "output_type": "stream",
     "text": [
      "{'a': 1, 'b': 2, 'c': 3, 'd': 4}\n",
      "{'a': 1, 'b': 2, 'c': 3, 'd': 4, 'x': 31}\n",
      "{'a': 1, 'b': 2, 'c': 3, 'd': 4}\n"
     ]
    }
   ],
   "source": [
    "dict1 = {'a': 1, 'b': 2}\n",
    "dict2 = {'c': 3, 'd': 4}\n",
    "\n",
    "dict3 = {**dict1, **dict2} # >= python 3.5\n",
    "\n",
    "print(dict3)\n",
    "\n",
    "dict4 = dict3 | {'x':31} # >= python 3.9\n",
    "print(dict4)\n",
    "\n",
    "dict4 = dict3 | dict3\n",
    "print(dict4)"
   ]
  },
  {
   "cell_type": "code",
   "execution_count": 1,
   "metadata": {},
   "outputs": [
    {
     "name": "stdout",
     "output_type": "stream",
     "text": [
      "None\n"
     ]
    },
    {
     "ename": "KeyError",
     "evalue": "'c'",
     "output_type": "error",
     "traceback": [
      "\u001b[1;31m---------------------------------------------------------------------------\u001b[0m",
      "\u001b[1;31mKeyError\u001b[0m                                  Traceback (most recent call last)",
      "\u001b[1;32mc:\\Users\\e580\\Desktop\\python\\test and learn\\python_study_01.ipynb Cell 17'\u001b[0m in \u001b[0;36m<cell line: 11>\u001b[1;34m()\u001b[0m\n\u001b[0;32m      <a href='vscode-notebook-cell:/c%3A/Users/e580/Desktop/python/test%20and%20learn/python_study_01.ipynb#ch0000016?line=7'>8</a>\u001b[0m dict1 \u001b[39m=\u001b[39m {\u001b[39m'\u001b[39m\u001b[39ma\u001b[39m\u001b[39m'\u001b[39m:\u001b[39m1\u001b[39m, \u001b[39m'\u001b[39m\u001b[39mb\u001b[39m\u001b[39m'\u001b[39m:\u001b[39m2\u001b[39m}\n\u001b[0;32m     <a href='vscode-notebook-cell:/c%3A/Users/e580/Desktop/python/test%20and%20learn/python_study_01.ipynb#ch0000016?line=9'>10</a>\u001b[0m \u001b[39mprint\u001b[39m(dict1\u001b[39m.\u001b[39mget(\u001b[39m'\u001b[39m\u001b[39mc\u001b[39m\u001b[39m'\u001b[39m))\n\u001b[1;32m---> <a href='vscode-notebook-cell:/c%3A/Users/e580/Desktop/python/test%20and%20learn/python_study_01.ipynb#ch0000016?line=10'>11</a>\u001b[0m \u001b[39mprint\u001b[39m(dict1[\u001b[39m'\u001b[39;49m\u001b[39mc\u001b[39;49m\u001b[39m'\u001b[39;49m])\n",
      "\u001b[1;31mKeyError\u001b[0m: 'c'"
     ]
    }
   ],
   "source": [
    "\"\"\"\n",
    "6. Use Get Instead of the Dictionary Accessor\n",
    "To access a Python dictionary item, you can use square bracket notation. This works well — until it doesn’t.\n",
    "If a key doesn’t exist in a dictionary, an AttributeError is thrown.\n",
    "This can disrupt your code.\n",
    "However, using the get method will simply return None:\n",
    "\"\"\"\n",
    "dict1 = {'a':1, 'b':2}\n",
    "\n",
    "print(dict1.get('c'))\n",
    "print(dict1['c'])\n",
    "\n",
    "# Returns: None\n",
    "# Returns: KeyError"
   ]
  },
  {
   "cell_type": "code",
   "execution_count": 5,
   "metadata": {},
   "outputs": [
    {
     "name": "stdout",
     "output_type": "stream",
     "text": [
      "['a', 'b', 'c']\n"
     ]
    }
   ],
   "source": [
    "# remove duplicates from a list:\n",
    "mylist = [\"a\", \"b\", \"a\", \"c\", \"c\"]\n",
    "mylist = list(dict.fromkeys(mylist))\n",
    "print(mylist)"
   ]
  },
  {
   "cell_type": "code",
   "execution_count": 17,
   "metadata": {},
   "outputs": [
    {
     "name": "stdout",
     "output_type": "stream",
     "text": [
      "00:05:36\n",
      "time.struct_time(tm_year=2022, tm_mon=4, tm_mday=5, tm_hour=0, tm_min=5, tm_sec=36, tm_wday=1, tm_yday=95, tm_isdst=0)\n",
      "2022-04-05 00:05:36.747465\n"
     ]
    }
   ],
   "source": [
    "import time\n",
    "print(time.strftime(\"%H:%M:%S\",time.localtime()))\n",
    "print(time.localtime())\n",
    "\n",
    "from datetime import datetime\n",
    "#print(time.strftime(\"%H:%M:%S\",datetime.now().time()))\n",
    "print(datetime.now())\n"
   ]
  },
  {
   "cell_type": "code",
   "execution_count": 19,
   "metadata": {},
   "outputs": [
    {
     "name": "stdout",
     "output_type": "stream",
     "text": [
      "The day number : 339\n",
      "<class 'str'>\n",
      "The day number : 339\n",
      "<class 'str'>\n"
     ]
    }
   ],
   "source": [
    "day_num = \"339\"\n",
    "  \n",
    "# print day number\n",
    "print(\"The day number : \" + str(day_num))\n",
    "print(type(day_num))\n",
    "# adjusting day num\n",
    "day_num.rjust(3 + len(day_num), '0')\n",
    "print(\"The day number : \" + str(day_num))\n",
    "print(type(day_num))"
   ]
  },
  {
   "cell_type": "code",
   "execution_count": 3,
   "metadata": {},
   "outputs": [
    {
     "name": "stdout",
     "output_type": "stream",
     "text": [
      "21\n",
      "3\n",
      "15\n"
     ]
    }
   ],
   "source": [
    "def func_y(n):\n",
    "    y = '+'.join(str(x) for x in range(n))\n",
    "    return (eval(y))\n",
    "print(func_y(7))\n",
    "print(func_y(3))\n",
    "print(func_y(6))"
   ]
  },
  {
   "cell_type": "markdown",
   "metadata": {},
   "source": [
    "### BITWISE SHIFT OPERATORS\n",
    "x << y\n",
    "Returns x with the bits shifted to the left by y places (and new bits on the right-hand-side are zeros). This is the same as multiplying x by 2**y.\n",
    "\n",
    "x >> y\n",
    "Returns x with the bits shifted to the right by y places. This is the same as dividing x by 2**y."
   ]
  },
  {
   "cell_type": "code",
   "execution_count": 4,
   "metadata": {},
   "outputs": [
    {
     "data": {
      "text/plain": [
       "20"
      ]
     },
     "execution_count": 4,
     "metadata": {},
     "output_type": "execute_result"
    }
   ],
   "source": [
    "x = 5\n",
    "x << 2 "
   ]
  },
  {
   "cell_type": "code",
   "execution_count": 7,
   "metadata": {},
   "outputs": [
    {
     "name": "stdout",
     "output_type": "stream",
     "text": [
      " wo\n",
      " wo \n",
      "bu ne simdi \n"
     ]
    }
   ],
   "source": [
    "example = \"snow world\"\n",
    "print(example[4:7])\n",
    "print(\"%s \" % example[4:7])\n",
    "print(\"%s \" % \"bu ne simdi\")"
   ]
  },
  {
   "cell_type": "markdown",
   "metadata": {},
   "source": [
    "%d is for decimal integer\n",
    "\n",
    "%s is for generic string or object and in case of object, it will be converted to string  \n",
    "as you can see %d will truncate to integer, %s will maintain formatting, %f will print as float and %g is used for generic number"
   ]
  },
  {
   "cell_type": "code",
   "execution_count": 8,
   "metadata": {},
   "outputs": [
    {
     "name": "stdout",
     "output_type": "stream",
     "text": [
      "giacomo 4.3 4 4.300000 4.3\n"
     ]
    }
   ],
   "source": [
    "name ='giacomo'\n",
    "number = 4.3\n",
    "print('%s %s %d %f %g' % (name, number, number, number, number))"
   ]
  },
  {
   "cell_type": "code",
   "execution_count": 57,
   "metadata": {},
   "outputs": [
    {
     "name": "stdout",
     "output_type": "stream",
     "text": [
      "['one', 'day', 'soon']\n",
      "['one', 'day']\n",
      "ONE!DAY!SOON\n"
     ]
    }
   ],
   "source": [
    "sentence = \"one day soon\"\n",
    "print(sentence.split(\" \"))\n",
    "print(sentence.split(\" \")[:-1])\n",
    "ttext = sentence.split(\" \")\n",
    "print(\"!\".join(ttext).upper())"
   ]
  },
  {
   "cell_type": "code",
   "execution_count": 50,
   "metadata": {},
   "outputs": [
    {
     "name": "stdout",
     "output_type": "stream",
     "text": [
      "['', 'Have free hours and love children? ', 'Drive kids to school, soccer practice ', 'and other activities.']\n",
      "['have', 'free', 'hours', 'and', 'love', 'children?', 'drive', 'kids', 'to', 'school,', 'soccer', 'practice', 'and', 'other', 'activities.']\n",
      "[('have', 'free'), ('free', 'hours'), ('hours', 'and'), ('and', 'love'), ('love', 'children?'), ('children?', 'drive'), ('drive', 'kids'), ('kids', 'to'), ('to', 'school,'), ('school,', 'soccer'), ('soccer', 'practice'), ('practice', 'and'), ('and', 'other'), ('other', 'activities.')]\n"
     ]
    }
   ],
   "source": [
    "sentence = \"\"\"\n",
    "Have free hours and love children? \n",
    "Drive kids to school, soccer practice \n",
    "and other activities.\n",
    "\"\"\"\n",
    "print(sentence.splitlines())#(\" \")[:-1])\n",
    "yahak = sentence.splitlines()\n",
    "yahak = ' '.join(yahak)\n",
    "\n",
    "onceki = ''\n",
    "yahak2 = ''\n",
    "for index, i in enumerate(yahak):\n",
    "    if i == onceki or index == 0:\n",
    "        pass\n",
    "    else:\n",
    "        yahak2 = yahak2 + i\n",
    "\n",
    "yahak = [i.lower() for i in yahak2.split(\" \") if len(i) > 0]\n",
    "print(yahak)\n",
    "return_list = []\n",
    "\n",
    "for i in range(len(yahak)-1):\n",
    "    return_list.append((yahak[i], yahak[i+1]))\n",
    "\n",
    "print(return_list)"
   ]
  },
  {
   "cell_type": "code",
   "execution_count": 32,
   "metadata": {},
   "outputs": [
    {
     "name": "stdout",
     "output_type": "stream",
     "text": [
      "ab\n"
     ]
    }
   ],
   "source": [
    "a = 'a'\n",
    "b = 'b'\n",
    "a = a +b\n",
    "print(a)\n"
   ]
  },
  {
   "cell_type": "code",
   "execution_count": null,
   "metadata": {},
   "outputs": [],
   "source": [
    "def find_bigrams(sentence):\n",
    "    yahak = sentence.splitlines()\n",
    "    yahak = ' '.join(yahak)\n",
    "\n",
    "    onceki = ''\n",
    "    yahak2 = ''\n",
    "    for index, i in enumerate(yahak):\n",
    "        if i == onceki or index == 0:\n",
    "            pass\n",
    "        else:\n",
    "            yahak2 = yahak2 + i\n",
    "\n",
    "    yahak = [i.lower() for i in yahak2.split(\" \") if len(i) > 0]\n",
    "    print(yahak)\n",
    "    return_list = []\n",
    "\n",
    "    for i in range(len(yahak)-1):\n",
    "        return_list.append((yahak[i], yahak[i+1]))\n",
    "\n",
    "    return return_list"
   ]
  },
  {
   "cell_type": "code",
   "execution_count": 61,
   "metadata": {},
   "outputs": [
    {
     "name": "stdout",
     "output_type": "stream",
     "text": [
      "['', 'Have free hours and love children? ', 'Drive kids to school, soccer practice ', 'and other activities.']\n",
      "['Have', 'free', 'hours', 'and', 'love', 'children?', 'Drive', 'kids', 'to', 'school,', 'soccer', 'practice', 'and', 'other', 'activities.']\n",
      "['have', 'free', 'hours', 'and', 'love', 'children?', 'drive', 'kids', 'to', 'school,', 'soccer', 'practice', 'and', 'other', 'activities.']\n",
      "wow\n",
      "[('have', 'free'), ('free', 'hours'), ('hours', 'and'), ('and', 'love'), ('love', 'children?'), ('children?', 'drive'), ('drive', 'kids'), ('kids', 'to'), ('to', 'school,'), ('school,', 'soccer'), ('soccer', 'practice'), ('practice', 'and'), ('and', 'other'), ('other', 'activities.')]\n"
     ]
    }
   ],
   "source": [
    "sentence = \"\"\"\n",
    "Have free hours and love children? \n",
    "Drive kids to school, soccer practice \n",
    "and other activities.\n",
    "\"\"\"\n",
    "print(sentence.splitlines())\n",
    "print(sentence.split())\n",
    "print(sentence.lower().split())\n",
    "[(sentence.lower().split()[i], sentence.lower().split()[i+1]) for i in range(len(sentence.lower().split())-1)]\n",
    "\n",
    "wwords = sentence.lower().split()\n",
    "print('wow, kisa olan iterablei seciyor cok mantikli')\n",
    "print(list(zip(wwords, wwords[1:])))"
   ]
  },
  {
   "cell_type": "code",
   "execution_count": 63,
   "metadata": {},
   "outputs": [
    {
     "name": "stdout",
     "output_type": "stream",
     "text": [
      "seni sectim pikacu: makas\n"
     ]
    }
   ],
   "source": [
    "import random\n",
    "secenekler = ['tas', 'kagit', 'makas']\n",
    "print('seni sectim pikacu: {}'.format(random.choice(secenekler)))"
   ]
  },
  {
   "cell_type": "code",
   "execution_count": null,
   "metadata": {},
   "outputs": [],
   "source": [
    "train_transf[\"weekday\"]=train_transf.Date.apply(lambda x: x.weekday())"
   ]
  },
  {
   "cell_type": "code",
   "execution_count": null,
   "metadata": {},
   "outputs": [],
   "source": [
    "from catboost import CatBoostRegressor\n",
    "from sklearn.model_selection import train_test_split\n",
    "from sklearn.linear_model import LinearRegression,SGDRegressor\n",
    "from sklearn.preprocessing import OneHotEncoder\n",
    "from sklearn.metrics import mean_squared_error,mean_absolute_error\n",
    "X_train,X_test,y_train,y_test=train_test_split(train_transf.drop(columns=[\"Date\",\"month\",\"SalesQuantity\"]),train_transf.SalesQuantity.values,test_size=0.2)\n",
    "cat_vars=[\"StoreCode\",\"ProductCode\",\"IsPromotion\",\"ProductGroup1\",\"ProductGroup2\",\"store_type\",\"prod_type\",\"weekday\"]\n",
    "cat_vars=[X_train.columns.tolist().index(i) for i in cat_vars]\n",
    "\n",
    "model=CatBoostRegressor(learning_rate=0.15,num_boost_round=1100,early_stopping_rounds=200,task_type=\"GPU\")\n",
    "model.fit(X_train,y_train,\n",
    "         eval_set=[(X_test,y_test)],cat_features=cat_vars)"
   ]
  },
  {
   "cell_type": "markdown",
   "metadata": {},
   "source": [
    "list.index('column_name)"
   ]
  },
  {
   "cell_type": "code",
   "execution_count": 77,
   "metadata": {},
   "outputs": [
    {
     "name": "stdout",
     "output_type": "stream",
     "text": [
      "<class 'pandas.core.frame.DataFrame'>\n",
      "['sepal_length', 'sepal_width', 'petal_length', 'petal_width', 'species']\n",
      "['sepal_length', 'sepal_width', 'petal_length', 'petal_width', 'species']\n",
      "3\n"
     ]
    }
   ],
   "source": [
    "import seaborn as sns\n",
    "\n",
    "iris = sns.load_dataset('iris')\n",
    "print(type(iris))\n",
    "print(iris.columns.tolist())\n",
    "a = iris.columns.tolist()\n",
    "print(a)\n",
    "print(a.index('petal_width'))\n"
   ]
  },
  {
   "cell_type": "markdown",
   "metadata": {},
   "source": [
    "WHILE ELSE DIYE BISI VAAAAAAAAAAAAAR"
   ]
  },
  {
   "cell_type": "code",
   "execution_count": 3,
   "metadata": {},
   "outputs": [
    {
     "name": "stdout",
     "output_type": "stream",
     "text": [
      "anlik x: 0\n",
      "anlik x: 1\n",
      "anlik x: 2\n",
      "anlik x: 3\n",
      "anlik x: 4\n",
      "anlik x: 5\n",
      "anlik x: 6\n",
      "anlik x: 7\n",
      "anlik x: 8\n",
      "anlik x: 9\n",
      "amk finito\n",
      "10\n"
     ]
    }
   ],
   "source": [
    "x = 0\n",
    "while x < 10:\n",
    "    print('anlik x:', x)\n",
    "    x += 1\n",
    "else:  \n",
    "    print('amk finito')\n",
    "    print(x)"
   ]
  },
  {
   "cell_type": "code",
   "execution_count": 6,
   "metadata": {},
   "outputs": [
    {
     "name": "stdout",
     "output_type": "stream",
     "text": [
      "613\n",
      "804\n"
     ]
    }
   ],
   "source": [
    "import random\n",
    "print(random.randrange(100,1000, 3)) ## 3 step size, 3e bolunebilen bir sayi\n",
    "print(random.randrange(100,1000, 2)) ## 2 step size, 2ye bolunebilen bir sayi"
   ]
  },
  {
   "cell_type": "code",
   "execution_count": 10,
   "metadata": {},
   "outputs": [
    {
     "name": "stdout",
     "output_type": "stream",
     "text": [
      "bu bir excepttir, try ederken hata ile karşilaşirsa print eder\n",
      "ne olursa olsun print eder\n"
     ]
    }
   ],
   "source": [
    "try: \n",
    "#    a = 1/0\n",
    "    print('ahanda bu trydir')\n",
    "except:\n",
    "    print('bu bir excepttir, try ederken hata ile karşilaşirsa print eder')\n",
    "else:\n",
    "    print('bu else ise HATA İLE KARŞILAŞMAZSA print eder')\n",
    "finally:\n",
    "    print('ne olursa olsun print eder')"
   ]
  },
  {
   "cell_type": "code",
   "execution_count": 11,
   "metadata": {},
   "outputs": [
    {
     "name": "stdout",
     "output_type": "stream",
     "text": [
      "ahanda bu trydir\n",
      "bu else ise HATA İLE KARŞILAŞMAZSA print eder\n",
      "ne olursa olsun print eder\n"
     ]
    }
   ],
   "source": [
    "try: \n",
    "    print('ahanda bu trydir')\n",
    "except:\n",
    "    print('bu bir excepttir, try ederken hata ile karşilaşirsa print eder')\n",
    "else:\n",
    "    print('bu else ise HATA İLE KARŞILAŞMAZSA print eder')\n",
    "finally:\n",
    "    print('ne olursa olsun print eder')"
   ]
  },
  {
   "cell_type": "markdown",
   "metadata": {},
   "source": [
    "## GARBAGE COLLECTION\n",
    "\n",
    "finally garbage collection'a yarıyor. İşimizin sona erdiğinde finally'de variableları çöpe atıyoruz."
   ]
  },
  {
   "cell_type": "markdown",
   "metadata": {},
   "source": [
    "## DICTIONARYLERDE SON DEGISTIRILENI ESAS ALIR\n",
    "#### ilkini değilllllllllll"
   ]
  },
  {
   "cell_type": "code",
   "execution_count": 12,
   "metadata": {},
   "outputs": [
    {
     "name": "stdout",
     "output_type": "stream",
     "text": [
      "Niang\n"
     ]
    }
   ],
   "source": [
    "### DICTIONARYLERDE SON DEGISTIRILENI ESAS ALIR\n",
    "dict = {'Name':'Alex', 'yas':32, 'Name':'Niang'}\n",
    "print(dict['Name'])"
   ]
  },
  {
   "cell_type": "markdown",
   "metadata": {},
   "source": [
    "## ANONIM FONKSIYONLARDA VARIABLELAR FONKSIYONLASIYOR. VE ARGUMAN ALIYOR"
   ]
  },
  {
   "cell_type": "code",
   "execution_count": 13,
   "metadata": {},
   "outputs": [
    {
     "data": {
      "text/plain": [
       "17"
      ]
     },
     "execution_count": 13,
     "metadata": {},
     "output_type": "execute_result"
    }
   ],
   "source": [
    "addition_x = lambda x : x+5\n",
    "addition_x(12)"
   ]
  },
  {
   "cell_type": "markdown",
   "metadata": {},
   "source": [
    "## Her fonksiyonun 4 temel ve ortak, degismeyen parametresi var\n",
    "positional arguments: *args  (asagida a == positional arguments isimleri)  \n",
    "keyword arguments: **kwargs (asagida b == keyword arguments isimleri ve degerleri)"
   ]
  },
  {
   "cell_type": "code",
   "execution_count": 14,
   "metadata": {},
   "outputs": [],
   "source": [
    "def fun(a, *args, b=20, **kwargs):\n",
    "    print('vov')"
   ]
  },
  {
   "cell_type": "code",
   "execution_count": 16,
   "metadata": {},
   "outputs": [
    {
     "data": {
      "text/plain": [
       "131"
      ]
     },
     "execution_count": 16,
     "metadata": {},
     "output_type": "execute_result"
    }
   ],
   "source": [
    "res1 = (lambda *args : sum(args))\n",
    "res1(20,30,40,41)"
   ]
  },
  {
   "cell_type": "code",
   "execution_count": 2,
   "metadata": {},
   "outputs": [
    {
     "data": {
      "text/plain": [
       "131"
      ]
     },
     "execution_count": 2,
     "metadata": {},
     "output_type": "execute_result"
    }
   ],
   "source": [
    "res1 = (lambda **kwargs : sum(kwargs.values()))\n",
    "res1(a = 20,b=30,bc=40,cd=41)"
   ]
  },
  {
   "cell_type": "markdown",
   "metadata": {},
   "source": [
    "filter  \n",
    "map  \n",
    "reduce   \n",
    "PARAMETRELER : FUNCTION, ITERABLE\n",
    "\n",
    "reduce ile listenin toplamını bulabilirsin, maxını bulabilirsin vs vs\n",
    "iterate ede ede gidiyor işte mantık bu.  \n",
    "print(functools.reduce(lambda a, b: a+b, lis)) yaparsan mesela sırayla toplar.\n"
   ]
  },
  {
   "cell_type": "code",
   "execution_count": 5,
   "metadata": {},
   "outputs": [
    {
     "data": {
      "text/plain": [
       "50"
      ]
     },
     "execution_count": 5,
     "metadata": {},
     "output_type": "execute_result"
    }
   ],
   "source": [
    "from functools import reduce\n",
    "list1 = list(range(10))\n",
    "sum_all = reduce(lambda a,b : a + b, list(map(lambda n:n*2,list(filter(lambda n:n%2 == 1, list1)))))\n",
    "sum_all"
   ]
  },
  {
   "cell_type": "code",
   "execution_count": 16,
   "metadata": {},
   "outputs": [],
   "source": [
    "import time\n",
    "import numpy as np \n",
    "my_n = 10 ** 8\n",
    "def trad_version():\n",
    "    t1 = time.time()\n",
    "    X = range(my_n)\n",
    "    Y = range(my_n)\n",
    "    Z = []\n",
    "    for i in range(len(X)):\n",
    "        Z.append(X[i] + Y[i])\n",
    "    return time.time() - t1\n",
    "\n",
    "def numpy_version():\n",
    "    t1 = time.time()\n",
    "    X = np.arange(my_n)\n",
    "    Y = np.arange(my_n)\n",
    "    Z = X + Y\n",
    "    return time.time() - t1\n",
    "\n",
    "#traditional_sure = trad_version()\n",
    "#np_sure = numpy_version() \n",
    "\n",
    "#print(f\"Sureler traditional: {traditional_sure}\\n Numpy: {np_sure} \\n Fark: {traditional_sure - np_sure} \\n Oran: {(traditional_sure-np_sure)/traditional_sure}\")\n"
   ]
  },
  {
   "cell_type": "code",
   "execution_count": 17,
   "metadata": {},
   "outputs": [],
   "source": [
    "traditional_sure = trad_version()"
   ]
  },
  {
   "cell_type": "code",
   "execution_count": 18,
   "metadata": {},
   "outputs": [],
   "source": [
    "np_sure = numpy_version() "
   ]
  },
  {
   "cell_type": "code",
   "execution_count": 19,
   "metadata": {},
   "outputs": [
    {
     "name": "stdout",
     "output_type": "stream",
     "text": [
      "Sureler traditional: 41.864434480667114\n",
      " Numpy: 0.46454763412475586 \n",
      " Fark: 41.39988684654236 \n",
      " Oran: 0.9889035253936301\n"
     ]
    }
   ],
   "source": [
    "print(f\"Sureler traditional: {traditional_sure}\\n Numpy: {np_sure} \\n Fark: {traditional_sure - np_sure} \\n Oran: {(traditional_sure-np_sure)/traditional_sure}\")\n"
   ]
  },
  {
   "cell_type": "markdown",
   "metadata": {},
   "source": [
    "IPython, which is running on DataCamp's servers, has a bunch of cool commands, including its magic commands. For example, starting a line with ! gives you complete system shell access.  \n",
    "   This means that the IPython magic command ! ls will display the contents of your current directory"
   ]
  },
  {
   "cell_type": "code",
   "execution_count": 1,
   "metadata": {},
   "outputs": [
    {
     "name": "stderr",
     "output_type": "stream",
     "text": [
      "'ls' is not recognized as an internal or external command,\n",
      "operable program or batch file.\n"
     ]
    }
   ],
   "source": [
    "! ls"
   ]
  },
  {
   "cell_type": "markdown",
   "metadata": {},
   "source": [
    "## SQLITE\n",
    "\n",
    "Exec edilen query dönütünü dataframe'e kaydedion. Kaç satır olacağını vs sen seçebiliosun."
   ]
  },
  {
   "cell_type": "code",
   "execution_count": null,
   "metadata": {},
   "outputs": [],
   "source": [
    "# Import packages\n",
    "from sqlalchemy import create_engine\n",
    "import pandas as pd\n",
    "\n",
    "# Create engine: engine\n",
    "engine = create_engine('sqlite:///Chinook.sqlite')\n",
    "\n",
    "# Open engine connection: con\n",
    "con = engine.connect()\n",
    "\n",
    "# Perform query: rs\n",
    "rs = con.execute('SELECT * FROM Album')\n",
    "\n",
    "# Save results of the query to DataFrame: df\n",
    "df = pd.DataFrame(rs.fetchall())\n",
    "\n",
    "# Close connection\n",
    "con.close()\n",
    "\n",
    "# Print head of DataFrame df\n",
    "print(df.head())"
   ]
  },
  {
   "cell_type": "code",
   "execution_count": null,
   "metadata": {},
   "outputs": [],
   "source": [
    "engine = create_engine('sqlite:///Northwind.sqlite')\n",
    "\n",
    "with engine.connect() as con:\n",
    "    rs = con.execute(\"SELECT OrderID, OrderDate, ShipName FROM Orders\")\n",
    "    df = pd.DataFrame(rs.fetchmany(size=5))\n",
    "    df.columns = rs.keys()"
   ]
  },
  {
   "cell_type": "code",
   "execution_count": null,
   "metadata": {},
   "outputs": [],
   "source": [
    "# Import packages\n",
    "from sqlalchemy import create_engine\n",
    "import pandas as pd\n",
    "\n",
    "# Create engine: engine\n",
    "engine = create_engine('sqlite:///Chinook.sqlite')\n",
    "\n",
    "# Execute query and store records in DataFrame: df\n",
    "df = pd.read_sql_query('select * from Album', engine)\n",
    "\n",
    "# Print head of DataFrame\n",
    "print(df.head())\n",
    "\n",
    "# Open engine in context manager and store query result in df1\n",
    "with engine.connect() as con:\n",
    "    rs = con.execute(\"SELECT * FROM Album\")\n",
    "    df1 = pd.DataFrame(rs.fetchall())\n",
    "    df1.columns = rs.keys()\n",
    "\n",
    "# Confirm that both methods yield the same result\n",
    "print(df.equals(df1))"
   ]
  },
  {
   "cell_type": "markdown",
   "metadata": {},
   "source": [
    "INTERNETTEN IMPORTTTTT"
   ]
  },
  {
   "cell_type": "code",
   "execution_count": null,
   "metadata": {},
   "outputs": [],
   "source": [
    "# Import package\n",
    "from urllib.request import urlretrieve\n",
    "\n",
    "# Import pandas\n",
    "import pandas as pd\n",
    "\n",
    "# Assign url of file: url\n",
    "url = 'https://assets.datacamp.com/production/course_1606/datasets/winequality-red.csv'\n",
    "\n",
    "# Save file locally\n",
    "urlretrieve(url, 'winequality-red.csv')\n",
    "\n",
    "# Read file into a DataFrame and print its head\n",
    "df = pd.read_csv('winequality-red.csv', sep=';')\n",
    "print(df.head())"
   ]
  },
  {
   "cell_type": "code",
   "execution_count": null,
   "metadata": {},
   "outputs": [],
   "source": [
    "# Assign url of file: url\n",
    "url = 'https://assets.datacamp.com/production/course_1606/datasets/winequality-red.csv'\n",
    "\n",
    "# Read file into a DataFrame: df\n",
    "df = pd.read_csv(url, sep=';')"
   ]
  },
  {
   "cell_type": "code",
   "execution_count": null,
   "metadata": {},
   "outputs": [],
   "source": [
    "# Import package\n",
    "import pandas as pd\n",
    "\n",
    "# Assign url of file: url\n",
    "url = 'https://assets.datacamp.com/course/importing_data_into_r/latitude.xls'\n",
    "\n",
    "# Read in all sheets of Excel file: xls\n",
    "xls= pd.read_excel(url, sheet_name = None)\n",
    "\n",
    "# Print the sheetnames to the shell\n",
    "print(xls.keys())\n",
    "\n",
    "# Print the head of the first sheet (using its name, NOT its index)\n",
    "print(xls['1700'].head())\n"
   ]
  },
  {
   "cell_type": "markdown",
   "metadata": {},
   "source": [
    "Note that HTTPS is a more secure form of HTTP. Each time you go to a website, you are actually sending an HTTP request to a server. This request is known as a GET request, by far the most common type of HTTP request. We are actually performing a GET request when using the function urlretrieve. The ingenuity of urlretrieve also lies in fact that it not only makes a GET request but also saves the relevant data locally. "
   ]
  },
  {
   "cell_type": "code",
   "execution_count": null,
   "metadata": {},
   "outputs": [],
   "source": [
    "# Import packages\n",
    "from urllib.request import urlopen, Request\n",
    "\n",
    "# Specify the url\n",
    "url = \"https://campus.datacamp.com/courses/1606/4135?ex=2\"\n",
    "\n",
    "# This packages the request: request\n",
    "request = Request(url)\n",
    "\n",
    "# Sends the request and catches the response: response\n",
    "response = urlopen(request)\n",
    "\n",
    "# Print the datatype of response\n",
    "print(type(response))\n",
    "\n",
    "# Be polite and close the response!\n",
    "response.close()\n"
   ]
  },
  {
   "cell_type": "code",
   "execution_count": null,
   "metadata": {},
   "outputs": [],
   "source": [
    "# Import packages\n",
    "from urllib.request import urlopen, Request\n",
    "\n",
    "# Specify the url\n",
    "url = \"https://campus.datacamp.com/courses/1606/4135?ex=2\"\n",
    "\n",
    "# This packages the request\n",
    "request = Request(url)\n",
    "\n",
    "# Sends the request and catches the response: response\n",
    "response = urlopen(request)\n",
    "\n",
    "# Extract the response: html\n",
    "html = response.read()\n",
    "\n",
    "# Print the html\n",
    "print(html)\n",
    "\n",
    "# Be polite and close the response!\n",
    "response.close()"
   ]
  },
  {
   "cell_type": "markdown",
   "metadata": {},
   "source": [
    "request package'I"
   ]
  },
  {
   "cell_type": "code",
   "execution_count": 1,
   "metadata": {},
   "outputs": [
    {
     "name": "stdout",
     "output_type": "stream",
     "text": [
      "<!DOCTYPE HTML>\n",
      "<html lang=\"en-US\">\n",
      "<head>\n",
      "  <meta http-equiv=\"X-UA-Compatible\" content=\"IE=Edge\" />\n",
      "  <meta name=\"robots\" content=\"noindex, nofollow\" />\n",
      "  <meta name=\"viewport\" content=\"width=device-width,initial-scale=1\" />\n",
      "  <title>Just a moment...</title>\n",
      "  <style>\n",
      "    html, body {width: 100%; height: 100%; margin: 0; padding: 0;}\n",
      "    body {background-color: #ffffff; color: #000000; font-family:-apple-system, system-ui, BlinkMacSystemFont, \"Segoe UI\", Roboto, Oxygen, Ubuntu, \"Helvetica Neue\",Arial, sans-serif; font-size: 16px; line-height: 1.7em;-webkit-font-smoothing: antialiased;}\n",
      "    h1 { text-align: center; font-weight:700; margin: 16px 0; font-size: 32px; color:#000000; line-height: 1.25;}\n",
      "    p {font-size: 20px; font-weight: 400; margin: 8px 0;}\n",
      "    p, .attribution, {text-align: center;}\n",
      "    #spinner {margin: 0 auto 30px auto; display: block;}\n",
      "    .attribution {margin-top: 32px;}\n",
      "    @keyframes fader     { 0% {opacity: 0.2;} 50% {opacity: 1.0;} 100% {opacity: 0.2;} }\n",
      "    @-webkit-keyframes fader { 0% {opacity: 0.2;} 50% {opacity: 1.0;} 100% {opacity: 0.2;} }\n",
      "    #cf-bubbles > .bubbles { animation: fader 1.6s infinite;}\n",
      "    #cf-bubbles > .bubbles:nth-child(2) { animation-delay: .2s;}\n",
      "    #cf-bubbles > .bubbles:nth-child(3) { animation-delay: .4s;}\n",
      "    .bubbles { background-color: #f58220; width:20px; height: 20px; margin:2px; border-radius:100%; display:inline-block; }\n",
      "    a { color: #2c7cb0; text-decoration: none; -moz-transition: color 0.15s ease; -o-transition: color 0.15s ease; -webkit-transition: color 0.15s ease; transition: color 0.15s ease; }\n",
      "    a:hover{color: #f4a15d}\n",
      "    .attribution{font-size: 16px; line-height: 1.5;}\n",
      "    .ray_id{display: block; margin-top: 8px;}\n",
      "    #cf-wrapper #challenge-form { padding-top:25px; padding-bottom:25px; }\n",
      "    #cf-hcaptcha-container { text-align:center;}\n",
      "    #cf-hcaptcha-container iframe { display: inline-block;}\n",
      "  </style>\n",
      "\n",
      "      <meta http-equiv=\"refresh\" content=\"35\">\n",
      "  <script>\n",
      "    //<![CDATA[\n",
      "    (function(){\n",
      "      window._cf_chl_opt={\n",
      "        cvId: \"2\",\n",
      "        cType: \"non-interactive\",\n",
      "        cNounce: \"15328\",\n",
      "        cRay: \"71918f17ccb898bb\",\n",
      "        cHash: \"75086211a284979\",\n",
      "        cUPMDTk: \"\\/teach\\/documentation?__cf_chl_tk=D2RqlwvptBKVS65JT2cNy5vlL8CI1hZICQ5oX5.eWUw-1654858361-0-gaNycGzNB_0\",\n",
      "        cFPWv: \"b\",\n",
      "        cTTimeMs: \"1000\",\n",
      "        cRq: {\n",
      "          ru: \"aHR0cHM6Ly93d3cuZGF0YWNhbXAuY29tL3RlYWNoL2RvY3VtZW50YXRpb24=\",\n",
      "          ra: \"cHl0aG9uLXJlcXVlc3RzLzIuMjcuMQ==\",\n",
      "          rm: \"R0VU\",\n",
      "          d: \"bA+6iUGtrsPog+Oe0WlJaRW5Bbm0ciYiOvwOcizRSmHpj9n5FsKCaeON4TPRX4fjhPsPeucLF5lvVQF2/4kbMxx8ajaREqwSyI4dX10XV/9bt8LfxENYBEoPpjG47ox7/XyF/o5GTWJpwCL0c7HO7ZJ5EHM0z8C9u1LsCVssMHdV9i21MWGAjx8pyncCQmZYxKy+8dJAdiHwwPhfrEbBuDHDGVI+lGYTn2Wq+dnC7eKiYY8mFKdQePkcCO4WuoPIU/qJRqzkcC1AkxtzumUbPw0Hjvwa80j7RSvTRedx+AuGwWUPAl9g/UdGAGJkLcurhWi4bwE4FaNVyYh/aGVI1SQBfP/VSlPD1LGGDpRUY3Nla+IezdqZUfyu3s645wpRFt0SgQyd2eVrF7QdXVktg2CrmzktqenUvPOil9FuhvkS0UCrso0xaelR+zlqaHCh6BonC7QUk1U9hy9WHao24loThKPK/RjVCRZhICBbC2fhAlBtZF1yoX+gKEr1/TaX5QeVFQYd+zw7GHM/1xzHr56V+PH4QB0cu0Sa+FF3AwJo5tJQ02uS2yJehniLk3IT\",\n",
      "          t: \"MTY1NDg1ODM2MS41NzMwMDA=\",\n",
      "          m: \"ALM15uTVQbVxmNOToBii3LF8BL4nAAgo3I2KzMuQgc4=\",\n",
      "          i1: \"zjvSanxeAo7VDuzsnEKM+Q==\",\n",
      "          i2: \"9D831tPg1ZRqkWgzA4d9KQ==\",\n",
      "          zh: \"hzfiqo9hugT9sHeHQ1zy81NCL/S0295H0+GuRnkSV9o=\",\n",
      "          uh: \"JNy/u1JaDY8l68+s834y37Qd6UIzTJLBzCkJPX4t/ps=\",\n",
      "          hh: \"rAZnIHiyrNuZ60h9aAZNML8izDilqmOSNuCtac1WqPs=\",\n",
      "        }\n",
      "      }\n",
      "      window._cf_chl_enter = function(){window._cf_chl_opt.p=1};\n",
      "    })();\n",
      "    //]]>\n",
      "  </script>\n",
      "  \n",
      "\n",
      "</head>\n",
      "<body>\n",
      "  <table width=\"100%\" height=\"100%\" cellpadding=\"20\">\n",
      "    <tr>\n",
      "      <td align=\"center\" valign=\"middle\">\n",
      "          <div class=\"cf-browser-verification cf-im-under-attack\">\n",
      "  <noscript>\n",
      "    <h1 data-translate=\"turn_on_js\" style=\"color:#bd2426;\">Please turn JavaScript on and reload the page.</h1>\n",
      "  </noscript>\n",
      "  <div id=\"cf-content\" style=\"display:none\">\n",
      "    \n",
      "    <div id=\"cf-bubbles\">\n",
      "      <div class=\"bubbles\"></div>\n",
      "      <div class=\"bubbles\"></div>\n",
      "      <div class=\"bubbles\"></div>\n",
      "    </div>\n",
      "    <h1><span data-translate=\"checking_browser\">Checking your browser before accessing</span> www.datacamp.com.</h1>\n",
      "    \n",
      "    <div id=\"no-cookie-warning\" class=\"cookie-warning\" data-translate=\"turn_on_cookies\" style=\"display:none\">\n",
      "      <p data-translate=\"turn_on_cookies\" style=\"color:#bd2426;\">Please enable Cookies and reload the page.</p>\n",
      "    </div>\n",
      "    <p data-translate=\"process_is_automatic\">This process is automatic. Your browser will redirect to your requested content shortly.</p>\n",
      "    <p data-translate=\"allow_5_secs\" id=\"cf-spinner-allow-5-secs\" >Please allow up to 5 seconds&hellip;</p>\n",
      "    <p data-translate=\"redirecting\" id=\"cf-spinner-redirecting\" style=\"display:none\">Redirecting&hellip;</p>\n",
      "  </div>\n",
      "   \n",
      "  <form class=\"challenge-form\" id=\"challenge-form\" action=\"/teach/documentation?__cf_chl_f_tk=D2RqlwvptBKVS65JT2cNy5vlL8CI1hZICQ5oX5.eWUw-1654858361-0-gaNycGzNB_0\" method=\"POST\" enctype=\"application/x-www-form-urlencoded\">\n",
      "    <input type=\"hidden\" name=\"md\" value=\"0PVke9pR34UM.lWSRJcUlqdferCeFshY26LqzxIrFCQ-1654858361-0-AaPPhZCCZEUnTl-cxFNPupS8FhCziXH-z8yBGj2LmIb5HNhiFtekvIsTl3jdN5wSfjGnbEqxH563MPwJaTCm_n_Vh_Hshoxvp_j76Vid_k4tx6Mlg04oVLWZAdIG41IPXsyBXXxTVI0WAaTlp_1gQwP8MezwHTZCNLSRTqJHVSRPnanaDQseBI9yvuao3Jdarm98EL5-MKStQO7lNjEOrdTEUARbVr22vTgLSK_PwH6BshB0t1zinD1nAI8XnNhD1XNcHVLetiB23i8sHKxqCaGZV9tWtkrYOV9QiqZ2-HlYETsHt08DUVOqIm_WekxLtVCsfNXGjHxYBkL-izFlXii26Iz8vniY4P-8tVH6WcDNTMaSvUB_ku0cPWChToOxA_20FHnCWrxhSPqmKsIq6XmgyT8a1Ipm5rwzk9z-u1o0O2FmXR7t2MAdVdqraZnk188upuWGTDqLD7TKVoDcLp9WJUuw5V3GAZlCmlpvA7y7IxN1pYKqESQEyk3MykW4p9QJRlLdrjQaSPkBF3x9TNAufhkzYbUtKHagjLM7wyUq25_LRpFeqRRVCHbLVGi3GEcNlKin_14Ou_Bt4kXHxg1w89wlEjwUcgKpuJ7lqX4sEFNWvJ-f86CG_WXM_bidXP64QVK2nZS9QSAmaqCAhwo\" />\n",
      "    <input type=\"hidden\" name=\"r\" value=\"GM7CNA1F5wBee0o_ySECLJffWJTN0SWhCNoy.W19xiA-1654858361-0-AVBKKQiShhzK4nuChxZByHdxnc/hqGgPygOON7bFgEp5vAZYar88g+TS7GdbiiiLks/7UESlSWU/hLmxWI3aIdBz3e5YAIQI60UagrF709t/4wkRYTLnD+d59Tj6A2J5YDoKlu471ydsI0sthCW90U7WkTZqylpWB1/wN2GUPmKeHfrvF7A78XfXTw6GLvDZDe6mJUTfGqoT1Yqpuja4+gXlaVs7ZU2h7GvZ4KJ31mwm37Yk34uHTaIGOuVT91FAnDO6ZS0VnXpzj+9OIFX7NyfJFiUjjel+uLwhtDq6YyVCdfx1tWHn9MYgbujVPN8llUD6AwIrSBTFw1yL+h1qaES8MVysraZXIjHUA7vAhQ+0qkGdTSNzfMGE4vs48E0kJ4mI/Ts1a6RTLGEb1qIH33GJ2SwpzjKHKsiH/4k5H9fdJxv94EhRGsR+kGzXIragB0MKXCl/sAQCJUAD07+ZhHEmFrTlTVxJ2yJ1Hmw8gXDZX8ffQ7DtdFBlkYW2/PhR0p5lkZHsNl8LSQWoPfyr8CpOpPxGmRjufvbOwP1NY6HqvQ0MIya1cnU8xtlIUQWXgp46ULhTFMtLj0p7E3EZ/z5jbqbRYQehfzNVYsD4pt8A148bgbbURBi6Ki8p6SRBRhgVsg/9GkVNKlAeqA1AYpE9pZ7dTmG1/EBPyvOV8LUm8ZVPBwBjvmde04ppDpL8oVw4/NPQ9dEd247Eoi+VHGr2hCeXCTJFqCXTT+s0TpfsnFu82M5Uhj5iqFyMV1ClB6mbf2go+gW7dWTHPUFICqHZI5/2z7dXL6ke1qmWI/D+xAWJiLJGWR8eNQwkKp9waq8EtsCnwySe0NWjxho51reDz2u8b/965l2owymrHfdPLv23PMvJu+S2ab/QAIlIRPjqlbJlIgoDzzGr+bsONvDAQDt1qY55O3xlLyfLtGBwqLP4RifBvZd6ZC+73S/TtVAbXDlvpZ6if5FvdjaeHGI6ORBSN/bJndTVUqWr0AxTByaq14G08wFOzHHmk7Yr2kPGC1iejyqPub6geB1iEOsEIWJVLeS3iwd87e4Yrgedjujz01gRgzWMfswDB3VfUlqj2xjLenEe52fsLPocDTgNVW/CERQRyO2DgvKrj+o249TEgO18Xg3+xadt41p/bu3O4E2h92CaYI22zJtskjah9Hw4KWKPPJ+XQpND2fhj6LEhdflBOygqBbf/B7d9vj/tdwk6Hlq5uoPAR3gDy6dx4Jd90swcjeSCvoOWxFqCc6Ct9S+E4XO5bdM/H+USPiwA4LIPmOkmwTZc+m+Ic6PY8FXsXDKrvKkKF9TnD2bmCfBCYhrI12QXSHudQKzIyOn+1OaOIksW/S7GWXzIx/046hMs0dxsR7rCaRtBxpliVBr69okfZO4jWqwsH/DtfHORGvsZJu4KJRi+N8KUDSQC7Xi+12W6qxnMokYKPSHaE4+PIPxxs92HIXtQqm+HR3t1LozElVOjOchJ2ZRj0iy9appCVA3ipfkgv7zDheb+Bp78fCufrH6qSP9EEiPx0OwJGaXt9fhtVg1UNY1aTKtJCtxqPUR8AH2jaGKRtmvdo2cpoS0iJ98I6FZmLa4fLn71diXdhKni22MtSnRt1VYUXQ8WY8GAJqjcIU1ZKA12DSn70X34KCwZK5gzhjDBd6FBKB9ulq6RWQSR3R0tUoksXQ3JpcxWY2n/waMSW39Gleasy4yNU1BwvL8ANcgaU66wbTSvE0/geeLpF7OO0pdflww5NK7lsuPxQNsFd8UF4qAHyPHWv8neQ2toogSmh3k3eoLOvGx8iImpmOYggkLsdyVBhuxIpTBg7fIcA3cveVYd1VVnVEkiOaOzqOyoeqxZ95KNM8f6kk61Ngf3U8O/80IIaBsyRajq6OKDBkxWdYFB9xRteWBfO5oG6K1sxUoaxNMxUX7fVx4RV9XuOvUHBQ/gamuAs8swDmhZl9lWXg+ZkrKmhQpktLstipAY3Q==\"/>\n",
      "    <input type=\"hidden\" value=\"deec758f75b91b297b30475da7f5de84\" id=\"jschl-vc\" name=\"jschl_vc\"/>\n",
      "    <!-- <input type=\"hidden\" value=\"\" id=\"jschl-vc\" name=\"jschl_vc\"/> -->\n",
      "    <input type=\"hidden\" name=\"pass\" value=\"1654858362.573-xik6RjkOZl\"/>\n",
      "    <input type=\"hidden\" id=\"jschl-answer\" name=\"jschl_answer\"/>\n",
      "  </form>\n",
      "       <script>\n",
      "      //<![CDATA[\n",
      "      (function(){\n",
      "          var a = document.getElementById('cf-content');\n",
      "          a.style.display = 'block';\n",
      "          var isIE = /(MSIE|Trident\\/|Edge\\/)/i.test(window.navigator.userAgent);\n",
      "          var trkjs = isIE ? new Image() : document.createElement('img');\n",
      "          trkjs.setAttribute(\"src\", \"/cdn-cgi/images/trace/jschal/js/transparent.gif?ray=71918f17ccb898bb\");\n",
      "          trkjs.id = \"trk_jschal_js\";\n",
      "          trkjs.setAttribute(\"alt\", \"\");\n",
      "          document.body.appendChild(trkjs);\n",
      "          var cpo=document.createElement('script');\n",
      "          cpo.type='text/javascript';\n",
      "          cpo.src=\"/cdn-cgi/challenge-platform/h/b/orchestrate/jsch/v1?ray=71918f17ccb898bb\";\n",
      "          \n",
      "          window._cf_chl_opt.cOgUHash = location.hash === '' && location.href.indexOf('#') !== -1 ? '#' : location.hash;\n",
      "          window._cf_chl_opt.cOgUQuery = location.search === '' && location.href.slice(0, -window._cf_chl_opt.cOgUHash.length).indexOf('?') !== -1 ? '?' : location.search;\n",
      "          if (window._cf_chl_opt.cUPMDTk && window.history && window.history.replaceState) {\n",
      "            var ogU = location.pathname + window._cf_chl_opt.cOgUQuery + window._cf_chl_opt.cOgUHash;\n",
      "            history.replaceState(null, null, \"\\/teach\\/documentation?__cf_chl_rt_tk=D2RqlwvptBKVS65JT2cNy5vlL8CI1hZICQ5oX5.eWUw-1654858361-0-gaNycGzNB_0\" + window._cf_chl_opt.cOgUHash);\n",
      "            cpo.onload = function() {\n",
      "              history.replaceState(null, null, ogU);\n",
      "            };\n",
      "          }\n",
      "          \n",
      "          document.getElementsByTagName('head')[0].appendChild(cpo);\n",
      "        }());\n",
      "      //]]>\n",
      "    </script>\n",
      "\n",
      "  \n",
      "  <div id=\"trk_jschal_nojs\" style=\"background-image:url('/cdn-cgi/images/trace/jschal/nojs/transparent.gif?ray=71918f17ccb898bb')\"> </div>\n",
      "</div>\n",
      "\n",
      "          \n",
      "          <div class=\"attribution\">\n",
      "            DDoS protection by <a rel=\"noopener noreferrer\" href=\"https://www.cloudflare.com/5xx-error-landing/\" target=\"_blank\">Cloudflare</a>\n",
      "            <br />\n",
      "            <span class=\"ray_id\">Ray ID: <code>71918f17ccb898bb</code></span>\n",
      "          </div>\n",
      "      </td>\n",
      "     \n",
      "    </tr>\n",
      "  </table>\n",
      "</body>\n",
      "</html>\n",
      "\n"
     ]
    }
   ],
   "source": [
    "    # Import package\n",
    "    import requests\n",
    "\n",
    "    # Specify the url: url\n",
    "    url = \"http://www.datacamp.com/teach/documentation\"\n",
    "\n",
    "    # Packages the request, send the request and catch the response: r\n",
    "    r = requests.get(url)\n",
    "\n",
    "    # Extract the response: text\n",
    "    text = r.text\n",
    "\n",
    "    # Print the html\n",
    "    print(text)"
   ]
  },
  {
   "cell_type": "markdown",
   "metadata": {},
   "source": [
    "### BEAUTIFUL SOUPPP, ne güzel şeysin sen öyle\n",
    "\n",
    "isim şurdan geliyor: syntactically veya structurally incorrect html'lere tag soup deniyomus. Bu abiler de 2004ten beri biz sizin icin düzeltiriz, structure ederizz diyolar.  \n",
    "Ve requestle dönen html kodunu okunaklı hale getiriyolar. Prettify, Title, body bilmem ne gibi türlü fonksiyonları var."
   ]
  },
  {
   "cell_type": "code",
   "execution_count": null,
   "metadata": {},
   "outputs": [],
   "source": [
    "# Import packages\n",
    "import requests\n",
    "from bs4 import BeautifulSoup\n",
    "\n",
    "# Specify url: url\n",
    "url = 'https://www.python.org/~guido/'\n",
    "\n",
    "# Package the request, send the request and catch the response: r\n",
    "r = requests.get(url)\n",
    "\n",
    "# Extracts the response as html: html_doc\n",
    "html_doc = r.text\n",
    "\n",
    "# Create a BeautifulSoup object from the HTML: soup\n",
    "soup = BeautifulSoup(html_doc)\n",
    "\n",
    "# Prettify the BeautifulSoup object: pretty_soup\n",
    "pretty_soup = soup.prettify()\n",
    "\n",
    "# Print the response\n",
    "print(pretty_soup)\n",
    "\n",
    "# Get the title of Guido's webpage: guido_title\n",
    "guido_title = soup.title\n",
    "\n",
    "# Get Guido's text: guido_text\n",
    "guido_text = soup.get_text()\n"
   ]
  },
  {
   "cell_type": "markdown",
   "metadata": {},
   "source": [
    "Use the method find_all() to find all hyperlinks in soup, remembering that hyperlinks are defined by the HTML tag <a> (yavuz ekleme: </a>) but passed to find_all() without angle brackets; store the result in the variable a_tags."
   ]
  },
  {
   "cell_type": "code",
   "execution_count": null,
   "metadata": {},
   "outputs": [],
   "source": [
    "# Find all 'a' tags (which define hyperlinks): a_tags\n",
    "a_tags = soup.find_all('a')\n",
    "\n",
    "# Print the URLs to the shell\n",
    "for link in a_tags:\n",
    "    print(link.get('href'))"
   ]
  },
  {
   "cell_type": "markdown",
   "metadata": {},
   "source": [
    "BABA SLASH KOYARAK HALLEDEBILIYOSUN HTML API REQUEST ARGUMENTLARINI YA\n",
    "\n",
    "Now it's your turn to pull some movie data down from the Open Movie Database (OMDB) using their API. The movie you'll query the API about is The Social Network. Recall that, in the video, to query the API about the movie Hackers, Hugo's query string was 'http://www.omdbapi.com/?t=hackers' and had a single argument t=hackers.\n",
    "\n",
    "Note: recently, OMDB has changed their API: you now also have to specify an API key. This means you'll have to add another argument to the URL: apikey=72bc447a."
   ]
  },
  {
   "cell_type": "code",
   "execution_count": null,
   "metadata": {},
   "outputs": [],
   "source": [
    "# Import requests package\n",
    "import requests\n",
    "\n",
    "# Assign URL to variable: url\n",
    "url = 'http://www.omdbapi.com/?apikey=72bc447a&t=the+social+network'\n",
    "\n",
    "# Package the request, send the request and catch the response: r\n",
    "r = requests.get(url)\n",
    "\n",
    "# Print the text of the response\n",
    "print(r.text)"
   ]
  },
  {
   "cell_type": "code",
   "execution_count": null,
   "metadata": {},
   "outputs": [],
   "source": [
    "# Import package\n",
    "import requests\n",
    "\n",
    "# Assign URL to variable: url\n",
    "url = 'http://www.omdbapi.com/?apikey=72bc447a&t=social+network'\n",
    "\n",
    "# Package the request, send the request and catch the response: r\n",
    "r = requests.get(url)\n",
    "\n",
    "# Decode the JSON data into a dictionary: json_data\n",
    "json_data = r.json()\n",
    "\n",
    "# Print each key-value pair in json_data\n",
    "for k in json_data.keys():\n",
    "    print(k + ': ', json_data[k])\n"
   ]
  },
  {
   "cell_type": "code",
   "execution_count": null,
   "metadata": {},
   "outputs": [],
   "source": [
    "# Import package\n",
    "import json\n",
    "\n",
    "# String of path to file: tweets_data_path\n",
    "tweets_data_path = 'tweets.txt'\n",
    "\n",
    "# Initialize empty list to store tweets: tweets_data\n",
    "tweets_data = []\n",
    "\n",
    "# Open connection to file\n",
    "tweets_file = open(tweets_data_path, \"r\")\n",
    "\n",
    "# Read in tweets and store in list: tweets_data\n",
    "for line in tweets_file:\n",
    "    tweet = json.loads(line)\n",
    "    tweets_data.append(tweet)\n",
    "\n",
    "# Close connection to file\n",
    "tweets_file.close()\n",
    "\n",
    "# Print the keys of the first tweet dict\n",
    "print(tweets_data[0].keys())\n"
   ]
  },
  {
   "cell_type": "markdown",
   "metadata": {},
   "source": [
    "### DATA CLEANING"
   ]
  },
  {
   "cell_type": "code",
   "execution_count": null,
   "metadata": {},
   "outputs": [],
   "source": [
    "# Convert user_type from integer to category\n",
    "ride_sharing['user_type_cat'] = ride_sharing['user_type'].astype('category')\n",
    "\n",
    "# Write an assert statement confirming the change\n",
    "assert ride_sharing['user_type_cat'].dtype == 'category'"
   ]
  },
  {
   "cell_type": "markdown",
   "metadata": {},
   "source": [
    "### STRIPPPPPPP\n",
    "very effective  "
   ]
  },
  {
   "cell_type": "code",
   "execution_count": null,
   "metadata": {},
   "outputs": [],
   "source": [
    "# Remove $ from Revenue column\n",
    "sales['Revenue'] = sales['Revenue'].str.strip('$')\n",
    "sales['Revenue'] = sales['Revenue'].astype('int')\n",
    "assert sales['Revenue'].dtype == 'int'"
   ]
  },
  {
   "cell_type": "code",
   "execution_count": null,
   "metadata": {},
   "outputs": [],
   "source": [
    "# Strip duration of minutes\n",
    "ride_sharing['duration_trim'] = ride_sharing['duration'].str.strip('minutes')\n",
    "\n",
    "# Convert duration to integer\n",
    "ride_sharing['duration_time'] = ride_sharing['duration_trim'].astype(int)\n",
    "\n",
    "# Write an assert statement making sure of conversion\n",
    "assert ride_sharing['duration_time'].dtype == 'int'\n",
    "\n",
    "# Print formed columns and calculate average ride duration \n",
    "print(ride_sharing[['duration','duration_trim','duration_time']])\n",
    "print(ride_sharing['duration_time'].mean())"
   ]
  },
  {
   "cell_type": "code",
   "execution_count": null,
   "metadata": {},
   "outputs": [],
   "source": [
    "# Convert ride_date to date\n",
    "ride_sharing['ride_dt'] = pd.to_datetime(ride_sharing['ride_date']).dt.date\n",
    "\n",
    "# Save today's date\n",
    "today = dt.date.today()\n",
    "\n",
    "# Set all in the future to today's date\n",
    "ride_sharing.loc[ride_sharing['ride_dt'] > today, 'ride_dt'] = today\n",
    "\n",
    "# Print maximum of ride_dt column\n",
    "print(ride_sharing['ride_dt'].max())"
   ]
  },
  {
   "cell_type": "code",
   "execution_count": null,
   "metadata": {},
   "outputs": [],
   "source": [
    "# Find duplicates\n",
    "duplicates = ride_sharing.duplicated(subset = ['ride_id'], keep = False)\n",
    "\n",
    "# Sort your duplicated rides\n",
    "duplicated_rides = ride_sharing[duplicates].sort_values('ride_id')\n",
    "\n",
    "# Print relevant columns of duplicated_rides\n",
    "print(duplicated_rides[['ride_id','duration','user_birth_year']])"
   ]
  },
  {
   "cell_type": "code",
   "execution_count": 3,
   "metadata": {},
   "outputs": [
    {
     "data": {
      "text/plain": [
       "{'user_birth_year': 'min', 'duration': 'mean'}"
      ]
     },
     "execution_count": 3,
     "metadata": {},
     "output_type": "execute_result"
    }
   ],
   "source": [
    "# Drop complete duplicates from ride_sharing\n",
    "ride_dup = ride_sharing.drop_duplicates()\n",
    "\n",
    "# Create statistics dictionary for aggregation function\n",
    "statistics = {'user_birth_year': 'min', 'duration': 'mean'}\n",
    "\n",
    "# Group by ride_id and compute new statistics\n",
    "ride_unique = ride_dup.groupby('ride_id').agg(statistics).reset_index()\n",
    "\n",
    "# Find duplicated values again\n",
    "duplicates = ride_unique.duplicated(subset = 'ride_id', keep = False)\n",
    "duplicated_rides = ride_unique[duplicates == True]\n",
    "\n",
    "# Assert duplicates are processed\n",
    "assert duplicated_rides.shape[0] == 0"
   ]
  },
  {
   "cell_type": "markdown",
   "metadata": {},
   "source": [
    "Categorical datalarda membership constrainti diye bi tabir var. Finite set of values olmasi hali, gpa harf olamaz, ayin hangi gunu degerleri bellidir vs"
   ]
  },
  {
   "cell_type": "code",
   "execution_count": null,
   "metadata": {},
   "outputs": [],
   "source": [
    "# Find the cleanliness category in airlines not in categories\n",
    "cat_clean = set(airlines['cleanliness']).difference(categories['cleanliness'])\n",
    "\n",
    "# Find rows with that category\n",
    "cat_clean_rows = airlines['cleanliness'].isin(cat_clean)\n",
    "\n",
    "# Print rows with inconsistent category\n",
    "print(airlines[cat_clean_rows])\n",
    "\n",
    "# Print rows with consistent categories only\n",
    "print(airlines[~cat_clean_rows])"
   ]
  },
  {
   "cell_type": "markdown",
   "metadata": {},
   "source": [
    "### MAPPING ICIN REPLACE FONKSIYONUUUUU, DICTIONARY ILE ALIYOR"
   ]
  },
  {
   "cell_type": "code",
   "execution_count": null,
   "metadata": {},
   "outputs": [],
   "source": [
    "# Lower dest_region column and then replace \"eur\" with \"europe\"\n",
    "airlines['dest_region'] = airlines['dest_region'].str.lower() \n",
    "airlines['dest_region'] = airlines['dest_region'].replace({'eur':'europe'})\n",
    "\n",
    "# Remove white spaces from `dest_size`\n",
    "airlines['dest_size'] = airlines['dest_size'].str.strip()"
   ]
  },
  {
   "cell_type": "code",
   "execution_count": null,
   "metadata": {},
   "outputs": [],
   "source": [
    "# Create ranges for categories\n",
    "label_ranges = [0, 60, 180, np.inf]\n",
    "label_names = ['short', 'medium', 'long']\n",
    "\n",
    "# Create wait_type column\n",
    "airlines['wait_type'] = pd.cut(airlines['wait_min'], bins = label_ranges, \n",
    "                                labels = label_names)\n",
    "\n",
    "# Create mappings and replace\n",
    "mappings = {'Monday':'weekday', 'Tuesday':'weekday', 'Wednesday': 'weekday', \n",
    "            'Thursday': 'weekday', 'Friday': 'weekday', \n",
    "            'Saturday': 'weekend', 'Sunday': 'weekend'}\n",
    "\n",
    "airlines['day_week'] = airlines['day'].replace(mappings)"
   ]
  },
  {
   "cell_type": "markdown",
   "metadata": {},
   "source": [
    "TEXT & STRING DUZELTME"
   ]
  },
  {
   "cell_type": "markdown",
   "metadata": {},
   "source": [
    "bu ne la bunun listeyle, multi yapılan hali yok mu"
   ]
  },
  {
   "cell_type": "code",
   "execution_count": null,
   "metadata": {},
   "outputs": [],
   "source": [
    "# Replace \"Dr.\" with empty string \"\"\n",
    "airlines['full_name'] = airlines['full_name'].str.replace(\"Dr.\",\"\")\n",
    "\n",
    "# Replace \"Mr.\" with empty string \"\"\n",
    "airlines['full_name'] = airlines['full_name'].str.replace(\"Mr.\",\"\")\n",
    "\n",
    "# Replace \"Miss\" with empty string \"\"\n",
    "airlines['full_name'] = airlines['full_name'].str.replace(\"Miss\",\"\")\n",
    "\n",
    "# Replace \"Ms.\" with empty string \"\"\n",
    "airlines['full_name'] = airlines['full_name'].str.replace(\"Ms.\",\"\")\n",
    "\n",
    "# Assert that full_name has no honorifics\n",
    "assert airlines['full_name'].str.contains('Ms.|Mr.|Miss|Dr.').any() == False\n"
   ]
  },
  {
   "cell_type": "code",
   "execution_count": null,
   "metadata": {},
   "outputs": [],
   "source": [
    "phones[\"Phone number\"] = phones[\"Phone number\"].str.replace(\"+\", \"00\")\n",
    "\n",
    "digits = phones['Phone number'].str.len()\n",
    "phones.loc[digits < 10, \"Phone number\"] = np.nan\n",
    "\n",
    "# Replace letters with nothing\n",
    "phones['Phone number'] = phones['Phone number'].str.replace(r'\\D+', '')\n"
   ]
  },
  {
   "cell_type": "code",
   "execution_count": null,
   "metadata": {},
   "outputs": [],
   "source": [
    "# Find values of acct_cur that are equal to 'euro'\n",
    "acct_eu = banking['acct_cur'] == 'euro'\n",
    "\n",
    "# Convert acct_amount where it is in euro to dollars\n",
    "banking.loc[acct_eu, 'acct_amount'] = banking.loc[acct_eu, 'acct_amount'] * 1.1\n",
    "\n",
    "# Unify acct_cur column by changing 'euro' values to 'dollar'\n",
    "banking.loc[acct_eu, 'acct_cur'] = 'dollar'\n",
    "\n",
    "# Assert that only dollar currency remains\n",
    "assert banking['acct_cur'].unique() == 'dollar'"
   ]
  },
  {
   "cell_type": "code",
   "execution_count": null,
   "metadata": {},
   "outputs": [],
   "source": [
    "# Print the header of account_opend\n",
    "print(banking['account_opened'].head())\n",
    "\n",
    "# Convert account_opened to datetime\n",
    "banking['account_opened'] = pd.to_datetime(banking['account_opened'],\n",
    "                                           # Infer datetime format\n",
    "                                           infer_datetime_format = True,\n",
    "                                           # Return missing value for error\n",
    "                                           errors = 'coerce') \n",
    "\n",
    "# Get year of account opened\n",
    "banking['acct_year'] = banking['account_opened'].dt.strftime('%Y')\n",
    "\n",
    "# Print acct_year\n",
    "print(banking['acct_year'])\n"
   ]
  },
  {
   "cell_type": "markdown",
   "metadata": {},
   "source": [
    "## DT.YEAR NE GUZEL BISIIIIIIIIIIIIIIIIIIIIIIIIIIIIII\n"
   ]
  },
  {
   "cell_type": "code",
   "execution_count": null,
   "metadata": {},
   "outputs": [],
   "source": [
    "# Store today's date and find ages\n",
    "today = dt.date.today()\n",
    "ages_manual = today.year - banking['birth_date'].dt.year"
   ]
  },
  {
   "cell_type": "markdown",
   "metadata": {},
   "source": [
    "## MISSING VALUES, RANDOMNESS\n",
    "\n",
    "burda güzel şeyler anlattı. Belli NA'lar ortak bir sebepten kaynaklanıyo olabilir, random olmayabilirler. Sistematik bakmaya calis. Bunun icin de column Na'lığını plotlayan güzel bi metod var. "
   ]
  },
  {
   "cell_type": "code",
   "execution_count": null,
   "metadata": {},
   "outputs": [],
   "source": [
    "# Print number of missing values in banking\n",
    "print(banking.isna().sum())\n",
    "\n",
    "# Visualize missingness matrix\n",
    "msno.matrix(banking)\n",
    "plt.show()\n",
    "\n",
    "# Isolate missing and non missing values of inv_amount\n",
    "missing_investors = banking[banking['inv_amount'].isna()]\n",
    "investors = banking[~banking['inv_amount'].isna()]\n",
    "\n",
    "# Sort banking by age and visualize\n",
    "banking_sorted = banking.sort_values(by ='age')\n",
    "msno.matrix(banking_sorted)\n",
    "plt.show()"
   ]
  },
  {
   "cell_type": "markdown",
   "metadata": {},
   "source": [
    "FILLNA(), bakar mısın suna ya dışardan array alıyor. Fonksiyon alsaydı?"
   ]
  },
  {
   "cell_type": "code",
   "execution_count": null,
   "metadata": {},
   "outputs": [],
   "source": [
    "# Drop missing values of cust_id\n",
    "banking_fullid = banking.dropna(subset = ['cust_id'])\n",
    "\n",
    "# Compute estimated acct_amount\n",
    "acct_imp = banking_fullid['inv_amount'] * 5\n",
    "\n",
    "# Impute missing acct_amount with corresponding acct_imp\n",
    "banking_imputed = banking_fullid.fillna({'acct_amount':acct_imp})\n",
    "\n",
    "# Print number of missing values\n",
    "print(banking_imputed.isna().sum())"
   ]
  },
  {
   "cell_type": "code",
   "execution_count": 4,
   "metadata": {},
   "outputs": [
    {
     "data": {
      "text/html": [
       "<div>\n",
       "<style scoped>\n",
       "    .dataframe tbody tr th:only-of-type {\n",
       "        vertical-align: middle;\n",
       "    }\n",
       "\n",
       "    .dataframe tbody tr th {\n",
       "        vertical-align: top;\n",
       "    }\n",
       "\n",
       "    .dataframe thead th {\n",
       "        text-align: right;\n",
       "    }\n",
       "</style>\n",
       "<table border=\"1\" class=\"dataframe\">\n",
       "  <thead>\n",
       "    <tr style=\"text-align: right;\">\n",
       "      <th></th>\n",
       "      <th>P</th>\n",
       "      <th>Q</th>\n",
       "      <th>R</th>\n",
       "      <th>S</th>\n",
       "    </tr>\n",
       "  </thead>\n",
       "  <tbody>\n",
       "    <tr>\n",
       "      <th>0</th>\n",
       "      <td>NaN</td>\n",
       "      <td>2.0</td>\n",
       "      <td>NaN</td>\n",
       "      <td>0</td>\n",
       "    </tr>\n",
       "    <tr>\n",
       "      <th>1</th>\n",
       "      <td>3.0</td>\n",
       "      <td>4.0</td>\n",
       "      <td>NaN</td>\n",
       "      <td>1</td>\n",
       "    </tr>\n",
       "    <tr>\n",
       "      <th>2</th>\n",
       "      <td>5.0</td>\n",
       "      <td>NaN</td>\n",
       "      <td>NaN</td>\n",
       "      <td>6</td>\n",
       "    </tr>\n",
       "    <tr>\n",
       "      <th>3</th>\n",
       "      <td>NaN</td>\n",
       "      <td>4.0</td>\n",
       "      <td>NaN</td>\n",
       "      <td>5</td>\n",
       "    </tr>\n",
       "  </tbody>\n",
       "</table>\n",
       "</div>"
      ],
      "text/plain": [
       "     P    Q   R  S\n",
       "0  NaN  2.0 NaN  0\n",
       "1  3.0  4.0 NaN  1\n",
       "2  5.0  NaN NaN  6\n",
       "3  NaN  4.0 NaN  5"
      ]
     },
     "execution_count": 4,
     "metadata": {},
     "output_type": "execute_result"
    }
   ],
   "source": [
    "import numpy as np\n",
    "import pandas as pd\n",
    "df = pd.DataFrame([[np.nan, 2, np.nan, 0],\n",
    "                   [3, 4, np.nan, 1],\n",
    "                   [5, np.nan, np.nan, 6],\n",
    "                   [np.nan, 4, np.nan, 5]],\n",
    "                 columns=list('PQRS'))\n",
    "df"
   ]
  },
  {
   "cell_type": "code",
   "execution_count": 5,
   "metadata": {},
   "outputs": [
    {
     "data": {
      "text/html": [
       "<div>\n",
       "<style scoped>\n",
       "    .dataframe tbody tr th:only-of-type {\n",
       "        vertical-align: middle;\n",
       "    }\n",
       "\n",
       "    .dataframe tbody tr th {\n",
       "        vertical-align: top;\n",
       "    }\n",
       "\n",
       "    .dataframe thead th {\n",
       "        text-align: right;\n",
       "    }\n",
       "</style>\n",
       "<table border=\"1\" class=\"dataframe\">\n",
       "  <thead>\n",
       "    <tr style=\"text-align: right;\">\n",
       "      <th></th>\n",
       "      <th>P</th>\n",
       "      <th>Q</th>\n",
       "      <th>R</th>\n",
       "      <th>S</th>\n",
       "    </tr>\n",
       "  </thead>\n",
       "  <tbody>\n",
       "    <tr>\n",
       "      <th>0</th>\n",
       "      <td>0.0</td>\n",
       "      <td>2.0</td>\n",
       "      <td>0.0</td>\n",
       "      <td>0</td>\n",
       "    </tr>\n",
       "    <tr>\n",
       "      <th>1</th>\n",
       "      <td>3.0</td>\n",
       "      <td>4.0</td>\n",
       "      <td>0.0</td>\n",
       "      <td>1</td>\n",
       "    </tr>\n",
       "    <tr>\n",
       "      <th>2</th>\n",
       "      <td>5.0</td>\n",
       "      <td>0.0</td>\n",
       "      <td>0.0</td>\n",
       "      <td>6</td>\n",
       "    </tr>\n",
       "    <tr>\n",
       "      <th>3</th>\n",
       "      <td>0.0</td>\n",
       "      <td>4.0</td>\n",
       "      <td>0.0</td>\n",
       "      <td>5</td>\n",
       "    </tr>\n",
       "  </tbody>\n",
       "</table>\n",
       "</div>"
      ],
      "text/plain": [
       "     P    Q    R  S\n",
       "0  0.0  2.0  0.0  0\n",
       "1  3.0  4.0  0.0  1\n",
       "2  5.0  0.0  0.0  6\n",
       "3  0.0  4.0  0.0  5"
      ]
     },
     "execution_count": 5,
     "metadata": {},
     "output_type": "execute_result"
    }
   ],
   "source": [
    "df.fillna(0)"
   ]
  },
  {
   "cell_type": "code",
   "execution_count": 6,
   "metadata": {},
   "outputs": [
    {
     "data": {
      "text/html": [
       "<div>\n",
       "<style scoped>\n",
       "    .dataframe tbody tr th:only-of-type {\n",
       "        vertical-align: middle;\n",
       "    }\n",
       "\n",
       "    .dataframe tbody tr th {\n",
       "        vertical-align: top;\n",
       "    }\n",
       "\n",
       "    .dataframe thead th {\n",
       "        text-align: right;\n",
       "    }\n",
       "</style>\n",
       "<table border=\"1\" class=\"dataframe\">\n",
       "  <thead>\n",
       "    <tr style=\"text-align: right;\">\n",
       "      <th></th>\n",
       "      <th>P</th>\n",
       "      <th>Q</th>\n",
       "      <th>R</th>\n",
       "      <th>S</th>\n",
       "    </tr>\n",
       "  </thead>\n",
       "  <tbody>\n",
       "    <tr>\n",
       "      <th>0</th>\n",
       "      <td>NaN</td>\n",
       "      <td>2.0</td>\n",
       "      <td>NaN</td>\n",
       "      <td>0</td>\n",
       "    </tr>\n",
       "    <tr>\n",
       "      <th>1</th>\n",
       "      <td>3.0</td>\n",
       "      <td>4.0</td>\n",
       "      <td>NaN</td>\n",
       "      <td>1</td>\n",
       "    </tr>\n",
       "    <tr>\n",
       "      <th>2</th>\n",
       "      <td>5.0</td>\n",
       "      <td>4.0</td>\n",
       "      <td>NaN</td>\n",
       "      <td>6</td>\n",
       "    </tr>\n",
       "    <tr>\n",
       "      <th>3</th>\n",
       "      <td>5.0</td>\n",
       "      <td>4.0</td>\n",
       "      <td>NaN</td>\n",
       "      <td>5</td>\n",
       "    </tr>\n",
       "  </tbody>\n",
       "</table>\n",
       "</div>"
      ],
      "text/plain": [
       "     P    Q   R  S\n",
       "0  NaN  2.0 NaN  0\n",
       "1  3.0  4.0 NaN  1\n",
       "2  5.0  4.0 NaN  6\n",
       "3  5.0  4.0 NaN  5"
      ]
     },
     "execution_count": 6,
     "metadata": {},
     "output_type": "execute_result"
    }
   ],
   "source": [
    "df.fillna(method='ffill')"
   ]
  },
  {
   "cell_type": "code",
   "execution_count": 7,
   "metadata": {},
   "outputs": [
    {
     "data": {
      "text/html": [
       "<div>\n",
       "<style scoped>\n",
       "    .dataframe tbody tr th:only-of-type {\n",
       "        vertical-align: middle;\n",
       "    }\n",
       "\n",
       "    .dataframe tbody tr th {\n",
       "        vertical-align: top;\n",
       "    }\n",
       "\n",
       "    .dataframe thead th {\n",
       "        text-align: right;\n",
       "    }\n",
       "</style>\n",
       "<table border=\"1\" class=\"dataframe\">\n",
       "  <thead>\n",
       "    <tr style=\"text-align: right;\">\n",
       "      <th></th>\n",
       "      <th>P</th>\n",
       "      <th>Q</th>\n",
       "      <th>R</th>\n",
       "      <th>S</th>\n",
       "    </tr>\n",
       "  </thead>\n",
       "  <tbody>\n",
       "    <tr>\n",
       "      <th>0</th>\n",
       "      <td>0.0</td>\n",
       "      <td>2.0</td>\n",
       "      <td>2.0</td>\n",
       "      <td>0</td>\n",
       "    </tr>\n",
       "    <tr>\n",
       "      <th>1</th>\n",
       "      <td>3.0</td>\n",
       "      <td>4.0</td>\n",
       "      <td>2.0</td>\n",
       "      <td>1</td>\n",
       "    </tr>\n",
       "    <tr>\n",
       "      <th>2</th>\n",
       "      <td>5.0</td>\n",
       "      <td>1.0</td>\n",
       "      <td>2.0</td>\n",
       "      <td>6</td>\n",
       "    </tr>\n",
       "    <tr>\n",
       "      <th>3</th>\n",
       "      <td>0.0</td>\n",
       "      <td>4.0</td>\n",
       "      <td>2.0</td>\n",
       "      <td>5</td>\n",
       "    </tr>\n",
       "  </tbody>\n",
       "</table>\n",
       "</div>"
      ],
      "text/plain": [
       "     P    Q    R  S\n",
       "0  0.0  2.0  2.0  0\n",
       "1  3.0  4.0  2.0  1\n",
       "2  5.0  1.0  2.0  6\n",
       "3  0.0  4.0  2.0  5"
      ]
     },
     "execution_count": 7,
     "metadata": {},
     "output_type": "execute_result"
    }
   ],
   "source": [
    "values = {'P': 0, 'Q': 1, 'R': 2, 'S': 3}\n",
    "df.fillna(value=values)"
   ]
  },
  {
   "cell_type": "markdown",
   "metadata": {},
   "source": [
    "### MINIMUM EDIT DISTANCE\n",
    "Insertion of a new character.  \n",
    "Deletion of an existing character.  \n",
    "Substitution of an existing character.  \n",
    "Transposition of two existing consecutive characters.  "
   ]
  },
  {
   "cell_type": "code",
   "execution_count": null,
   "metadata": {},
   "outputs": [],
   "source": [
    "# Create a list of matches, comparing 'italian' with the cuisine_type column\n",
    "matches = process.extract('italian', restaurants['cuisine_type'], limit=len(restaurants.cuisine_type))\n",
    "\n",
    "# Iterate through the list of matches to italian\n",
    "for match in matches:\n",
    "  # Check whether the similarity score is greater than or equal to 80\n",
    "  if match[1] >= 80:\n",
    "    # Select all rows where the cuisine_type is spelled this way, and set them to the correct cuisine\n",
    "    restaurants.loc[restaurants['cuisine_type'] == match[0], 'cuisine_type'] = 'italian'"
   ]
  },
  {
   "cell_type": "markdown",
   "metadata": {},
   "source": [
    "### Record Linkage"
   ]
  },
  {
   "cell_type": "code",
   "execution_count": null,
   "metadata": {},
   "outputs": [],
   "source": [
    "# Iterate through categories\n",
    "for cuisine in categories:  \n",
    "  # Create a list of matches, comparing cuisine with the cuisine_type column\n",
    "  matches = process.extract(cuisine, restaurants['cuisine_type'], limit=len(restaurants.cuisine_type))\n",
    "\n",
    "  # Iterate through the list of matches\n",
    "  for match in matches:\n",
    "     # Check whether the similarity score is greater than or equal to 80\n",
    "    if match[1] >= 80:\n",
    "      # If it is, select all rows where the cuisine_type is spelled this way, and set them to the correct cuisine\n",
    "      restaurants.loc[restaurants['cuisine_type'] == match[0]] = cuisine\n",
    "      \n",
    "# Inspect the final result\n",
    "print(restaurants['cuisine_type'].unique())"
   ]
  },
  {
   "cell_type": "code",
   "execution_count": null,
   "metadata": {},
   "outputs": [],
   "source": [
    "# Create an indexer and object and find possible pairs\n",
    "indexer = recordlinkage.Index()\n",
    "\n",
    "# Block pairing on cuisine_type\n",
    "indexer.block('cuisine_type')\n",
    "\n",
    "# Generate pairs\n",
    "pairs = indexer.index(restaurants, restaurants_new)"
   ]
  },
  {
   "cell_type": "code",
   "execution_count": null,
   "metadata": {},
   "outputs": [],
   "source": [
    "# Create a comparison object\n",
    "comp_cl = recordlinkage.Compare()\n",
    "\n",
    "# Find exact matches on city, cuisine_types - \n",
    "comp_cl.exact('city', 'city', label='city')\n",
    "comp_cl.exact('cuisine_type', 'cuisine_type', label='cuisine_type')\n",
    "\n",
    "# Find similar matches of rest_name\n",
    "comp_cl.string('rest_name', 'rest_name', label='name', threshold = 0.8) \n",
    "\n",
    "# Get potential matches and print\n",
    "potential_matches = comp_cl.compute(pairs, restaurants, restaurants_new)\n",
    "print(potential_matches)"
   ]
  },
  {
   "cell_type": "markdown",
   "metadata": {},
   "source": [
    "Multi Index "
   ]
  },
  {
   "cell_type": "code",
   "execution_count": null,
   "metadata": {},
   "outputs": [],
   "source": [
    "# Isolate potential matches with row sum >=3\n",
    "matches = potential_matches[potential_matches.sum(axis=1) >= 3]\n",
    "\n",
    "# Get values of second column index of matches\n",
    "matching_indices = matches.index.get_level_values(1)\n",
    "\n",
    "# Subset restaurants_new based on non-duplicate values\n",
    "non_dup = restaurants_new[~restaurants_new.index.isin(matching_indices)]\n",
    "\n",
    "# Append non_dup to restaurants\n",
    "full_restaurants = restaurants.append(non_dup)\n",
    "print(full_restaurants)"
   ]
  },
  {
   "cell_type": "markdown",
   "metadata": {},
   "source": [
    "GENERATOR OBJECT"
   ]
  },
  {
   "cell_type": "code",
   "execution_count": null,
   "metadata": {},
   "outputs": [],
   "source": [
    "lst = ['numpy', 'pandas', 'requests']\n",
    "\n",
    "lst_gen = (pkg for pkg in lst)\n",
    "\n",
    "next(lst_gen)"
   ]
  },
  {
   "cell_type": "code",
   "execution_count": 8,
   "metadata": {},
   "outputs": [
    {
     "data": {
      "text/plain": [
       "'returns n!'"
      ]
     },
     "execution_count": 8,
     "metadata": {},
     "output_type": "execute_result"
    }
   ],
   "source": [
    "def factorial(n):\n",
    "    \"\"\"returns n!\"\"\"\n",
    "    return 1 if n < 2 else n * factorial(n-1)\n",
    "\n",
    "factorial.__doc__"
   ]
  },
  {
   "cell_type": "code",
   "execution_count": 1,
   "metadata": {},
   "outputs": [
    {
     "data": {
      "text/plain": [
       "'c:\\\\Users\\\\e580\\\\Desktop\\\\python\\\\test and learn'"
      ]
     },
     "execution_count": 1,
     "metadata": {},
     "output_type": "execute_result"
    }
   ],
   "source": [
    "import os\n",
    "os.getcwd()"
   ]
  },
  {
   "cell_type": "code",
   "execution_count": 2,
   "metadata": {},
   "outputs": [],
   "source": [
    "import pandas as pd\n",
    "df = pd.read_csv('c:\\\\Users\\\\e580\\\\Desktop\\\\binnazdwh_pg_temp_2_fallar_pivot_2.csv')"
   ]
  },
  {
   "cell_type": "code",
   "execution_count": 3,
   "metadata": {},
   "outputs": [
    {
     "data": {
      "text/html": [
       "<div>\n",
       "<style scoped>\n",
       "    .dataframe tbody tr th:only-of-type {\n",
       "        vertical-align: middle;\n",
       "    }\n",
       "\n",
       "    .dataframe tbody tr th {\n",
       "        vertical-align: top;\n",
       "    }\n",
       "\n",
       "    .dataframe thead th {\n",
       "        text-align: right;\n",
       "    }\n",
       "</style>\n",
       "<table border=\"1\" class=\"dataframe\">\n",
       "  <thead>\n",
       "    <tr style=\"text-align: right;\">\n",
       "      <th></th>\n",
       "      <th>yil_ay</th>\n",
       "      <th>pid</th>\n",
       "      <th>tablename</th>\n",
       "      <th>baktirdigi_fal_sayisi</th>\n",
       "    </tr>\n",
       "  </thead>\n",
       "  <tbody>\n",
       "    <tr>\n",
       "      <th>0</th>\n",
       "      <td>202201</td>\n",
       "      <td>1998405</td>\n",
       "      <td>live</td>\n",
       "      <td>9</td>\n",
       "    </tr>\n",
       "    <tr>\n",
       "      <th>1</th>\n",
       "      <td>202201</td>\n",
       "      <td>1808771</td>\n",
       "      <td>kahve</td>\n",
       "      <td>10</td>\n",
       "    </tr>\n",
       "    <tr>\n",
       "      <th>2</th>\n",
       "      <td>202201</td>\n",
       "      <td>13562</td>\n",
       "      <td>tarot</td>\n",
       "      <td>58</td>\n",
       "    </tr>\n",
       "    <tr>\n",
       "      <th>3</th>\n",
       "      <td>202201</td>\n",
       "      <td>394098</td>\n",
       "      <td>tarot</td>\n",
       "      <td>9</td>\n",
       "    </tr>\n",
       "    <tr>\n",
       "      <th>4</th>\n",
       "      <td>202201</td>\n",
       "      <td>566289</td>\n",
       "      <td>katina</td>\n",
       "      <td>4</td>\n",
       "    </tr>\n",
       "  </tbody>\n",
       "</table>\n",
       "</div>"
      ],
      "text/plain": [
       "   yil_ay      pid tablename  baktirdigi_fal_sayisi\n",
       "0  202201  1998405      live                      9\n",
       "1  202201  1808771     kahve                     10\n",
       "2  202201    13562     tarot                     58\n",
       "3  202201   394098     tarot                      9\n",
       "4  202201   566289    katina                      4"
      ]
     },
     "execution_count": 3,
     "metadata": {},
     "output_type": "execute_result"
    }
   ],
   "source": [
    "df.head()"
   ]
  },
  {
   "cell_type": "code",
   "execution_count": 4,
   "metadata": {},
   "outputs": [],
   "source": [
    "df = df.sort_values(by=['baktirdigi_fal_sayisi'], ascending=False)"
   ]
  },
  {
   "cell_type": "code",
   "execution_count": 5,
   "metadata": {},
   "outputs": [
    {
     "data": {
      "text/html": [
       "<div>\n",
       "<style scoped>\n",
       "    .dataframe tbody tr th:only-of-type {\n",
       "        vertical-align: middle;\n",
       "    }\n",
       "\n",
       "    .dataframe tbody tr th {\n",
       "        vertical-align: top;\n",
       "    }\n",
       "\n",
       "    .dataframe thead th {\n",
       "        text-align: right;\n",
       "    }\n",
       "</style>\n",
       "<table border=\"1\" class=\"dataframe\">\n",
       "  <thead>\n",
       "    <tr style=\"text-align: right;\">\n",
       "      <th></th>\n",
       "      <th>yil_ay</th>\n",
       "      <th>pid</th>\n",
       "      <th>tablename</th>\n",
       "      <th>baktirdigi_fal_sayisi</th>\n",
       "      <th>Birlesik</th>\n",
       "    </tr>\n",
       "  </thead>\n",
       "  <tbody>\n",
       "    <tr>\n",
       "      <th>7273</th>\n",
       "      <td>202205</td>\n",
       "      <td>1964744</td>\n",
       "      <td>live</td>\n",
       "      <td>156</td>\n",
       "      <td>live-156 |</td>\n",
       "    </tr>\n",
       "    <tr>\n",
       "      <th>2434</th>\n",
       "      <td>202204</td>\n",
       "      <td>1908943</td>\n",
       "      <td>live</td>\n",
       "      <td>127</td>\n",
       "      <td>live-127 |</td>\n",
       "    </tr>\n",
       "    <tr>\n",
       "      <th>8174</th>\n",
       "      <td>202205</td>\n",
       "      <td>173516</td>\n",
       "      <td>durugoru</td>\n",
       "      <td>122</td>\n",
       "      <td>durugoru-122 |</td>\n",
       "    </tr>\n",
       "    <tr>\n",
       "      <th>22</th>\n",
       "      <td>202203</td>\n",
       "      <td>1964744</td>\n",
       "      <td>live</td>\n",
       "      <td>121</td>\n",
       "      <td>live-121 |</td>\n",
       "    </tr>\n",
       "    <tr>\n",
       "      <th>7174</th>\n",
       "      <td>202204</td>\n",
       "      <td>1964744</td>\n",
       "      <td>live</td>\n",
       "      <td>116</td>\n",
       "      <td>live-116 |</td>\n",
       "    </tr>\n",
       "  </tbody>\n",
       "</table>\n",
       "</div>"
      ],
      "text/plain": [
       "      yil_ay      pid tablename  baktirdigi_fal_sayisi         Birlesik\n",
       "7273  202205  1964744      live                    156      live-156 | \n",
       "2434  202204  1908943      live                    127      live-127 | \n",
       "8174  202205   173516  durugoru                    122  durugoru-122 | \n",
       "22    202203  1964744      live                    121      live-121 | \n",
       "7174  202204  1964744      live                    116      live-116 | "
      ]
     },
     "execution_count": 5,
     "metadata": {},
     "output_type": "execute_result"
    }
   ],
   "source": [
    "df['Birlesik'] = df['tablename'].map(str) + '-' + df['baktirdigi_fal_sayisi'].map(str) + ' | '\n",
    "df.head()"
   ]
  },
  {
   "cell_type": "code",
   "execution_count": 25,
   "metadata": {},
   "outputs": [],
   "source": [
    "df_result = df.groupby(['yil_ay', 'pid'])['Birlesik'].agg(sum).reset_index()\n",
    "df_result.head()\n",
    "df_result.to_csv('c:\\\\Users\\\\e580\\\\Desktop\\\\vision\\\\altinuyeler_fallar.csv', header=True, index=False)"
   ]
  },
  {
   "cell_type": "code",
   "execution_count": 4,
   "metadata": {},
   "outputs": [
    {
     "data": {
      "text/html": [
       "<div>\n",
       "<style scoped>\n",
       "    .dataframe tbody tr th:only-of-type {\n",
       "        vertical-align: middle;\n",
       "    }\n",
       "\n",
       "    .dataframe tbody tr th {\n",
       "        vertical-align: top;\n",
       "    }\n",
       "\n",
       "    .dataframe thead th {\n",
       "        text-align: right;\n",
       "    }\n",
       "</style>\n",
       "<table border=\"1\" class=\"dataframe\">\n",
       "  <thead>\n",
       "    <tr style=\"text-align: right;\">\n",
       "      <th></th>\n",
       "      <th>tablename</th>\n",
       "      <th>astro</th>\n",
       "      <th>astronatal</th>\n",
       "      <th>astrosinastri</th>\n",
       "      <th>astrosolar</th>\n",
       "      <th>durugoru</th>\n",
       "      <th>el</th>\n",
       "      <th>iskambil</th>\n",
       "      <th>kahve</th>\n",
       "      <th>katina</th>\n",
       "      <th>live</th>\n",
       "      <th>ruya</th>\n",
       "      <th>tarot</th>\n",
       "    </tr>\n",
       "    <tr>\n",
       "      <th>yil_ay</th>\n",
       "      <th>pid</th>\n",
       "      <th></th>\n",
       "      <th></th>\n",
       "      <th></th>\n",
       "      <th></th>\n",
       "      <th></th>\n",
       "      <th></th>\n",
       "      <th></th>\n",
       "      <th></th>\n",
       "      <th></th>\n",
       "      <th></th>\n",
       "      <th></th>\n",
       "      <th></th>\n",
       "    </tr>\n",
       "  </thead>\n",
       "  <tbody>\n",
       "    <tr>\n",
       "      <th rowspan=\"5\" valign=\"top\">202201</th>\n",
       "      <th>88</th>\n",
       "      <td>NaN</td>\n",
       "      <td>NaN</td>\n",
       "      <td>NaN</td>\n",
       "      <td>NaN</td>\n",
       "      <td>1.0</td>\n",
       "      <td>NaN</td>\n",
       "      <td>NaN</td>\n",
       "      <td>12.0</td>\n",
       "      <td>4.0</td>\n",
       "      <td>NaN</td>\n",
       "      <td>NaN</td>\n",
       "      <td>NaN</td>\n",
       "    </tr>\n",
       "    <tr>\n",
       "      <th>597</th>\n",
       "      <td>NaN</td>\n",
       "      <td>NaN</td>\n",
       "      <td>NaN</td>\n",
       "      <td>NaN</td>\n",
       "      <td>NaN</td>\n",
       "      <td>NaN</td>\n",
       "      <td>NaN</td>\n",
       "      <td>31.0</td>\n",
       "      <td>4.0</td>\n",
       "      <td>NaN</td>\n",
       "      <td>NaN</td>\n",
       "      <td>NaN</td>\n",
       "    </tr>\n",
       "    <tr>\n",
       "      <th>4066</th>\n",
       "      <td>NaN</td>\n",
       "      <td>NaN</td>\n",
       "      <td>NaN</td>\n",
       "      <td>NaN</td>\n",
       "      <td>NaN</td>\n",
       "      <td>NaN</td>\n",
       "      <td>NaN</td>\n",
       "      <td>24.0</td>\n",
       "      <td>1.0</td>\n",
       "      <td>NaN</td>\n",
       "      <td>NaN</td>\n",
       "      <td>9.0</td>\n",
       "    </tr>\n",
       "    <tr>\n",
       "      <th>4646</th>\n",
       "      <td>NaN</td>\n",
       "      <td>NaN</td>\n",
       "      <td>NaN</td>\n",
       "      <td>NaN</td>\n",
       "      <td>NaN</td>\n",
       "      <td>NaN</td>\n",
       "      <td>NaN</td>\n",
       "      <td>16.0</td>\n",
       "      <td>2.0</td>\n",
       "      <td>1.0</td>\n",
       "      <td>NaN</td>\n",
       "      <td>1.0</td>\n",
       "    </tr>\n",
       "    <tr>\n",
       "      <th>7628</th>\n",
       "      <td>NaN</td>\n",
       "      <td>NaN</td>\n",
       "      <td>NaN</td>\n",
       "      <td>NaN</td>\n",
       "      <td>24.0</td>\n",
       "      <td>NaN</td>\n",
       "      <td>NaN</td>\n",
       "      <td>NaN</td>\n",
       "      <td>3.0</td>\n",
       "      <td>NaN</td>\n",
       "      <td>3.0</td>\n",
       "      <td>4.0</td>\n",
       "    </tr>\n",
       "    <tr>\n",
       "      <th>...</th>\n",
       "      <th>...</th>\n",
       "      <td>...</td>\n",
       "      <td>...</td>\n",
       "      <td>...</td>\n",
       "      <td>...</td>\n",
       "      <td>...</td>\n",
       "      <td>...</td>\n",
       "      <td>...</td>\n",
       "      <td>...</td>\n",
       "      <td>...</td>\n",
       "      <td>...</td>\n",
       "      <td>...</td>\n",
       "      <td>...</td>\n",
       "    </tr>\n",
       "    <tr>\n",
       "      <th rowspan=\"5\" valign=\"top\">202206</th>\n",
       "      <th>2293785</th>\n",
       "      <td>NaN</td>\n",
       "      <td>NaN</td>\n",
       "      <td>NaN</td>\n",
       "      <td>NaN</td>\n",
       "      <td>1.0</td>\n",
       "      <td>NaN</td>\n",
       "      <td>NaN</td>\n",
       "      <td>NaN</td>\n",
       "      <td>1.0</td>\n",
       "      <td>NaN</td>\n",
       "      <td>NaN</td>\n",
       "      <td>NaN</td>\n",
       "    </tr>\n",
       "    <tr>\n",
       "      <th>2293945</th>\n",
       "      <td>NaN</td>\n",
       "      <td>NaN</td>\n",
       "      <td>NaN</td>\n",
       "      <td>NaN</td>\n",
       "      <td>NaN</td>\n",
       "      <td>NaN</td>\n",
       "      <td>NaN</td>\n",
       "      <td>2.0</td>\n",
       "      <td>1.0</td>\n",
       "      <td>NaN</td>\n",
       "      <td>NaN</td>\n",
       "      <td>7.0</td>\n",
       "    </tr>\n",
       "    <tr>\n",
       "      <th>2294548</th>\n",
       "      <td>NaN</td>\n",
       "      <td>NaN</td>\n",
       "      <td>NaN</td>\n",
       "      <td>NaN</td>\n",
       "      <td>1.0</td>\n",
       "      <td>NaN</td>\n",
       "      <td>NaN</td>\n",
       "      <td>NaN</td>\n",
       "      <td>NaN</td>\n",
       "      <td>4.0</td>\n",
       "      <td>NaN</td>\n",
       "      <td>NaN</td>\n",
       "    </tr>\n",
       "    <tr>\n",
       "      <th>2294576</th>\n",
       "      <td>NaN</td>\n",
       "      <td>NaN</td>\n",
       "      <td>NaN</td>\n",
       "      <td>NaN</td>\n",
       "      <td>2.0</td>\n",
       "      <td>NaN</td>\n",
       "      <td>NaN</td>\n",
       "      <td>NaN</td>\n",
       "      <td>NaN</td>\n",
       "      <td>NaN</td>\n",
       "      <td>NaN</td>\n",
       "      <td>NaN</td>\n",
       "    </tr>\n",
       "    <tr>\n",
       "      <th>2294669</th>\n",
       "      <td>NaN</td>\n",
       "      <td>NaN</td>\n",
       "      <td>NaN</td>\n",
       "      <td>NaN</td>\n",
       "      <td>NaN</td>\n",
       "      <td>NaN</td>\n",
       "      <td>NaN</td>\n",
       "      <td>NaN</td>\n",
       "      <td>NaN</td>\n",
       "      <td>2.0</td>\n",
       "      <td>NaN</td>\n",
       "      <td>NaN</td>\n",
       "    </tr>\n",
       "  </tbody>\n",
       "</table>\n",
       "<p>4561 rows × 12 columns</p>\n",
       "</div>"
      ],
      "text/plain": [
       "tablename       astro  astronatal  astrosinastri  astrosolar  durugoru  el  \\\n",
       "yil_ay pid                                                                   \n",
       "202201 88         NaN         NaN            NaN         NaN       1.0 NaN   \n",
       "       597        NaN         NaN            NaN         NaN       NaN NaN   \n",
       "       4066       NaN         NaN            NaN         NaN       NaN NaN   \n",
       "       4646       NaN         NaN            NaN         NaN       NaN NaN   \n",
       "       7628       NaN         NaN            NaN         NaN      24.0 NaN   \n",
       "...               ...         ...            ...         ...       ...  ..   \n",
       "202206 2293785    NaN         NaN            NaN         NaN       1.0 NaN   \n",
       "       2293945    NaN         NaN            NaN         NaN       NaN NaN   \n",
       "       2294548    NaN         NaN            NaN         NaN       1.0 NaN   \n",
       "       2294576    NaN         NaN            NaN         NaN       2.0 NaN   \n",
       "       2294669    NaN         NaN            NaN         NaN       NaN NaN   \n",
       "\n",
       "tablename       iskambil  kahve  katina  live  ruya  tarot  \n",
       "yil_ay pid                                                  \n",
       "202201 88            NaN   12.0     4.0   NaN   NaN    NaN  \n",
       "       597           NaN   31.0     4.0   NaN   NaN    NaN  \n",
       "       4066          NaN   24.0     1.0   NaN   NaN    9.0  \n",
       "       4646          NaN   16.0     2.0   1.0   NaN    1.0  \n",
       "       7628          NaN    NaN     3.0   NaN   3.0    4.0  \n",
       "...                  ...    ...     ...   ...   ...    ...  \n",
       "202206 2293785       NaN    NaN     1.0   NaN   NaN    NaN  \n",
       "       2293945       NaN    2.0     1.0   NaN   NaN    7.0  \n",
       "       2294548       NaN    NaN     NaN   4.0   NaN    NaN  \n",
       "       2294576       NaN    NaN     NaN   NaN   NaN    NaN  \n",
       "       2294669       NaN    NaN     NaN   2.0   NaN    NaN  \n",
       "\n",
       "[4561 rows x 12 columns]"
      ]
     },
     "execution_count": 4,
     "metadata": {},
     "output_type": "execute_result"
    }
   ],
   "source": [
    "df.pivot(index = ['yil_ay', 'pid'], columns = 'tablename')['baktirdigi_fal_sayisi']"
   ]
  },
  {
   "cell_type": "code",
   "execution_count": null,
   "metadata": {},
   "outputs": [],
   "source": [
    "df.pivot_table(index = ['yil_ay', 'pid'], columns = 'tablename')['baktirdigi_fal_sayisi']"
   ]
  },
  {
   "cell_type": "markdown",
   "metadata": {},
   "source": [
    "### Tuples"
   ]
  },
  {
   "cell_type": "code",
   "execution_count": 1,
   "metadata": {},
   "outputs": [
    {
     "name": "stdout",
     "output_type": "stream",
     "text": [
      "{'E', 'B'}\n",
      "{'B', 'D', 'E', 'A'}\n",
      "{'D', 'A'}\n",
      "set()\n"
     ]
    }
   ],
   "source": [
    "a = {\"A\", \"B\", \"C\", \"D\"}\n",
    "b = {\"B\", \"D\", \"E\"}\n",
    "c = {\"E\", \"B\", \"A\"}\n",
    "print(b & c)\n",
    "print(b|c)\n",
    "print(b^c)\n",
    "print((b^c) - a)"
   ]
  },
  {
   "cell_type": "markdown",
   "metadata": {},
   "source": [
    "### List Operations"
   ]
  },
  {
   "cell_type": "code",
   "execution_count": 2,
   "metadata": {},
   "outputs": [
    {
     "name": "stdout",
     "output_type": "stream",
     "text": [
      "[0, 1, 2, 3, 4, 5, 6, 7]\n",
      "[0, 1, 2, 0, 1, 2, 3, 4, 5, 6, 7]\n"
     ]
    }
   ],
   "source": [
    "a = list(range(3))\n",
    "b = list(range(8))\n",
    "print(b)\n",
    "print(a + b)"
   ]
  },
  {
   "cell_type": "code",
   "execution_count": 3,
   "metadata": {},
   "outputs": [
    {
     "name": "stdout",
     "output_type": "stream",
     "text": [
      "[0, 2, 4]\n",
      "3\n"
     ]
    }
   ],
   "source": [
    "k = list(map(\n",
    "    lambda x,y: x +y, \n",
    "    a,\n",
    "    b\n",
    "))\n",
    "print(k)\n",
    "print(len(k))"
   ]
  },
  {
   "cell_type": "code",
   "execution_count": 4,
   "metadata": {},
   "outputs": [
    {
     "name": "stdout",
     "output_type": "stream",
     "text": [
      "c\n",
      "a\n",
      "a\n"
     ]
    }
   ],
   "source": [
    "h = ['a', 'b', 'c']\n",
    "print(h[-1])\n",
    "print(h[-0])\n",
    "print(h[-3])"
   ]
  },
  {
   "cell_type": "code",
   "execution_count": null,
   "metadata": {},
   "outputs": [],
   "source": []
  }
 ],
 "metadata": {
  "interpreter": {
   "hash": "5e4e86a3eecc889cd4754624ee0ea47e3ffa0a208e3f68e60aa80b17c99935da"
  },
  "kernelspec": {
   "display_name": "Python 3.10.4 ('python_310env')",
   "language": "python",
   "name": "python3"
  },
  "language_info": {
   "codemirror_mode": {
    "name": "ipython",
    "version": 3
   },
   "file_extension": ".py",
   "mimetype": "text/x-python",
   "name": "python",
   "nbconvert_exporter": "python",
   "pygments_lexer": "ipython3",
   "version": "3.10.4"
  },
  "orig_nbformat": 4
 },
 "nbformat": 4,
 "nbformat_minor": 2
}
