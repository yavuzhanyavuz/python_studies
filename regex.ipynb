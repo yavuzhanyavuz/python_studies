{
 "cells": [
  {
   "cell_type": "code",
   "execution_count": null,
   "metadata": {},
   "outputs": [],
   "source": [
    "import re"
   ]
  },
  {
   "cell_type": "markdown",
   "metadata": {},
   "source": [
    "## Temel fonksiyonlar\n",
    "* ### Match: Karakterlerin tamamının eşleştiği yeri döner, yoksa returns None\n",
    "* ### Search Match'in ANYWHERE olanı\n",
    "* ### findall, returns a list of all substrings that match\n",
    "* #### raw strings don't escape anything, o yüzden pattern'ın başına r ekliyoruz \n"
   ]
  },
  {
   "cell_type": "code",
   "execution_count": null,
   "metadata": {},
   "outputs": [],
   "source": [
    "pattern = r\"spam\"\n",
    "print(re.match(pattern, \"spamista\"))\n",
    "print(re.match(pattern, \"pythonistaspamspam\"))\n",
    "print(re.match(pattern, \"pythonista spamspam\"))\n",
    "print(re.search(pattern, \"pythonista spamspam\"))\n",
    "print(re.findall(pattern, \"pythonista spamspam\"))\n",
    "print(re.findall(pattern, \"pythonista spamlastikspam\")) # bu ne amk"
   ]
  },
  {
   "cell_type": "markdown",
   "metadata": {},
   "source": [
    "birkaç fonksiyon daha"
   ]
  },
  {
   "cell_type": "code",
   "execution_count": null,
   "metadata": {},
   "outputs": [],
   "source": [
    "pattern = r\"pam\"\n",
    "match = re.search(pattern, \"python spamista\")\n",
    "print(match.group()) ## returns the string matched?????\n",
    "print(match.start())\n",
    "print(match.end())\n",
    "print(match.span())"
   ]
  },
  {
   "cell_type": "code",
   "execution_count": null,
   "metadata": {},
   "outputs": [],
   "source": [
    "pattern = r\"[tl]\"\n",
    "\n",
    "if re.search(pattern, \"bunu printler\"):\n",
    "    print(\"herhangi bir harf varsa printleyecek\")\n",
    "if re.search(pattern, \"buna no\"):\n",
    "    print(\"yalan olurrrr\")"
   ]
  },
  {
   "cell_type": "markdown",
   "metadata": {},
   "source": [
    "## SEARCH AND REPLACE"
   ]
  },
  {
   "cell_type": "code",
   "execution_count": null,
   "metadata": {},
   "outputs": [],
   "source": [
    "str = \"My name is Alex. Hi Niang.\"\n",
    "pattern = r\"Alex\"\n",
    "print(re.sub(pattern, \"Aykut\", str))"
   ]
  },
  {
   "cell_type": "markdown",
   "metadata": {},
   "source": [
    "## METACHARACTERS\n",
    "#### Apparently this is what makes REGEX powerful against alternatives.\n",
    ". == character yerine geçer  \n",
    "^ == string başı   \n",
    "$ == string sonu  "
   ]
  },
  {
   "cell_type": "code",
   "execution_count": null,
   "metadata": {},
   "outputs": [],
   "source": [
    "pattern = r\"gr.y\"\n",
    "print(re.match(pattern, \"grey\"))\n",
    "print(re.match(pattern, \"gray\"))\n",
    "print(re.match(pattern, \"blue\"))"
   ]
  },
  {
   "cell_type": "code",
   "execution_count": null,
   "metadata": {},
   "outputs": [],
   "source": [
    "pattern = r\"^gr.y$\"\n",
    "print(re.match(pattern, \"grey\"))\n",
    "print(re.match(pattern, \"dgray\"))\n",
    "print(re.match(pattern, \"grayed\"))"
   ]
  },
  {
   "cell_type": "markdown",
   "metadata": {},
   "source": [
    "### Character Classes\n",
    "\n",
    "[a-z] : any lowercase alphabetic character  \n",
    "[G-P] : any UPPERCASE alphabetic character between g and p  \n",
    "[0-9] : any digit  \n",
    "[A-Za-Z] : any letter\n",
    "\n",
    "Place a \"^\" AT THE BEGINNING on the pattern to invert it, yani exclude it. [^A-Z] yaparsan büyük harfleri almaz. Other metacharacters such as $ and . have no utility in character classes.  "
   ]
  },
  {
   "cell_type": "code",
   "execution_count": null,
   "metadata": {},
   "outputs": [],
   "source": [
    "pattern = r\"[mnl][str]\"\n",
    "\n",
    "if re.search(pattern, \"bunu printler\"):\n",
    "    print(\"harfler birbirinin tam arkasindan geliosa printleyecek\")\n",
    "if re.search(pattern, \"buna no\"):\n",
    "    print(\"yalan olurrrr\")"
   ]
  },
  {
   "cell_type": "code",
   "execution_count": null,
   "metadata": {},
   "outputs": [],
   "source": [
    "pattern = r\"[1-5][0-9]\"\n",
    "print(re.search(pattern, \"ayin 32. günü\"))\n",
    "print(re.search(pattern, \"ayin 3 ile 6. günü arasi\"))"
   ]
  },
  {
   "cell_type": "code",
   "execution_count": null,
   "metadata": {},
   "outputs": [],
   "source": [
    "pattern = r\"[^A-Z]\"\n",
    "print(re.search(pattern, \"ayin 32. günü\"))\n",
    "print(re.search(pattern, \"Rey\"))\n",
    "print(re.search(pattern, \"PUREPASSION\"))"
   ]
  },
  {
   "cell_type": "markdown",
   "metadata": {},
   "source": [
    "### More Metacharacters   \n",
    "\"*\" : zero or more repetitions of the previous thing which is shown between paranthesis.   \n",
    "\"+\" : one or more repetitiions  \n",
    "\"?\" : zero or one  \n",
    "yani hepsi curly bracesle yazılan şekilde şöyle oluyor  \n",
    "\"*\" = {0,}\n",
    "\"+\" = {1,}\n",
    "\"=\" = {0,1} or {,1}  \n",
    "example: \"9{1,3}$\" will match string that have 1 to 3 nines."
   ]
  },
  {
   "cell_type": "code",
   "execution_count": null,
   "metadata": {},
   "outputs": [],
   "source": [
    "pattern = r\"alex(gol)*\"\n",
    "print(re.search(pattern, \"alex\"))\n",
    "print(re.search(pattern, \"alexgolgolgol\"))\n",
    "print(re.search(pattern, \"alexgol alexgol alex out\"))\n",
    "print(re.search(pattern, \"alex vurdu ve out\"))"
   ]
  },
  {
   "cell_type": "markdown",
   "metadata": {},
   "source": [
    "### Groups"
   ]
  },
  {
   "cell_type": "markdown",
   "metadata": {},
   "source": [
    "Parantezle ifade edilir. Metacharacters'a argument olarak verilebilir.  \n",
    "r\"egg(spam)+\" --> egg followed by spam one or more times.  \n",
    "Content of groups in a match can be accessed using the group function. Index 1'den başlar, 0'dan değil.  \n",
    "group(0) == group() --> returns the whole match  \n"
   ]
  },
  {
   "cell_type": "code",
   "execution_count": null,
   "metadata": {},
   "outputs": [],
   "source": [
    "pattern = r\"a(bc)(de)(f(g)h)i\"\n",
    "\n",
    "match = re.match(pattern, \"abcdefghijklmnop\")\n",
    "if match:\n",
    "    print(match.group())\n",
    "    print(match.group(0))\n",
    "    print(match.group(1))\n",
    "    print(match.group(2))\n",
    "    print(match.groups())\n",
    "\n",
    "match = re.match(r\"1(23)(4(56)78)9(0)\", \"1234567890\")\n",
    "print('!!! \\ndikkaaaaaat, bakalim nasi count ediyomus')\n",
    "print(match.group(2))\n",
    "print(match.group(3)) \n",
    "print(match.group())"
   ]
  },
  {
   "cell_type": "code",
   "execution_count": null,
   "metadata": {},
   "outputs": [],
   "source": [
    "print(re.match(r\"1(23)(4(56)78)9(0)\", \"1234567890\"))\n",
    "print(re.match(r\"1(23)(4(56)78)9(0)\", \"14567890\"))\n",
    "print(re.match(r\"1(23)(4(56)78)9(0)\", \"124567890\"))\n",
    "print(re.match(r\"1(23)(4(56)78)9(0)\", \"123567890\"))\n",
    "print(re.match(r\"1(23)(4(56)78)9(0)\", \"123456789\"))"
   ]
  },
  {
   "cell_type": "markdown",
   "metadata": {},
   "source": [
    "bu paso none dönüyor none dönüyorsa da kod patlıyor genelde çok sinirlendim. Tüm harflerle kombinasyon yapıp sonuç dönen senaryoları döndüreceğim şimdi. "
   ]
  },
  {
   "cell_type": "code",
   "execution_count": null,
   "metadata": {},
   "outputs": [],
   "source": [
    "import itertools\n",
    "mylist = []\n",
    "for i in range(10):\n",
    "    mylist.append(str(i))\n",
    "\n",
    "mycombinations = itertools.permutations(mylist, len(mylist))\n",
    "print(list(mycombinations))"
   ]
  },
  {
   "cell_type": "code",
   "execution_count": null,
   "metadata": {},
   "outputs": [],
   "source": [
    "del mycombinations"
   ]
  },
  {
   "cell_type": "markdown",
   "metadata": {},
   "source": [
    "\\A is an anchor that says \"this string starts here\" so in other words no characters may may occure before \\A  \n",
    "\n",
    "\\< is an anchor that says \"string ends here\" --> no characters may occur after \\Z"
   ]
  },
  {
   "cell_type": "code",
   "execution_count": null,
   "metadata": {},
   "outputs": [],
   "source": [
    "import re \n",
    "###\n",
    "# mail validity check eden fonksiyon yazacağız. total 8 rakam olmalı, ilk rakam 1,8,9 olmalı. \n",
    "###\n",
    "def phone_validator(tel_no):\n",
    "    pass\n",
    "\n",
    "ornek_no = '100000000'\n",
    "\n",
    "pattern = r'([189][0-9])'\n",
    "pattern2 = r'(^[189][0-9]{8,8})'\n",
    "\n",
    "pattern2 = r'((1|8|9)([0-9]{7})$)'\n",
    "\n",
    "print(re.search(pattern2, str(ornek_no)))\n",
    "\n",
    "match = re.search(pattern2, str(ornek_no))\n",
    "\n",
    "if match:\n",
    "    print('valid')\n",
    "else:\n",
    "    print('invalid')\n",
    "\n"
   ]
  },
  {
   "cell_type": "code",
   "execution_count": null,
   "metadata": {},
   "outputs": [],
   "source": []
  }
 ],
 "metadata": {
  "interpreter": {
   "hash": "5e4e86a3eecc889cd4754624ee0ea47e3ffa0a208e3f68e60aa80b17c99935da"
  },
  "kernelspec": {
   "display_name": "Python 3.10.4 ('python_310env')",
   "language": "python",
   "name": "python3"
  },
  "language_info": {
   "codemirror_mode": {
    "name": "ipython",
    "version": 3
   },
   "file_extension": ".py",
   "mimetype": "text/x-python",
   "name": "python",
   "nbconvert_exporter": "python",
   "pygments_lexer": "ipython3",
   "version": "3.10.4"
  },
  "orig_nbformat": 4
 },
 "nbformat": 4,
 "nbformat_minor": 2
}
